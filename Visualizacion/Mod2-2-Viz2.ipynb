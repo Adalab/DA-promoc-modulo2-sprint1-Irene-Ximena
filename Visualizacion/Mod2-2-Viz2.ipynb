{
 "cells": [
  {
   "attachments": {},
   "cell_type": "markdown",
   "metadata": {},
   "source": [
    "## Pair Programming Visualización II\n",
    "\n",
    "Sigamos con más visualizaciones. En este caso trabajaremos con el csv que generamos en el ejercicio de pair programming de Pandas V, ese en el que habíamos unido distintos csv en uno.\n",
    "El objetivo de hoy, mejorar algunas de las gráficas que hicimos en el ejericio de pair programming de ayer y crear algunas nuevas aprovechando que tenemos algunas columnas nuevas en dataframe"
   ]
  },
  {
   "cell_type": "code",
   "execution_count": 1,
   "metadata": {},
   "outputs": [],
   "source": [
    "import matplotlib.pyplot as plt\n",
    "import numpy as np # Ya que usaremos algunas de sus funciones ;\n",
    "import pandas as pd"
   ]
  },
  {
   "cell_type": "code",
   "execution_count": 8,
   "metadata": {},
   "outputs": [
    {
     "data": {
      "text/html": [
       "<div>\n",
       "<style scoped>\n",
       "    .dataframe tbody tr th:only-of-type {\n",
       "        vertical-align: middle;\n",
       "    }\n",
       "\n",
       "    .dataframe tbody tr th {\n",
       "        vertical-align: top;\n",
       "    }\n",
       "\n",
       "    .dataframe thead th {\n",
       "        text-align: right;\n",
       "    }\n",
       "</style>\n",
       "<table border=\"1\" class=\"dataframe\">\n",
       "  <thead>\n",
       "    <tr style=\"text-align: right;\">\n",
       "      <th></th>\n",
       "      <th>case_number</th>\n",
       "      <th>year</th>\n",
       "      <th>type</th>\n",
       "      <th>country</th>\n",
       "      <th>area</th>\n",
       "      <th>location</th>\n",
       "      <th>activity</th>\n",
       "      <th>name</th>\n",
       "      <th>sex_</th>\n",
       "      <th>age</th>\n",
       "      <th>time</th>\n",
       "      <th>species_</th>\n",
       "      <th>href</th>\n",
       "      <th>fatal_(y/n)</th>\n",
       "      <th>injury</th>\n",
       "      <th>date</th>\n",
       "    </tr>\n",
       "  </thead>\n",
       "  <tbody>\n",
       "    <tr>\n",
       "      <th>0</th>\n",
       "      <td>2018.06.25</td>\n",
       "      <td>2018.0</td>\n",
       "      <td>Boating</td>\n",
       "      <td>USA</td>\n",
       "      <td>California</td>\n",
       "      <td>Oceanside, San Diego County</td>\n",
       "      <td>Paddling</td>\n",
       "      <td>Julie Wolfe</td>\n",
       "      <td>F</td>\n",
       "      <td>57</td>\n",
       "      <td>18h00</td>\n",
       "      <td>White shark</td>\n",
       "      <td>http://sharkattackfile.net/spreadsheets/pdf_di...</td>\n",
       "      <td>N</td>\n",
       "      <td>No injury to occupant, outrigger canoe and pad...</td>\n",
       "      <td>25-Jun-2018</td>\n",
       "    </tr>\n",
       "    <tr>\n",
       "      <th>1</th>\n",
       "      <td>2018.06.03.a</td>\n",
       "      <td>2018.0</td>\n",
       "      <td>Unprovoked</td>\n",
       "      <td>BRAZIL</td>\n",
       "      <td>Pernambuco</td>\n",
       "      <td>Piedade Beach, Recife</td>\n",
       "      <td>Swimming</td>\n",
       "      <td>Jose Ernesto da Silva</td>\n",
       "      <td>M</td>\n",
       "      <td>18</td>\n",
       "      <td>Late afternoon</td>\n",
       "      <td>Tiger shark</td>\n",
       "      <td>http://sharkattackfile.net/spreadsheets/pdf_di...</td>\n",
       "      <td>Y</td>\n",
       "      <td>FATAL</td>\n",
       "      <td>03-Jun-2018</td>\n",
       "    </tr>\n",
       "  </tbody>\n",
       "</table>\n",
       "</div>"
      ],
      "text/plain": [
       "    case_number    year        type country        area  \\\n",
       "0    2018.06.25  2018.0     Boating     USA  California   \n",
       "1  2018.06.03.a  2018.0  Unprovoked  BRAZIL  Pernambuco   \n",
       "\n",
       "                      location  activity                    name sex_ age  \\\n",
       "0  Oceanside, San Diego County  Paddling             Julie Wolfe    F  57   \n",
       "1        Piedade Beach, Recife  Swimming  Jose Ernesto da Silva     M  18   \n",
       "\n",
       "             time     species_  \\\n",
       "0           18h00  White shark   \n",
       "1  Late afternoon  Tiger shark   \n",
       "\n",
       "                                                href fatal_(y/n)  \\\n",
       "0  http://sharkattackfile.net/spreadsheets/pdf_di...           N   \n",
       "1  http://sharkattackfile.net/spreadsheets/pdf_di...           Y   \n",
       "\n",
       "                                              injury         date  \n",
       "0  No injury to occupant, outrigger canoe and pad...  25-Jun-2018  \n",
       "1                                              FATAL  03-Jun-2018  "
      ]
     },
     "execution_count": 8,
     "metadata": {},
     "output_type": "execute_result"
    }
   ],
   "source": [
    "df = pd.read_csv(\"../Panda/5.pandas_mergeado.csv\", index_col=0)\n",
    "df.head(2)"
   ]
  },
  {
   "attachments": {},
   "cell_type": "markdown",
   "metadata": {},
   "source": [
    "1. Ayer creamos un par de gráficas para USA y España, donde visualizamos el número de ataques en cada país a lo largo de los años y el tipo de los ataques. Hoy tendréis que hacer dos gráficas con subplots:"
   ]
  },
  {
   "cell_type": "code",
   "execution_count": 9,
   "metadata": {},
   "outputs": [
    {
     "data": {
      "text/plain": [
       "Index(['case_number', 'year', 'type', 'country', 'area', 'location',\n",
       "       'activity', 'name', 'sex_', 'age', 'time', 'species_', 'href',\n",
       "       'fatal_(y/n)', 'injury', 'date'],\n",
       "      dtype='object')"
      ]
     },
     "execution_count": 9,
     "metadata": {},
     "output_type": "execute_result"
    }
   ],
   "source": [
    "df.columns"
   ]
  },
  {
   "cell_type": "code",
   "execution_count": 11,
   "metadata": {},
   "outputs": [
    {
     "data": {
      "text/plain": [
       "array(['USA', 'BRAZIL', 'AUSTRALIA', 'ENGLAND', 'COSTA RICA', 'MALDIVES',\n",
       "       'SOUTH AFRICA', 'CUBA', 'SPAIN', 'BAHAMAS', 'INDONESIA', 'EGYPT',\n",
       "       'NEW ZEALAND', 'FRENCH POLYNESIA', 'NEW CALEDONIA', 'ECUADOR',\n",
       "       'THAILAND', 'REUNION', 'MEXICO', 'JAMAICA', 'ITALY',\n",
       "       'PAPUA NEW GUINEA', 'RUSSIA', 'SEYCHELLES', 'VIETNAM', 'GUAM',\n",
       "       'MOZAMBIQUE', 'SCOTLAND', 'UNITED KINGDOM', 'TAIWAN', 'CROATIA',\n",
       "       'FIJI', 'TONGA', 'ST. MAARTIN', 'GRAND CAYMAN', 'VANUATU',\n",
       "       'VENEZUELA', 'TURKS & CAICOS', 'OKINAWA', 'MARSHALL ISLANDS',\n",
       "       'MAURITIUS', 'HONG KONG', 'JAPAN', 'SOUTH KOREA', 'ISRAEL',\n",
       "       'MICRONESIA', 'COLUMBIA', 'NEW BRITAIN', 'PALAU',\n",
       "       'SOLOMON ISLANDS', 'FEDERATED STATES OF MICRONESIA', 'GREECE',\n",
       "       'BRITISH WEST INDIES', 'NORTH PACIFIC OCEAN', 'BERMUDA',\n",
       "       'PHILIPPINES', 'AMERICAN SAMOA', 'PACIFIC OCEAN', 'SENEGAL',\n",
       "       'ARGENTINA', 'EL SALVADOR', 'IRAQ', 'PANAMA', 'INDIA', nan,\n",
       "       'BARBADOS', 'MARTINIQUE', 'GUINEA', 'GREENLAND', 'FRANCE',\n",
       "       'MEDITERRANEAN SEA', 'SWEDEN', 'ICELAND', 'ROATAN',\n",
       "       'Between PORTUGAL & INDIA', 'CANADA', 'KENYA', 'URUGUAY',\n",
       "       'LEBANON', 'SUDAN', 'DJIBOUTI', 'LIBYA', 'SRI LANKA', 'BAHREIN',\n",
       "       'KOREA', 'IRAN', 'RED SEA?', 'SINGAPORE', 'MADAGASCAR',\n",
       "       'NICARAGUA', 'KIRIBATI', 'SAUDI ARABIA', 'BURMA', 'BELIZE',\n",
       "       'ASIA?', 'CEYLON (SRI LANKA)'], dtype=object)"
      ]
     },
     "execution_count": 11,
     "metadata": {},
     "output_type": "execute_result"
    }
   ],
   "source": [
    "df[\"country\"].unique()"
   ]
  },
  {
   "cell_type": "code",
   "execution_count": 15,
   "metadata": {},
   "outputs": [
    {
     "data": {
      "text/html": [
       "<div>\n",
       "<style scoped>\n",
       "    .dataframe tbody tr th:only-of-type {\n",
       "        vertical-align: middle;\n",
       "    }\n",
       "\n",
       "    .dataframe tbody tr th {\n",
       "        vertical-align: top;\n",
       "    }\n",
       "\n",
       "    .dataframe thead th {\n",
       "        text-align: right;\n",
       "    }\n",
       "</style>\n",
       "<table border=\"1\" class=\"dataframe\">\n",
       "  <thead>\n",
       "    <tr style=\"text-align: right;\">\n",
       "      <th></th>\n",
       "      <th>case_number</th>\n",
       "      <th>year</th>\n",
       "      <th>type</th>\n",
       "      <th>country</th>\n",
       "      <th>area</th>\n",
       "      <th>location</th>\n",
       "      <th>activity</th>\n",
       "      <th>name</th>\n",
       "      <th>sex_</th>\n",
       "      <th>age</th>\n",
       "      <th>time</th>\n",
       "      <th>species_</th>\n",
       "      <th>href</th>\n",
       "      <th>fatal_(y/n)</th>\n",
       "      <th>injury</th>\n",
       "      <th>date</th>\n",
       "    </tr>\n",
       "  </thead>\n",
       "  <tbody>\n",
       "    <tr>\n",
       "      <th>1662</th>\n",
       "      <td>ND.0010</td>\n",
       "      <td>0.0</td>\n",
       "      <td>Unprovoked</td>\n",
       "      <td>USA</td>\n",
       "      <td>Hawaii</td>\n",
       "      <td>Puna</td>\n",
       "      <td>NaN</td>\n",
       "      <td>A \"chiefess\"</td>\n",
       "      <td>F</td>\n",
       "      <td>NaN</td>\n",
       "      <td>NaN</td>\n",
       "      <td>NaN</td>\n",
       "      <td>http://sharkattackfile.net/spreadsheets/pdf_di...</td>\n",
       "      <td>N</td>\n",
       "      <td>Ankle bitten</td>\n",
       "      <td>Circa 1862</td>\n",
       "    </tr>\n",
       "    <tr>\n",
       "      <th>1669</th>\n",
       "      <td>ND.0003</td>\n",
       "      <td>0.0</td>\n",
       "      <td>Unprovoked</td>\n",
       "      <td>USA</td>\n",
       "      <td>North Carolina</td>\n",
       "      <td>Ocracoke Inlet</td>\n",
       "      <td>Swimming</td>\n",
       "      <td>Coast Guard personnel</td>\n",
       "      <td>M</td>\n",
       "      <td>NaN</td>\n",
       "      <td>NaN</td>\n",
       "      <td>NaN</td>\n",
       "      <td>http://sharkattackfile.net/spreadsheets/pdf_di...</td>\n",
       "      <td>Y</td>\n",
       "      <td>FATAL</td>\n",
       "      <td>1900-1905</td>\n",
       "    </tr>\n",
       "  </tbody>\n",
       "</table>\n",
       "</div>"
      ],
      "text/plain": [
       "     case_number  year        type country            area        location  \\\n",
       "1662     ND.0010   0.0  Unprovoked     USA          Hawaii            Puna   \n",
       "1669     ND.0003   0.0  Unprovoked     USA  North Carolina  Ocracoke Inlet   \n",
       "\n",
       "      activity                   name sex_  age time species_  \\\n",
       "1662       NaN           A \"chiefess\"    F  NaN  NaN      NaN   \n",
       "1669  Swimming  Coast Guard personnel    M  NaN  NaN      NaN   \n",
       "\n",
       "                                                   href fatal_(y/n)  \\\n",
       "1662  http://sharkattackfile.net/spreadsheets/pdf_di...           N   \n",
       "1669  http://sharkattackfile.net/spreadsheets/pdf_di...           Y   \n",
       "\n",
       "            injury        date  \n",
       "1662  Ankle bitten  Circa 1862  \n",
       "1669         FATAL   1900-1905  "
      ]
     },
     "execution_count": 15,
     "metadata": {},
     "output_type": "execute_result"
    }
   ],
   "source": [
    "df_us_es = df[(df[\"country\"]==\"USA\") | (df[\"country\"]==\"SPAIN\")]\n",
    "df_us_es.tail(2)"
   ]
  },
  {
   "cell_type": "code",
   "execution_count": 12,
   "metadata": {},
   "outputs": [
    {
     "data": {
      "text/plain": [
       "array(['USA', 'SPAIN'], dtype=object)"
      ]
     },
     "execution_count": 12,
     "metadata": {},
     "output_type": "execute_result"
    }
   ],
   "source": [
    "df_us_es[\"country\"].unique()"
   ]
  },
  {
   "attachments": {},
   "cell_type": "markdown",
   "metadata": {},
   "source": [
    "1.1 En la primera debéis mostrar los tipos ataques en USA y España, cada subplot corresponderá a un país. Debéis:"
   ]
  },
  {
   "cell_type": "code",
   "execution_count": 23,
   "metadata": {},
   "outputs": [],
   "source": [
    "df_country= df_us_es.groupby(\"country\")\n",
    "df_usa =df_country.get_group(\"USA\")\n",
    "df_spain = df_country.get_group(\"SPAIN\")"
   ]
  },
  {
   "cell_type": "code",
   "execution_count": 65,
   "metadata": {},
   "outputs": [
    {
     "data": {
      "text/html": [
       "<div>\n",
       "<style scoped>\n",
       "    .dataframe tbody tr th:only-of-type {\n",
       "        vertical-align: middle;\n",
       "    }\n",
       "\n",
       "    .dataframe tbody tr th {\n",
       "        vertical-align: top;\n",
       "    }\n",
       "\n",
       "    .dataframe thead th {\n",
       "        text-align: right;\n",
       "    }\n",
       "</style>\n",
       "<table border=\"1\" class=\"dataframe\">\n",
       "  <thead>\n",
       "    <tr style=\"text-align: right;\">\n",
       "      <th></th>\n",
       "      <th>case_number</th>\n",
       "      <th>year</th>\n",
       "      <th>type</th>\n",
       "      <th>country</th>\n",
       "      <th>area</th>\n",
       "      <th>location</th>\n",
       "      <th>activity</th>\n",
       "      <th>name</th>\n",
       "      <th>sex_</th>\n",
       "      <th>age</th>\n",
       "      <th>time</th>\n",
       "      <th>species_</th>\n",
       "      <th>href</th>\n",
       "      <th>fatal_(y/n)</th>\n",
       "      <th>injury</th>\n",
       "      <th>date</th>\n",
       "    </tr>\n",
       "  </thead>\n",
       "  <tbody>\n",
       "    <tr>\n",
       "      <th>0</th>\n",
       "      <td>2018.06.25</td>\n",
       "      <td>2018.0</td>\n",
       "      <td>Boating</td>\n",
       "      <td>USA</td>\n",
       "      <td>California</td>\n",
       "      <td>Oceanside, San Diego County</td>\n",
       "      <td>Paddling</td>\n",
       "      <td>Julie Wolfe</td>\n",
       "      <td>F</td>\n",
       "      <td>57</td>\n",
       "      <td>18h00</td>\n",
       "      <td>White shark</td>\n",
       "      <td>http://sharkattackfile.net/spreadsheets/pdf_di...</td>\n",
       "      <td>N</td>\n",
       "      <td>No injury to occupant, outrigger canoe and pad...</td>\n",
       "      <td>25-Jun-2018</td>\n",
       "    </tr>\n",
       "    <tr>\n",
       "      <th>2</th>\n",
       "      <td>2018.05.26.b</td>\n",
       "      <td>2018.0</td>\n",
       "      <td>Unprovoked</td>\n",
       "      <td>USA</td>\n",
       "      <td>Florida</td>\n",
       "      <td>Cocoa Beach, Brevard  County</td>\n",
       "      <td>Walking</td>\n",
       "      <td>Cody High</td>\n",
       "      <td>M</td>\n",
       "      <td>15</td>\n",
       "      <td>17h00</td>\n",
       "      <td>Bull shark, 6'</td>\n",
       "      <td>http://sharkattackfile.net/spreadsheets/pdf_di...</td>\n",
       "      <td>N</td>\n",
       "      <td>Lower left leg bitten</td>\n",
       "      <td>26-May-2018</td>\n",
       "    </tr>\n",
       "    <tr>\n",
       "      <th>29</th>\n",
       "      <td>2017.08.26.b</td>\n",
       "      <td>2017.0</td>\n",
       "      <td>Invalid</td>\n",
       "      <td>SPAIN</td>\n",
       "      <td>Castellón</td>\n",
       "      <td>Grao de Moncofa</td>\n",
       "      <td>Swimming</td>\n",
       "      <td>female</td>\n",
       "      <td>F</td>\n",
       "      <td>11</td>\n",
       "      <td>Midday</td>\n",
       "      <td>Shark involvement questionable</td>\n",
       "      <td>http://sharkattackfile.net/spreadsheets/pdf_di...</td>\n",
       "      <td>NaN</td>\n",
       "      <td>Lacerations to left foot</td>\n",
       "      <td>26-Aug-2017</td>\n",
       "    </tr>\n",
       "    <tr>\n",
       "      <th>59</th>\n",
       "      <td>2016.07.29</td>\n",
       "      <td>2016.0</td>\n",
       "      <td>Unprovoked</td>\n",
       "      <td>SPAIN</td>\n",
       "      <td>Alicante Province</td>\n",
       "      <td>Arenales del Sol</td>\n",
       "      <td>Swimming</td>\n",
       "      <td>male</td>\n",
       "      <td>M</td>\n",
       "      <td>40</td>\n",
       "      <td>11h30</td>\n",
       "      <td>Blue shark</td>\n",
       "      <td>http://sharkattackfile.net/spreadsheets/pdf_di...</td>\n",
       "      <td>N</td>\n",
       "      <td>Lacerations to right hand</td>\n",
       "      <td>29-Jul-2016</td>\n",
       "    </tr>\n",
       "  </tbody>\n",
       "</table>\n",
       "</div>"
      ],
      "text/plain": [
       "     case_number    year        type country               area  \\\n",
       "0     2018.06.25  2018.0     Boating     USA         California   \n",
       "2   2018.05.26.b  2018.0  Unprovoked     USA            Florida   \n",
       "29  2017.08.26.b  2017.0     Invalid   SPAIN          Castellón   \n",
       "59    2016.07.29  2016.0  Unprovoked   SPAIN  Alicante Province   \n",
       "\n",
       "                        location  activity         name sex_ age    time  \\\n",
       "0    Oceanside, San Diego County  Paddling  Julie Wolfe    F  57   18h00   \n",
       "2   Cocoa Beach, Brevard  County   Walking    Cody High    M  15   17h00   \n",
       "29               Grao de Moncofa  Swimming       female    F  11  Midday   \n",
       "59              Arenales del Sol  Swimming         male    M  40   11h30   \n",
       "\n",
       "                          species_  \\\n",
       "0                      White shark   \n",
       "2                   Bull shark, 6'   \n",
       "29  Shark involvement questionable   \n",
       "59                      Blue shark   \n",
       "\n",
       "                                                 href fatal_(y/n)  \\\n",
       "0   http://sharkattackfile.net/spreadsheets/pdf_di...           N   \n",
       "2   http://sharkattackfile.net/spreadsheets/pdf_di...           N   \n",
       "29  http://sharkattackfile.net/spreadsheets/pdf_di...         NaN   \n",
       "59  http://sharkattackfile.net/spreadsheets/pdf_di...           N   \n",
       "\n",
       "                                               injury         date  \n",
       "0   No injury to occupant, outrigger canoe and pad...  25-Jun-2018  \n",
       "2                               Lower left leg bitten  26-May-2018  \n",
       "29                           Lacerations to left foot  26-Aug-2017  \n",
       "59                          Lacerations to right hand  29-Jul-2016  "
      ]
     },
     "execution_count": 65,
     "metadata": {},
     "output_type": "execute_result"
    }
   ],
   "source": [
    "df_country.head(2)"
   ]
  },
  {
   "cell_type": "code",
   "execution_count": 24,
   "metadata": {},
   "outputs": [
    {
     "data": {
      "text/html": [
       "<div>\n",
       "<style scoped>\n",
       "    .dataframe tbody tr th:only-of-type {\n",
       "        vertical-align: middle;\n",
       "    }\n",
       "\n",
       "    .dataframe tbody tr th {\n",
       "        vertical-align: top;\n",
       "    }\n",
       "\n",
       "    .dataframe thead th {\n",
       "        text-align: right;\n",
       "    }\n",
       "</style>\n",
       "<table border=\"1\" class=\"dataframe\">\n",
       "  <thead>\n",
       "    <tr style=\"text-align: right;\">\n",
       "      <th></th>\n",
       "      <th>case_number</th>\n",
       "      <th>year</th>\n",
       "      <th>type</th>\n",
       "      <th>country</th>\n",
       "      <th>area</th>\n",
       "      <th>location</th>\n",
       "      <th>activity</th>\n",
       "      <th>name</th>\n",
       "      <th>sex_</th>\n",
       "      <th>age</th>\n",
       "      <th>time</th>\n",
       "      <th>species_</th>\n",
       "      <th>href</th>\n",
       "      <th>fatal_(y/n)</th>\n",
       "      <th>injury</th>\n",
       "      <th>date</th>\n",
       "    </tr>\n",
       "  </thead>\n",
       "  <tbody>\n",
       "    <tr>\n",
       "      <th>29</th>\n",
       "      <td>2017.08.26.b</td>\n",
       "      <td>2017.0</td>\n",
       "      <td>Invalid</td>\n",
       "      <td>SPAIN</td>\n",
       "      <td>Castellón</td>\n",
       "      <td>Grao de Moncofa</td>\n",
       "      <td>Swimming</td>\n",
       "      <td>female</td>\n",
       "      <td>F</td>\n",
       "      <td>11</td>\n",
       "      <td>Midday</td>\n",
       "      <td>Shark involvement questionable</td>\n",
       "      <td>http://sharkattackfile.net/spreadsheets/pdf_di...</td>\n",
       "      <td>NaN</td>\n",
       "      <td>Lacerations to left foot</td>\n",
       "      <td>26-Aug-2017</td>\n",
       "    </tr>\n",
       "    <tr>\n",
       "      <th>59</th>\n",
       "      <td>2016.07.29</td>\n",
       "      <td>2016.0</td>\n",
       "      <td>Unprovoked</td>\n",
       "      <td>SPAIN</td>\n",
       "      <td>Alicante Province</td>\n",
       "      <td>Arenales del Sol</td>\n",
       "      <td>Swimming</td>\n",
       "      <td>male</td>\n",
       "      <td>M</td>\n",
       "      <td>40</td>\n",
       "      <td>11h30</td>\n",
       "      <td>Blue shark</td>\n",
       "      <td>http://sharkattackfile.net/spreadsheets/pdf_di...</td>\n",
       "      <td>N</td>\n",
       "      <td>Lacerations to right hand</td>\n",
       "      <td>29-Jul-2016</td>\n",
       "    </tr>\n",
       "  </tbody>\n",
       "</table>\n",
       "</div>"
      ],
      "text/plain": [
       "     case_number    year        type country               area  \\\n",
       "29  2017.08.26.b  2017.0     Invalid   SPAIN          Castellón   \n",
       "59    2016.07.29  2016.0  Unprovoked   SPAIN  Alicante Province   \n",
       "\n",
       "            location  activity    name sex_ age    time  \\\n",
       "29   Grao de Moncofa  Swimming  female    F  11  Midday   \n",
       "59  Arenales del Sol  Swimming    male    M  40   11h30   \n",
       "\n",
       "                          species_  \\\n",
       "29  Shark involvement questionable   \n",
       "59                      Blue shark   \n",
       "\n",
       "                                                 href fatal_(y/n)  \\\n",
       "29  http://sharkattackfile.net/spreadsheets/pdf_di...         NaN   \n",
       "59  http://sharkattackfile.net/spreadsheets/pdf_di...           N   \n",
       "\n",
       "                       injury         date  \n",
       "29   Lacerations to left foot  26-Aug-2017  \n",
       "59  Lacerations to right hand  29-Jul-2016  "
      ]
     },
     "execution_count": 24,
     "metadata": {},
     "output_type": "execute_result"
    }
   ],
   "source": [
    "df_spain.head(2)"
   ]
  },
  {
   "cell_type": "code",
   "execution_count": 34,
   "metadata": {},
   "outputs": [
    {
     "data": {
      "text/plain": [
       "Unprovoked      632\n",
       "Provoked         49\n",
       "Invalid          48\n",
       "Boating          11\n",
       "Sea Disaster      1\n",
       "Name: type, dtype: int64"
      ]
     },
     "execution_count": 34,
     "metadata": {},
     "output_type": "execute_result"
    }
   ],
   "source": [
    "df_usa[\"type\"].value_counts()"
   ]
  },
  {
   "cell_type": "code",
   "execution_count": 66,
   "metadata": {},
   "outputs": [
    {
     "data": {
      "image/png": "[encoded data removed]",
      "text/plain": [
       "<Figure size 1500x500 with 2 Axes>"
      ]
     },
     "metadata": {},
     "output_type": "display_data"
    }
   ],
   "source": [
    "# utilizando los distintos elementos del array \"ax\" iremos definiendo nuestras gráficas\n",
    "# establacemos nuestra gráfica que va a estar compuesta por dos figuras\n",
    "fig,ax = plt.subplots(1,2, figsize=(15,5))\n",
    "\n",
    "# creamos un diccionario donde establecemos los colores que vamos a querer para cada una de las especies. \n",
    "# colors = {'Iris-virginica':'blue', 'Iris-setosa':'orange', 'Iris-versicolor':'green'}\n",
    "\n",
    "\n",
    "# en el array 0 de nuestro ax querremos la siguiente gráfica\n",
    "ax[0].hist(x=df_usa[\"type\"], facecolor=\"tab:blue\", edgecolor= \"black\", bins=10)\n",
    "\n",
    "\n",
    "# en el array 1 de nuestro ax querremos la siguiente gráfica\n",
    "ax[1].hist(x=df_spain[\"type\"], facecolor=\"tab:orange\", edgecolor= \"black\", bins=10)\n",
    "\n",
    "# para poner los títulos usaremos el método set_title\n",
    "ax[0].set_title(\"Histograma de tipo de ataques en Estados Unidos\")\n",
    "ax[1].set_title(\"Histograma de tipo de ataques en España\")\n",
    "\n",
    "# cambiamos el nombre de los ejes x e y\n",
    "ax[0].set_xlabel(\"Tipo\")\n",
    "ax[0].set_ylabel(\"Número de ataques\")\n",
    "\n",
    "ax[1].set_xlabel(\"Tipo\")\n",
    "ax[1].set_ylabel(\"Número de ataques\")\n",
    "\n",
    "# establecemos la cuadrícula y la ponemos de color violeta\n",
    "# ax[1].grid(color = \"black\", linestyle = \"--\")\n",
    "\n",
    "# mostramos lo que nos devuelve esto: \n",
    "plt.show()"
   ]
  },
  {
   "attachments": {},
   "cell_type": "markdown",
   "metadata": {},
   "source": [
    "Para este tipo de gráfico no aplica cambio de marcador. Se realizaría con marker= \"D\""
   ]
  },
  {
   "attachments": {},
   "cell_type": "markdown",
   "metadata": {},
   "source": [
    "1.2 En la segunda debéis mostrar los ataques por año para cada uno de los países.\n",
    "De nuevo tendréis que ponerle nombre a los ejes y título a cada gráfica.\n",
    "En este caso el subplot deberá tener dos filas y una columna\n",
    "No incluir leyenda\n",
    "Cambiar el color de las barras"
   ]
  },
  {
   "cell_type": "code",
   "execution_count": 81,
   "metadata": {},
   "outputs": [],
   "source": [
    "x = df_usa[\"year\"].value_counts()"
   ]
  },
  {
   "cell_type": "code",
   "execution_count": 88,
   "metadata": {},
   "outputs": [
    {
     "data": {
      "text/plain": [
       "2017.0    1\n",
       "2016.0    1\n",
       "2015.0    1\n",
       "2010.0    1\n",
       "1993.0    1\n",
       "1764.0    1\n",
       "0.0       1\n",
       "Name: year, dtype: int64"
      ]
     },
     "execution_count": 88,
     "metadata": {},
     "output_type": "execute_result"
    }
   ],
   "source": [
    "df_spain[\"year\"].value_counts()"
   ]
  },
  {
   "cell_type": "code",
   "execution_count": 82,
   "metadata": {},
   "outputs": [
    {
     "data": {
      "text/plain": [
       "2015.0    39\n",
       "2002.0    37\n",
       "2007.0    35\n",
       "2012.0    31\n",
       "2003.0    31\n",
       "          ..\n",
       "1948.0     1\n",
       "1950.0     1\n",
       "1952.0     1\n",
       "1953.0     1\n",
       "1947.0     1\n",
       "Name: year, Length: 76, dtype: int64"
      ]
     },
     "execution_count": 82,
     "metadata": {},
     "output_type": "execute_result"
    }
   ],
   "source": [
    "x"
   ]
  },
  {
   "cell_type": "code",
   "execution_count": 85,
   "metadata": {},
   "outputs": [
    {
     "data": {
      "image/png": "[encoded data removed]",
      "text/plain": [
       "<Figure size 1500x1200 with 2 Axes>"
      ]
     },
     "metadata": {},
     "output_type": "display_data"
    }
   ],
   "source": [
    "# utilizando los distintos elementos del array \"ax\" iremos definiendo nuestras gráficas\n",
    "# establacemos nuestra gráfica que va a estar compuesta por dos figuras\n",
    "fig,ax = plt.subplots(2,1, figsize=(15,12))\n",
    "\n",
    "# creamos un diccionario donde establecemos los colores que vamos a querer para cada una de las especies. \n",
    "# colors = {'Iris-virginica':'blue', 'Iris-setosa':'orange', 'Iris-versicolor':'green'}\n",
    "\n",
    "\n",
    "# en el array 0 de nuestro ax querremos la siguiente gráfica\n",
    "ax[0].hist(x=df_usa[\"year\"].value_counts(), facecolor=\"tab:blue\", edgecolor= \"black\", bins=10)\n",
    "\n",
    "\n",
    "# en el array 1 de nuestro ax querremos la siguiente gráfica\n",
    "ax[1].hist(x=df_spain[\"year\"].value_counts(), facecolor=\"tab:orange\", edgecolor= \"black\", bins=10)\n",
    "\n",
    "# para poner los títulos usaremos el método set_title\n",
    "ax[0].set_title(\"Histograma de Años de ataques en Estados Unidos\")\n",
    "ax[1].set_title(\"Histograma de tipo de ataques en España\")\n",
    "\n",
    "# cambiamos el nombre de los ejes x e y\n",
    "ax[0].set_xlabel(\"Año\")\n",
    "ax[0].set_ylabel(\"Número de ataques\")\n",
    "\n",
    "ax[1].set_xlabel(\"Año\")\n",
    "ax[1].set_ylabel(\"Número de ataques\")\n",
    "\n",
    "# establecemos la cuadrícula y la ponemos de color violeta\n",
    "# ax[1].grid(color = \"black\", linestyle = \"--\")\n",
    "\n",
    "# mostramos lo que nos devuelve esto: \n",
    "plt.show()"
   ]
  },
  {
   "attachments": {},
   "cell_type": "markdown",
   "metadata": {},
   "source": [
    "2. Cread un único gráfico donde juntéis las gráficas de los tipos de ataques en una sola. Debéis:\n",
    "- Poner leyenda a la gráfica\n",
    "- Cada línea debe ir en un color\n",
    "- Ponerle nombre a los ejes y a la gráfica.\n",
    "- Poner marcadores a las lineas."
   ]
  },
  {
   "cell_type": "code",
   "execution_count": 94,
   "metadata": {},
   "outputs": [
    {
     "ename": "ValueError",
     "evalue": "x and y must be the same size",
     "output_type": "error",
     "traceback": [
      "\u001b[0;31m---------------------------------------------------------------------------\u001b[0m",
      "\u001b[0;31mValueError\u001b[0m                                Traceback (most recent call last)",
      "\u001b[0;32m/tmp/ipykernel_533/1554616235.py\u001b[0m in \u001b[0;36m<module>\u001b[0;34m\u001b[0m\n\u001b[1;32m      1\u001b[0m \u001b[0mplt\u001b[0m\u001b[0;34m.\u001b[0m\u001b[0mfigure\u001b[0m\u001b[0;34m(\u001b[0m\u001b[0;34m)\u001b[0m\u001b[0;34m\u001b[0m\u001b[0;34m\u001b[0m\u001b[0m\n\u001b[1;32m      2\u001b[0m \u001b[0;34m\u001b[0m\u001b[0m\n\u001b[0;32m----> 3\u001b[0;31m \u001b[0mplt\u001b[0m\u001b[0;34m.\u001b[0m\u001b[0mscatter\u001b[0m\u001b[0;34m(\u001b[0m\u001b[0mdf_us_es\u001b[0m\u001b[0;34m[\u001b[0m\u001b[0;34m\"country\"\u001b[0m\u001b[0;34m]\u001b[0m\u001b[0;34m,\u001b[0m\u001b[0mdf_usa\u001b[0m\u001b[0;34m[\u001b[0m\u001b[0;34m\"type\"\u001b[0m\u001b[0;34m]\u001b[0m\u001b[0;34m)\u001b[0m\u001b[0;34m\u001b[0m\u001b[0;34m\u001b[0m\u001b[0m\n\u001b[0m\u001b[1;32m      4\u001b[0m \u001b[0;34m\u001b[0m\u001b[0m\n\u001b[1;32m      5\u001b[0m \u001b[0mplt\u001b[0m\u001b[0;34m.\u001b[0m\u001b[0mshow\u001b[0m\u001b[0;34m(\u001b[0m\u001b[0;34m)\u001b[0m\u001b[0;34m\u001b[0m\u001b[0;34m\u001b[0m\u001b[0m\n",
      "\u001b[0;32m~/anaconda3/lib/python3.9/site-packages/matplotlib/pyplot.py\u001b[0m in \u001b[0;36mscatter\u001b[0;34m(x, y, s, c, marker, cmap, norm, vmin, vmax, alpha, linewidths, edgecolors, plotnonfinite, data, **kwargs)\u001b[0m\n\u001b[1;32m   3066\u001b[0m         \u001b[0mvmin\u001b[0m\u001b[0;34m=\u001b[0m\u001b[0;32mNone\u001b[0m\u001b[0;34m,\u001b[0m \u001b[0mvmax\u001b[0m\u001b[0;34m=\u001b[0m\u001b[0;32mNone\u001b[0m\u001b[0;34m,\u001b[0m \u001b[0malpha\u001b[0m\u001b[0;34m=\u001b[0m\u001b[0;32mNone\u001b[0m\u001b[0;34m,\u001b[0m \u001b[0mlinewidths\u001b[0m\u001b[0;34m=\u001b[0m\u001b[0;32mNone\u001b[0m\u001b[0;34m,\u001b[0m \u001b[0;34m*\u001b[0m\u001b[0;34m,\u001b[0m\u001b[0;34m\u001b[0m\u001b[0;34m\u001b[0m\u001b[0m\n\u001b[1;32m   3067\u001b[0m         edgecolors=None, plotnonfinite=False, data=None, **kwargs):\n\u001b[0;32m-> 3068\u001b[0;31m     __ret = gca().scatter(\n\u001b[0m\u001b[1;32m   3069\u001b[0m         \u001b[0mx\u001b[0m\u001b[0;34m,\u001b[0m \u001b[0my\u001b[0m\u001b[0;34m,\u001b[0m \u001b[0ms\u001b[0m\u001b[0;34m=\u001b[0m\u001b[0ms\u001b[0m\u001b[0;34m,\u001b[0m \u001b[0mc\u001b[0m\u001b[0;34m=\u001b[0m\u001b[0mc\u001b[0m\u001b[0;34m,\u001b[0m \u001b[0mmarker\u001b[0m\u001b[0;34m=\u001b[0m\u001b[0mmarker\u001b[0m\u001b[0;34m,\u001b[0m \u001b[0mcmap\u001b[0m\u001b[0;34m=\u001b[0m\u001b[0mcmap\u001b[0m\u001b[0;34m,\u001b[0m \u001b[0mnorm\u001b[0m\u001b[0;34m=\u001b[0m\u001b[0mnorm\u001b[0m\u001b[0;34m,\u001b[0m\u001b[0;34m\u001b[0m\u001b[0;34m\u001b[0m\u001b[0m\n\u001b[1;32m   3070\u001b[0m         \u001b[0mvmin\u001b[0m\u001b[0;34m=\u001b[0m\u001b[0mvmin\u001b[0m\u001b[0;34m,\u001b[0m \u001b[0mvmax\u001b[0m\u001b[0;34m=\u001b[0m\u001b[0mvmax\u001b[0m\u001b[0;34m,\u001b[0m \u001b[0malpha\u001b[0m\u001b[0;34m=\u001b[0m\u001b[0malpha\u001b[0m\u001b[0;34m,\u001b[0m \u001b[0mlinewidths\u001b[0m\u001b[0;34m=\u001b[0m\u001b[0mlinewidths\u001b[0m\u001b[0;34m,\u001b[0m\u001b[0;34m\u001b[0m\u001b[0;34m\u001b[0m\u001b[0m\n",
      "\u001b[0;32m~/anaconda3/lib/python3.9/site-packages/matplotlib/__init__.py\u001b[0m in \u001b[0;36minner\u001b[0;34m(ax, data, *args, **kwargs)\u001b[0m\n\u001b[1;32m   1359\u001b[0m     \u001b[0;32mdef\u001b[0m \u001b[0minner\u001b[0m\u001b[0;34m(\u001b[0m\u001b[0max\u001b[0m\u001b[0;34m,\u001b[0m \u001b[0;34m*\u001b[0m\u001b[0margs\u001b[0m\u001b[0;34m,\u001b[0m \u001b[0mdata\u001b[0m\u001b[0;34m=\u001b[0m\u001b[0;32mNone\u001b[0m\u001b[0;34m,\u001b[0m \u001b[0;34m**\u001b[0m\u001b[0mkwargs\u001b[0m\u001b[0;34m)\u001b[0m\u001b[0;34m:\u001b[0m\u001b[0;34m\u001b[0m\u001b[0;34m\u001b[0m\u001b[0m\n\u001b[1;32m   1360\u001b[0m         \u001b[0;32mif\u001b[0m \u001b[0mdata\u001b[0m \u001b[0;32mis\u001b[0m \u001b[0;32mNone\u001b[0m\u001b[0;34m:\u001b[0m\u001b[0;34m\u001b[0m\u001b[0;34m\u001b[0m\u001b[0m\n\u001b[0;32m-> 1361\u001b[0;31m             \u001b[0;32mreturn\u001b[0m \u001b[0mfunc\u001b[0m\u001b[0;34m(\u001b[0m\u001b[0max\u001b[0m\u001b[0;34m,\u001b[0m \u001b[0;34m*\u001b[0m\u001b[0mmap\u001b[0m\u001b[0;34m(\u001b[0m\u001b[0msanitize_sequence\u001b[0m\u001b[0;34m,\u001b[0m \u001b[0margs\u001b[0m\u001b[0;34m)\u001b[0m\u001b[0;34m,\u001b[0m \u001b[0;34m**\u001b[0m\u001b[0mkwargs\u001b[0m\u001b[0;34m)\u001b[0m\u001b[0;34m\u001b[0m\u001b[0;34m\u001b[0m\u001b[0m\n\u001b[0m\u001b[1;32m   1362\u001b[0m \u001b[0;34m\u001b[0m\u001b[0m\n\u001b[1;32m   1363\u001b[0m         \u001b[0mbound\u001b[0m \u001b[0;34m=\u001b[0m \u001b[0mnew_sig\u001b[0m\u001b[0;34m.\u001b[0m\u001b[0mbind\u001b[0m\u001b[0;34m(\u001b[0m\u001b[0max\u001b[0m\u001b[0;34m,\u001b[0m \u001b[0;34m*\u001b[0m\u001b[0margs\u001b[0m\u001b[0;34m,\u001b[0m \u001b[0;34m**\u001b[0m\u001b[0mkwargs\u001b[0m\u001b[0;34m)\u001b[0m\u001b[0;34m\u001b[0m\u001b[0;34m\u001b[0m\u001b[0m\n",
      "\u001b[0;32m~/anaconda3/lib/python3.9/site-packages/matplotlib/axes/_axes.py\u001b[0m in \u001b[0;36mscatter\u001b[0;34m(self, x, y, s, c, marker, cmap, norm, vmin, vmax, alpha, linewidths, edgecolors, plotnonfinite, **kwargs)\u001b[0m\n\u001b[1;32m   4496\u001b[0m         \u001b[0my\u001b[0m \u001b[0;34m=\u001b[0m \u001b[0mnp\u001b[0m\u001b[0;34m.\u001b[0m\u001b[0mma\u001b[0m\u001b[0;34m.\u001b[0m\u001b[0mravel\u001b[0m\u001b[0;34m(\u001b[0m\u001b[0my\u001b[0m\u001b[0;34m)\u001b[0m\u001b[0;34m\u001b[0m\u001b[0;34m\u001b[0m\u001b[0m\n\u001b[1;32m   4497\u001b[0m         \u001b[0;32mif\u001b[0m \u001b[0mx\u001b[0m\u001b[0;34m.\u001b[0m\u001b[0msize\u001b[0m \u001b[0;34m!=\u001b[0m \u001b[0my\u001b[0m\u001b[0;34m.\u001b[0m\u001b[0msize\u001b[0m\u001b[0;34m:\u001b[0m\u001b[0;34m\u001b[0m\u001b[0;34m\u001b[0m\u001b[0m\n\u001b[0;32m-> 4498\u001b[0;31m             \u001b[0;32mraise\u001b[0m \u001b[0mValueError\u001b[0m\u001b[0;34m(\u001b[0m\u001b[0;34m\"x and y must be the same size\"\u001b[0m\u001b[0;34m)\u001b[0m\u001b[0;34m\u001b[0m\u001b[0;34m\u001b[0m\u001b[0m\n\u001b[0m\u001b[1;32m   4499\u001b[0m \u001b[0;34m\u001b[0m\u001b[0m\n\u001b[1;32m   4500\u001b[0m         \u001b[0;32mif\u001b[0m \u001b[0ms\u001b[0m \u001b[0;32mis\u001b[0m \u001b[0;32mNone\u001b[0m\u001b[0;34m:\u001b[0m\u001b[0;34m\u001b[0m\u001b[0;34m\u001b[0m\u001b[0m\n",
      "\u001b[0;31mValueError\u001b[0m: x and y must be the same size"
     ]
    },
    {
     "data": {
      "image/png": "[encoded data removed]",
      "text/plain": [
       "<Figure size 640x480 with 1 Axes>"
      ]
     },
     "metadata": {},
     "output_type": "display_data"
    }
   ],
   "source": [
    "plt.figure()\n",
    "\n",
    "plt.scatter(df_us_es[\"country\"],df_usa[\"type\"])\n",
    "\n",
    "plt.show()"
   ]
  },
  {
   "cell_type": "code",
   "execution_count": 71,
   "metadata": {},
   "outputs": [
    {
     "data": {
      "image/png": "[encoded data removed]",
      "text/plain": [
       "<Figure size 640x480 with 1 Axes>"
      ]
     },
     "metadata": {},
     "output_type": "display_data"
    }
   ],
   "source": [
    "plt.figure()\n",
    "\n",
    "plt.bar(df_us_es[\"country\"],df_us_es[\"type\"], bottom= df_us_es[\"year\"], label= \"USA\")\n",
    "plt.bar(df_us_es[\"country\"],df_us_es[\"type\"], label= \"SPAIN\")\n",
    "\n",
    "plt.show()"
   ]
  },
  {
   "cell_type": "code",
   "execution_count": null,
   "metadata": {},
   "outputs": [],
   "source": [
    "# iniciamos nuestra figura\n",
    "plt.figure()\n",
    "# establcemos los datos que vamos a querer visualizar. Como son dos variables las que queremos visualizar tendremos que hacer dos barplots\n",
    "plt.bar(df_iris[\"Species\"],df_iris[\"PetalLengthCm\"], bottom= df_iris[\"SepalLengthCm\"], label = 'petal')\n",
    "plt.bar(df_iris[\"Species\"],df_iris[\"SepalLengthCm\"], label = 'sepal')\n",
    "# especificamos que queremos que nos muestre la leyenda\n",
    "plt.legend()\n",
    "# mostramos al gráfica\n",
    "plt.show()"
   ]
  },
  {
   "attachments": {},
   "cell_type": "markdown",
   "metadata": {},
   "source": [
    "3. Guardad las figuras creadas en cada caso. Podéis usar el formato que queráis. Guarda todas las fotos en una carpeta llamada Visualizacion-II."
   ]
  }
 ],
 "metadata": {
  "kernelspec": {
   "display_name": "base",
   "language": "python",
   "name": "python3"
  },
  "language_info": {
   "codemirror_mode": {
    "name": "ipython",
    "version": 3
   },
   "file_extension": ".py",
   "mimetype": "text/x-python",
   "name": "python",
   "nbconvert_exporter": "python",
   "pygments_lexer": "ipython3",
   "version": "3.9.13"
  },
  "orig_nbformat": 4,
  "vscode": {
   "interpreter": {
    "hash": "f2104d434ce3092b7c07d5af98c90652611c7ad655b2a72b59e9e675e449bc7b"
   }
  }
 },
 "nbformat": 4,
 "nbformat_minor": 2
}

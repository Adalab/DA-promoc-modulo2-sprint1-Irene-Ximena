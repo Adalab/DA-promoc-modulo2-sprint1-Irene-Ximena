{
 "cells": [
  {
   "cell_type": "markdown",
   "metadata": {},
   "source": []
  },
  {
   "cell_type": "code",
   "execution_count": 2,
   "metadata": {},
   "outputs": [],
   "source": [
    "import numpy as np\n",
    "import pandas as pd\n",
    "import seaborn as sns\n",
    "from scipy.stats import skew\n",
    "from pydataset import data\n",
    "import matplotlib.pyplot as plt\n"
   ]
  },
  {
   "cell_type": "code",
   "execution_count": 14,
   "metadata": {},
   "outputs": [
    {
     "data": {
      "text/html": [
       "<div>\n",
       "<style scoped>\n",
       "    .dataframe tbody tr th:only-of-type {\n",
       "        vertical-align: middle;\n",
       "    }\n",
       "\n",
       "    .dataframe tbody tr th {\n",
       "        vertical-align: top;\n",
       "    }\n",
       "\n",
       "    .dataframe thead th {\n",
       "        text-align: right;\n",
       "    }\n",
       "</style>\n",
       "<table border=\"1\" class=\"dataframe\">\n",
       "  <thead>\n",
       "    <tr style=\"text-align: right;\">\n",
       "      <th></th>\n",
       "      <th>institution</th>\n",
       "      <th>country</th>\n",
       "      <th>national_rank</th>\n",
       "      <th>quality_of_education</th>\n",
       "      <th>alumni_employment</th>\n",
       "      <th>quality_of_faculty</th>\n",
       "      <th>publications</th>\n",
       "      <th>influence</th>\n",
       "      <th>citations</th>\n",
       "      <th>broad_impact</th>\n",
       "      <th>patents</th>\n",
       "      <th>score</th>\n",
       "      <th>year</th>\n",
       "    </tr>\n",
       "    <tr>\n",
       "      <th>world_rank</th>\n",
       "      <th></th>\n",
       "      <th></th>\n",
       "      <th></th>\n",
       "      <th></th>\n",
       "      <th></th>\n",
       "      <th></th>\n",
       "      <th></th>\n",
       "      <th></th>\n",
       "      <th></th>\n",
       "      <th></th>\n",
       "      <th></th>\n",
       "      <th></th>\n",
       "      <th></th>\n",
       "    </tr>\n",
       "  </thead>\n",
       "  <tbody>\n",
       "    <tr>\n",
       "      <th>1</th>\n",
       "      <td>Harvard University</td>\n",
       "      <td>USA</td>\n",
       "      <td>1</td>\n",
       "      <td>7</td>\n",
       "      <td>9</td>\n",
       "      <td>1</td>\n",
       "      <td>1</td>\n",
       "      <td>1</td>\n",
       "      <td>1</td>\n",
       "      <td>NaN</td>\n",
       "      <td>5</td>\n",
       "      <td>100.00</td>\n",
       "      <td>2012</td>\n",
       "    </tr>\n",
       "    <tr>\n",
       "      <th>2</th>\n",
       "      <td>Massachusetts Institute of Technology</td>\n",
       "      <td>USA</td>\n",
       "      <td>2</td>\n",
       "      <td>9</td>\n",
       "      <td>17</td>\n",
       "      <td>3</td>\n",
       "      <td>12</td>\n",
       "      <td>4</td>\n",
       "      <td>4</td>\n",
       "      <td>NaN</td>\n",
       "      <td>1</td>\n",
       "      <td>91.67</td>\n",
       "      <td>2012</td>\n",
       "    </tr>\n",
       "    <tr>\n",
       "      <th>3</th>\n",
       "      <td>Stanford University</td>\n",
       "      <td>USA</td>\n",
       "      <td>3</td>\n",
       "      <td>17</td>\n",
       "      <td>11</td>\n",
       "      <td>5</td>\n",
       "      <td>4</td>\n",
       "      <td>2</td>\n",
       "      <td>2</td>\n",
       "      <td>NaN</td>\n",
       "      <td>15</td>\n",
       "      <td>89.50</td>\n",
       "      <td>2012</td>\n",
       "    </tr>\n",
       "    <tr>\n",
       "      <th>4</th>\n",
       "      <td>University of Cambridge</td>\n",
       "      <td>United Kingdom</td>\n",
       "      <td>1</td>\n",
       "      <td>10</td>\n",
       "      <td>24</td>\n",
       "      <td>4</td>\n",
       "      <td>16</td>\n",
       "      <td>16</td>\n",
       "      <td>11</td>\n",
       "      <td>NaN</td>\n",
       "      <td>50</td>\n",
       "      <td>86.17</td>\n",
       "      <td>2012</td>\n",
       "    </tr>\n",
       "    <tr>\n",
       "      <th>5</th>\n",
       "      <td>California Institute of Technology</td>\n",
       "      <td>USA</td>\n",
       "      <td>4</td>\n",
       "      <td>2</td>\n",
       "      <td>29</td>\n",
       "      <td>7</td>\n",
       "      <td>37</td>\n",
       "      <td>22</td>\n",
       "      <td>22</td>\n",
       "      <td>NaN</td>\n",
       "      <td>18</td>\n",
       "      <td>85.21</td>\n",
       "      <td>2012</td>\n",
       "    </tr>\n",
       "  </tbody>\n",
       "</table>\n",
       "</div>"
      ],
      "text/plain": [
       "                                      institution         country  \\\n",
       "world_rank                                                          \n",
       "1                              Harvard University             USA   \n",
       "2           Massachusetts Institute of Technology             USA   \n",
       "3                             Stanford University             USA   \n",
       "4                         University of Cambridge  United Kingdom   \n",
       "5              California Institute of Technology             USA   \n",
       "\n",
       "            national_rank  quality_of_education  alumni_employment  \\\n",
       "world_rank                                                           \n",
       "1                       1                     7                  9   \n",
       "2                       2                     9                 17   \n",
       "3                       3                    17                 11   \n",
       "4                       1                    10                 24   \n",
       "5                       4                     2                 29   \n",
       "\n",
       "            quality_of_faculty  publications  influence  citations  \\\n",
       "world_rank                                                           \n",
       "1                            1             1          1          1   \n",
       "2                            3            12          4          4   \n",
       "3                            5             4          2          2   \n",
       "4                            4            16         16         11   \n",
       "5                            7            37         22         22   \n",
       "\n",
       "            broad_impact  patents   score  year  \n",
       "world_rank                                       \n",
       "1                    NaN        5  100.00  2012  \n",
       "2                    NaN        1   91.67  2012  \n",
       "3                    NaN       15   89.50  2012  \n",
       "4                    NaN       50   86.17  2012  \n",
       "5                    NaN       18   85.21  2012  "
      ]
     },
     "execution_count": 14,
     "metadata": {},
     "output_type": "execute_result"
    }
   ],
   "source": [
    "df_uni = pd.read_csv('4. Conceptos estadísticos/files/cwurData.csv', index_col = 0)\n",
    "df_uni.head()"
   ]
  },
  {
   "attachments": {},
   "cell_type": "markdown",
   "metadata": {},
   "source": [
    "Homogeneizamos nuestros datos"
   ]
  },
  {
   "cell_type": "code",
   "execution_count": 16,
   "metadata": {},
   "outputs": [
    {
     "data": {
      "text/plain": [
       "Index(['institution', 'country', 'national_rank', 'quality_of_education',\n",
       "       'alumni_employment', 'quality_of_faculty', 'publications', 'influence',\n",
       "       'citations', 'broad_impact', 'patents', 'score', 'year'],\n",
       "      dtype='object')"
      ]
     },
     "execution_count": 16,
     "metadata": {},
     "output_type": "execute_result"
    }
   ],
   "source": [
    "columnas_min = {col:col.lower().strip().replace(\" \",\"_\") for col in df_uni.columns}\n",
    "df_uni.rename(columns = columnas_min, inplace=True)\n",
    "df_uni.columns"
   ]
  },
  {
   "attachments": {},
   "cell_type": "markdown",
   "metadata": {},
   "source": [
    "Al igual que en los ejercicios de pair programming de estadística, deberéis elegir un set de datos, puede ser de cualquier tipo. El objetivo de este pair programming es:\n",
    "\n",
    "1. Hacer una exploración inicial del dataframe.\n",
    "\n",
    "- ¿Cuántas filas tiene?\n",
    "- ¿Cuántas nulos tiene?\n",
    "- ¿Y duplicados?\n",
    "- ¿Qué tipo de datos tenemos en el dataframe?\n",
    "- etc\n"
   ]
  },
  {
   "cell_type": "code",
   "execution_count": 18,
   "metadata": {},
   "outputs": [
    {
     "name": "stdout",
     "output_type": "stream",
     "text": [
      "Nuestro dataframe tiene 2200 filas y 13 columnas\n"
     ]
    }
   ],
   "source": [
    "print(f'Nuestro dataframe tiene {df_uni.shape[0]} filas y {df_uni.shape[1]} columnas')"
   ]
  },
  {
   "cell_type": "code",
   "execution_count": 22,
   "metadata": {},
   "outputs": [
    {
     "name": "stdout",
     "output_type": "stream",
     "text": [
      "<class 'pandas.core.frame.DataFrame'>\n",
      "Int64Index: 2200 entries, 1 to 1000\n",
      "Data columns (total 13 columns):\n",
      " #   Column                Non-Null Count  Dtype  \n",
      "---  ------                --------------  -----  \n",
      " 0   institution           2200 non-null   object \n",
      " 1   country               2200 non-null   object \n",
      " 2   national_rank         2200 non-null   int64  \n",
      " 3   quality_of_education  2200 non-null   int64  \n",
      " 4   alumni_employment     2200 non-null   int64  \n",
      " 5   quality_of_faculty    2200 non-null   int64  \n",
      " 6   publications          2200 non-null   int64  \n",
      " 7   influence             2200 non-null   int64  \n",
      " 8   citations             2200 non-null   int64  \n",
      " 9   broad_impact          2000 non-null   float64\n",
      " 10  patents               2200 non-null   int64  \n",
      " 11  score                 2200 non-null   float64\n",
      " 12  year                  2200 non-null   int64  \n",
      "dtypes: float64(2), int64(9), object(2)\n",
      "memory usage: 240.6+ KB\n"
     ]
    }
   ],
   "source": [
    "df_uni.info()"
   ]
  },
  {
   "attachments": {},
   "cell_type": "markdown",
   "metadata": {},
   "source": [
    "- Miramos cuantos nulos tenemos por columna"
   ]
  },
  {
   "cell_type": "code",
   "execution_count": 23,
   "metadata": {},
   "outputs": [
    {
     "data": {
      "text/plain": [
       "institution               0\n",
       "country                   0\n",
       "national_rank             0\n",
       "quality_of_education      0\n",
       "alumni_employment         0\n",
       "quality_of_faculty        0\n",
       "publications              0\n",
       "influence                 0\n",
       "citations                 0\n",
       "broad_impact            200\n",
       "patents                   0\n",
       "score                     0\n",
       "year                      0\n",
       "dtype: int64"
      ]
     },
     "execution_count": 23,
     "metadata": {},
     "output_type": "execute_result"
    }
   ],
   "source": [
    "df_uni.isnull().sum()"
   ]
  },
  {
   "cell_type": "markdown",
   "metadata": {},
   "source": [
    "Son unos datos bastante buenos, hay 0 nulos, exceptuando la columna borad_impact, que tiene 200."
   ]
  },
  {
   "cell_type": "markdown",
   "metadata": {},
   "source": [
    "- Duplicados"
   ]
  },
  {
   "cell_type": "code",
   "execution_count": 26,
   "metadata": {},
   "outputs": [
    {
     "data": {
      "text/plain": [
       "0"
      ]
     },
     "execution_count": 26,
     "metadata": {},
     "output_type": "execute_result"
    }
   ],
   "source": [
    "df_uni.duplicated().sum()"
   ]
  },
  {
   "attachments": {},
   "cell_type": "markdown",
   "metadata": {},
   "source": [
    "No existen valores duplicados"
   ]
  },
  {
   "cell_type": "markdown",
   "metadata": {},
   "source": [
    "- Tipo de datos"
   ]
  },
  {
   "cell_type": "code",
   "execution_count": 30,
   "metadata": {},
   "outputs": [
    {
     "name": "stdout",
     "output_type": "stream",
     "text": [
      "<class 'pandas.core.frame.DataFrame'>\n",
      "Int64Index: 2200 entries, 1 to 1000\n",
      "Data columns (total 13 columns):\n",
      " #   Column                Non-Null Count  Dtype  \n",
      "---  ------                --------------  -----  \n",
      " 0   institution           2200 non-null   object \n",
      " 1   country               2200 non-null   object \n",
      " 2   national_rank         2200 non-null   int64  \n",
      " 3   quality_of_education  2200 non-null   int64  \n",
      " 4   alumni_employment     2200 non-null   int64  \n",
      " 5   quality_of_faculty    2200 non-null   int64  \n",
      " 6   publications          2200 non-null   int64  \n",
      " 7   influence             2200 non-null   int64  \n",
      " 8   citations             2200 non-null   int64  \n",
      " 9   broad_impact          2000 non-null   float64\n",
      " 10  patents               2200 non-null   int64  \n",
      " 11  score                 2200 non-null   float64\n",
      " 12  year                  2200 non-null   int64  \n",
      "dtypes: float64(2), int64(9), object(2)\n",
      "memory usage: 240.6+ KB\n"
     ]
    }
   ],
   "source": [
    "df_uni.info()\n",
    "# También se puede ver con df_uni.dtypes "
   ]
  },
  {
   "attachments": {},
   "cell_type": "markdown",
   "metadata": {},
   "source": [
    "2 de nuestras columnas son categóricas, el resto númericas. 9 de estas son de tipo int64 y 2 son float64."
   ]
  },
  {
   "attachments": {},
   "cell_type": "markdown",
   "metadata": {},
   "source": [
    "- Otras exploraciones"
   ]
  },
  {
   "cell_type": "code",
   "execution_count": 31,
   "metadata": {},
   "outputs": [
    {
     "data": {
      "text/html": [
       "<div>\n",
       "<style scoped>\n",
       "    .dataframe tbody tr th:only-of-type {\n",
       "        vertical-align: middle;\n",
       "    }\n",
       "\n",
       "    .dataframe tbody tr th {\n",
       "        vertical-align: top;\n",
       "    }\n",
       "\n",
       "    .dataframe thead th {\n",
       "        text-align: right;\n",
       "    }\n",
       "</style>\n",
       "<table border=\"1\" class=\"dataframe\">\n",
       "  <thead>\n",
       "    <tr style=\"text-align: right;\">\n",
       "      <th></th>\n",
       "      <th>count</th>\n",
       "      <th>mean</th>\n",
       "      <th>std</th>\n",
       "      <th>min</th>\n",
       "      <th>25%</th>\n",
       "      <th>50%</th>\n",
       "      <th>75%</th>\n",
       "      <th>max</th>\n",
       "    </tr>\n",
       "  </thead>\n",
       "  <tbody>\n",
       "    <tr>\n",
       "      <th>national_rank</th>\n",
       "      <td>2200.0</td>\n",
       "      <td>40.278182</td>\n",
       "      <td>51.740870</td>\n",
       "      <td>1.00</td>\n",
       "      <td>6.00</td>\n",
       "      <td>21.0</td>\n",
       "      <td>49.000</td>\n",
       "      <td>229.0</td>\n",
       "    </tr>\n",
       "    <tr>\n",
       "      <th>quality_of_education</th>\n",
       "      <td>2200.0</td>\n",
       "      <td>275.100455</td>\n",
       "      <td>121.935100</td>\n",
       "      <td>1.00</td>\n",
       "      <td>175.75</td>\n",
       "      <td>355.0</td>\n",
       "      <td>367.000</td>\n",
       "      <td>367.0</td>\n",
       "    </tr>\n",
       "    <tr>\n",
       "      <th>alumni_employment</th>\n",
       "      <td>2200.0</td>\n",
       "      <td>357.116818</td>\n",
       "      <td>186.779252</td>\n",
       "      <td>1.00</td>\n",
       "      <td>175.75</td>\n",
       "      <td>450.5</td>\n",
       "      <td>478.000</td>\n",
       "      <td>567.0</td>\n",
       "    </tr>\n",
       "    <tr>\n",
       "      <th>quality_of_faculty</th>\n",
       "      <td>2200.0</td>\n",
       "      <td>178.888182</td>\n",
       "      <td>64.050885</td>\n",
       "      <td>1.00</td>\n",
       "      <td>175.75</td>\n",
       "      <td>210.0</td>\n",
       "      <td>218.000</td>\n",
       "      <td>218.0</td>\n",
       "    </tr>\n",
       "    <tr>\n",
       "      <th>publications</th>\n",
       "      <td>2200.0</td>\n",
       "      <td>459.908636</td>\n",
       "      <td>303.760352</td>\n",
       "      <td>1.00</td>\n",
       "      <td>175.75</td>\n",
       "      <td>450.5</td>\n",
       "      <td>725.000</td>\n",
       "      <td>1000.0</td>\n",
       "    </tr>\n",
       "    <tr>\n",
       "      <th>influence</th>\n",
       "      <td>2200.0</td>\n",
       "      <td>459.797727</td>\n",
       "      <td>303.331822</td>\n",
       "      <td>1.00</td>\n",
       "      <td>175.75</td>\n",
       "      <td>450.5</td>\n",
       "      <td>725.250</td>\n",
       "      <td>991.0</td>\n",
       "    </tr>\n",
       "    <tr>\n",
       "      <th>citations</th>\n",
       "      <td>2200.0</td>\n",
       "      <td>413.417273</td>\n",
       "      <td>264.366549</td>\n",
       "      <td>1.00</td>\n",
       "      <td>161.00</td>\n",
       "      <td>406.0</td>\n",
       "      <td>645.000</td>\n",
       "      <td>812.0</td>\n",
       "    </tr>\n",
       "    <tr>\n",
       "      <th>broad_impact</th>\n",
       "      <td>2000.0</td>\n",
       "      <td>496.699500</td>\n",
       "      <td>286.919755</td>\n",
       "      <td>1.00</td>\n",
       "      <td>250.50</td>\n",
       "      <td>496.0</td>\n",
       "      <td>741.000</td>\n",
       "      <td>1000.0</td>\n",
       "    </tr>\n",
       "    <tr>\n",
       "      <th>patents</th>\n",
       "      <td>2200.0</td>\n",
       "      <td>433.346364</td>\n",
       "      <td>273.996525</td>\n",
       "      <td>1.00</td>\n",
       "      <td>170.75</td>\n",
       "      <td>426.0</td>\n",
       "      <td>714.250</td>\n",
       "      <td>871.0</td>\n",
       "    </tr>\n",
       "    <tr>\n",
       "      <th>score</th>\n",
       "      <td>2200.0</td>\n",
       "      <td>47.798395</td>\n",
       "      <td>7.760806</td>\n",
       "      <td>43.36</td>\n",
       "      <td>44.46</td>\n",
       "      <td>45.1</td>\n",
       "      <td>47.545</td>\n",
       "      <td>100.0</td>\n",
       "    </tr>\n",
       "    <tr>\n",
       "      <th>year</th>\n",
       "      <td>2200.0</td>\n",
       "      <td>2014.318182</td>\n",
       "      <td>0.762130</td>\n",
       "      <td>2012.00</td>\n",
       "      <td>2014.00</td>\n",
       "      <td>2014.0</td>\n",
       "      <td>2015.000</td>\n",
       "      <td>2015.0</td>\n",
       "    </tr>\n",
       "  </tbody>\n",
       "</table>\n",
       "</div>"
      ],
      "text/plain": [
       "                       count         mean         std      min      25%  \\\n",
       "national_rank         2200.0    40.278182   51.740870     1.00     6.00   \n",
       "quality_of_education  2200.0   275.100455  121.935100     1.00   175.75   \n",
       "alumni_employment     2200.0   357.116818  186.779252     1.00   175.75   \n",
       "quality_of_faculty    2200.0   178.888182   64.050885     1.00   175.75   \n",
       "publications          2200.0   459.908636  303.760352     1.00   175.75   \n",
       "influence             2200.0   459.797727  303.331822     1.00   175.75   \n",
       "citations             2200.0   413.417273  264.366549     1.00   161.00   \n",
       "broad_impact          2000.0   496.699500  286.919755     1.00   250.50   \n",
       "patents               2200.0   433.346364  273.996525     1.00   170.75   \n",
       "score                 2200.0    47.798395    7.760806    43.36    44.46   \n",
       "year                  2200.0  2014.318182    0.762130  2012.00  2014.00   \n",
       "\n",
       "                         50%       75%     max  \n",
       "national_rank           21.0    49.000   229.0  \n",
       "quality_of_education   355.0   367.000   367.0  \n",
       "alumni_employment      450.5   478.000   567.0  \n",
       "quality_of_faculty     210.0   218.000   218.0  \n",
       "publications           450.5   725.000  1000.0  \n",
       "influence              450.5   725.250   991.0  \n",
       "citations              406.0   645.000   812.0  \n",
       "broad_impact           496.0   741.000  1000.0  \n",
       "patents                426.0   714.250   871.0  \n",
       "score                   45.1    47.545   100.0  \n",
       "year                  2014.0  2015.000  2015.0  "
      ]
     },
     "execution_count": 31,
     "metadata": {},
     "output_type": "execute_result"
    }
   ],
   "source": [
    "df_uni.describe().T"
   ]
  },
  {
   "cell_type": "code",
   "execution_count": 32,
   "metadata": {},
   "outputs": [
    {
     "data": {
      "text/html": [
       "<div>\n",
       "<style scoped>\n",
       "    .dataframe tbody tr th:only-of-type {\n",
       "        vertical-align: middle;\n",
       "    }\n",
       "\n",
       "    .dataframe tbody tr th {\n",
       "        vertical-align: top;\n",
       "    }\n",
       "\n",
       "    .dataframe thead th {\n",
       "        text-align: right;\n",
       "    }\n",
       "</style>\n",
       "<table border=\"1\" class=\"dataframe\">\n",
       "  <thead>\n",
       "    <tr style=\"text-align: right;\">\n",
       "      <th></th>\n",
       "      <th>count</th>\n",
       "      <th>unique</th>\n",
       "      <th>top</th>\n",
       "      <th>freq</th>\n",
       "    </tr>\n",
       "  </thead>\n",
       "  <tbody>\n",
       "    <tr>\n",
       "      <th>institution</th>\n",
       "      <td>2200</td>\n",
       "      <td>1024</td>\n",
       "      <td>Harvard University</td>\n",
       "      <td>4</td>\n",
       "    </tr>\n",
       "    <tr>\n",
       "      <th>country</th>\n",
       "      <td>2200</td>\n",
       "      <td>59</td>\n",
       "      <td>USA</td>\n",
       "      <td>573</td>\n",
       "    </tr>\n",
       "  </tbody>\n",
       "</table>\n",
       "</div>"
      ],
      "text/plain": [
       "            count unique                 top freq\n",
       "institution  2200   1024  Harvard University    4\n",
       "country      2200     59                 USA  573"
      ]
     },
     "execution_count": 32,
     "metadata": {},
     "output_type": "execute_result"
    }
   ],
   "source": [
    "df_uni.describe(include = 'object').T"
   ]
  },
  {
   "cell_type": "code",
   "execution_count": 35,
   "metadata": {},
   "outputs": [
    {
     "name": "stdout",
     "output_type": "stream",
     "text": [
      "Nuestro Dataframe tiene 28600 datos\n"
     ]
    }
   ],
   "source": [
    "print(f'Nuestro Dataframe tiene {df_uni.size} datos')"
   ]
  },
  {
   "attachments": {},
   "cell_type": "markdown",
   "metadata": {},
   "source": [
    "2. Plantead una serie de preguntas como las que fuimos contestando en la clase invertida.\n"
   ]
  },
  {
   "attachments": {},
   "cell_type": "markdown",
   "metadata": {},
   "source": [
    "- 2.1. Qué universidad tiene más publicaciones y cuál menos\n",
    "- 2.2. Qué universidad por país tiene el ránking nacional (score) más alto\n",
    "- 2.3. Qué país tiene de media el mejor ránking (score)\n",
    "- 2.4. Outliers de score\n",
    "- 2.5. Qué universidad tiene más estudiantes y cuál menos\n",
    "- 2.6. ¿Tiene relación el ranking (score) y el número de estudiantes con empleo (rank for alumni employement)?\n",
    "\n"
   ]
  },
  {
   "attachments": {},
   "cell_type": "markdown",
   "metadata": {},
   "source": [
    "3. Contestad a las preguntas planteadas usando los principales estadísticos que hemos aprendido y gráficas que mejor se ajusten."
   ]
  },
  {
   "attachments": {},
   "cell_type": "markdown",
   "metadata": {},
   "source": [
    "2.1."
   ]
  },
  {
   "cell_type": "code",
   "execution_count": 36,
   "metadata": {},
   "outputs": [
    {
     "data": {
      "text/plain": [
       "Index(['institution', 'country', 'national_rank', 'quality_of_education',\n",
       "       'alumni_employment', 'quality_of_faculty', 'publications', 'influence',\n",
       "       'citations', 'broad_impact', 'patents', 'score', 'year'],\n",
       "      dtype='object')"
      ]
     },
     "execution_count": 36,
     "metadata": {},
     "output_type": "execute_result"
    }
   ],
   "source": [
    "df_uni.columns"
   ]
  },
  {
   "cell_type": "code",
   "execution_count": 42,
   "metadata": {},
   "outputs": [
    {
     "data": {
      "text/plain": [
       "1000"
      ]
     },
     "execution_count": 42,
     "metadata": {},
     "output_type": "execute_result"
    }
   ],
   "source": [
    "df_uni['publications'].max()"
   ]
  },
  {
   "cell_type": "code",
   "execution_count": 45,
   "metadata": {},
   "outputs": [
    {
     "data": {
      "text/html": [
       "<div>\n",
       "<style scoped>\n",
       "    .dataframe tbody tr th:only-of-type {\n",
       "        vertical-align: middle;\n",
       "    }\n",
       "\n",
       "    .dataframe tbody tr th {\n",
       "        vertical-align: top;\n",
       "    }\n",
       "\n",
       "    .dataframe thead th {\n",
       "        text-align: right;\n",
       "    }\n",
       "</style>\n",
       "<table border=\"1\" class=\"dataframe\">\n",
       "  <thead>\n",
       "    <tr style=\"text-align: right;\">\n",
       "      <th></th>\n",
       "      <th>institution</th>\n",
       "      <th>country</th>\n",
       "      <th>national_rank</th>\n",
       "      <th>quality_of_education</th>\n",
       "      <th>alumni_employment</th>\n",
       "      <th>quality_of_faculty</th>\n",
       "      <th>publications</th>\n",
       "      <th>influence</th>\n",
       "      <th>citations</th>\n",
       "      <th>broad_impact</th>\n",
       "      <th>patents</th>\n",
       "      <th>score</th>\n",
       "      <th>year</th>\n",
       "    </tr>\n",
       "    <tr>\n",
       "      <th>world_rank</th>\n",
       "      <th></th>\n",
       "      <th></th>\n",
       "      <th></th>\n",
       "      <th></th>\n",
       "      <th></th>\n",
       "      <th></th>\n",
       "      <th></th>\n",
       "      <th></th>\n",
       "      <th></th>\n",
       "      <th></th>\n",
       "      <th></th>\n",
       "      <th></th>\n",
       "      <th></th>\n",
       "    </tr>\n",
       "  </thead>\n",
       "  <tbody>\n",
       "    <tr>\n",
       "      <th>820</th>\n",
       "      <td>National University of Ireland, Maynooth</td>\n",
       "      <td>Ireland</td>\n",
       "      <td>7</td>\n",
       "      <td>215</td>\n",
       "      <td>478</td>\n",
       "      <td>210</td>\n",
       "      <td>1000</td>\n",
       "      <td>716</td>\n",
       "      <td>800</td>\n",
       "      <td>800.0</td>\n",
       "      <td>552</td>\n",
       "      <td>44.49</td>\n",
       "      <td>2014</td>\n",
       "    </tr>\n",
       "    <tr>\n",
       "      <th>830</th>\n",
       "      <td>University of Wales, Trinity Saint David</td>\n",
       "      <td>United Kingdom</td>\n",
       "      <td>62</td>\n",
       "      <td>367</td>\n",
       "      <td>567</td>\n",
       "      <td>218</td>\n",
       "      <td>1000</td>\n",
       "      <td>927</td>\n",
       "      <td>645</td>\n",
       "      <td>754.0</td>\n",
       "      <td>871</td>\n",
       "      <td>44.20</td>\n",
       "      <td>2015</td>\n",
       "    </tr>\n",
       "  </tbody>\n",
       "</table>\n",
       "</div>"
      ],
      "text/plain": [
       "                                         institution         country  \\\n",
       "world_rank                                                             \n",
       "820         National University of Ireland, Maynooth         Ireland   \n",
       "830         University of Wales, Trinity Saint David  United Kingdom   \n",
       "\n",
       "            national_rank  quality_of_education  alumni_employment  \\\n",
       "world_rank                                                           \n",
       "820                     7                   215                478   \n",
       "830                    62                   367                567   \n",
       "\n",
       "            quality_of_faculty  publications  influence  citations  \\\n",
       "world_rank                                                           \n",
       "820                        210          1000        716        800   \n",
       "830                        218          1000        927        645   \n",
       "\n",
       "            broad_impact  patents  score  year  \n",
       "world_rank                                      \n",
       "820                800.0      552  44.49  2014  \n",
       "830                754.0      871  44.20  2015  "
      ]
     },
     "execution_count": 45,
     "metadata": {},
     "output_type": "execute_result"
    }
   ],
   "source": [
    "df_uni[df_uni['publications'] == df_uni['publications'].max()]"
   ]
  },
  {
   "attachments": {},
   "cell_type": "markdown",
   "metadata": {},
   "source": [
    "Las dos universidades con más publicaciones son  National University of Ireland, de Irlanda y University of Wales, Trinity Saint David, de Reino Unido, con 1000 publicaciones."
   ]
  },
  {
   "cell_type": "code",
   "execution_count": 46,
   "metadata": {},
   "outputs": [
    {
     "data": {
      "text/html": [
       "<div>\n",
       "<style scoped>\n",
       "    .dataframe tbody tr th:only-of-type {\n",
       "        vertical-align: middle;\n",
       "    }\n",
       "\n",
       "    .dataframe tbody tr th {\n",
       "        vertical-align: top;\n",
       "    }\n",
       "\n",
       "    .dataframe thead th {\n",
       "        text-align: right;\n",
       "    }\n",
       "</style>\n",
       "<table border=\"1\" class=\"dataframe\">\n",
       "  <thead>\n",
       "    <tr style=\"text-align: right;\">\n",
       "      <th></th>\n",
       "      <th>institution</th>\n",
       "      <th>country</th>\n",
       "      <th>national_rank</th>\n",
       "      <th>quality_of_education</th>\n",
       "      <th>alumni_employment</th>\n",
       "      <th>quality_of_faculty</th>\n",
       "      <th>publications</th>\n",
       "      <th>influence</th>\n",
       "      <th>citations</th>\n",
       "      <th>broad_impact</th>\n",
       "      <th>patents</th>\n",
       "      <th>score</th>\n",
       "      <th>year</th>\n",
       "    </tr>\n",
       "    <tr>\n",
       "      <th>world_rank</th>\n",
       "      <th></th>\n",
       "      <th></th>\n",
       "      <th></th>\n",
       "      <th></th>\n",
       "      <th></th>\n",
       "      <th></th>\n",
       "      <th></th>\n",
       "      <th></th>\n",
       "      <th></th>\n",
       "      <th></th>\n",
       "      <th></th>\n",
       "      <th></th>\n",
       "      <th></th>\n",
       "    </tr>\n",
       "  </thead>\n",
       "  <tbody>\n",
       "    <tr>\n",
       "      <th>1</th>\n",
       "      <td>Harvard University</td>\n",
       "      <td>USA</td>\n",
       "      <td>1</td>\n",
       "      <td>7</td>\n",
       "      <td>9</td>\n",
       "      <td>1</td>\n",
       "      <td>1</td>\n",
       "      <td>1</td>\n",
       "      <td>1</td>\n",
       "      <td>NaN</td>\n",
       "      <td>5</td>\n",
       "      <td>100.0</td>\n",
       "      <td>2012</td>\n",
       "    </tr>\n",
       "    <tr>\n",
       "      <th>1</th>\n",
       "      <td>Harvard University</td>\n",
       "      <td>USA</td>\n",
       "      <td>1</td>\n",
       "      <td>1</td>\n",
       "      <td>1</td>\n",
       "      <td>1</td>\n",
       "      <td>1</td>\n",
       "      <td>1</td>\n",
       "      <td>1</td>\n",
       "      <td>NaN</td>\n",
       "      <td>7</td>\n",
       "      <td>100.0</td>\n",
       "      <td>2013</td>\n",
       "    </tr>\n",
       "    <tr>\n",
       "      <th>1</th>\n",
       "      <td>Harvard University</td>\n",
       "      <td>USA</td>\n",
       "      <td>1</td>\n",
       "      <td>1</td>\n",
       "      <td>1</td>\n",
       "      <td>1</td>\n",
       "      <td>1</td>\n",
       "      <td>1</td>\n",
       "      <td>1</td>\n",
       "      <td>1.0</td>\n",
       "      <td>2</td>\n",
       "      <td>100.0</td>\n",
       "      <td>2014</td>\n",
       "    </tr>\n",
       "    <tr>\n",
       "      <th>1</th>\n",
       "      <td>Harvard University</td>\n",
       "      <td>USA</td>\n",
       "      <td>1</td>\n",
       "      <td>1</td>\n",
       "      <td>1</td>\n",
       "      <td>1</td>\n",
       "      <td>1</td>\n",
       "      <td>1</td>\n",
       "      <td>1</td>\n",
       "      <td>1.0</td>\n",
       "      <td>3</td>\n",
       "      <td>100.0</td>\n",
       "      <td>2015</td>\n",
       "    </tr>\n",
       "  </tbody>\n",
       "</table>\n",
       "</div>"
      ],
      "text/plain": [
       "                   institution country  national_rank  quality_of_education  \\\n",
       "world_rank                                                                    \n",
       "1           Harvard University     USA              1                     7   \n",
       "1           Harvard University     USA              1                     1   \n",
       "1           Harvard University     USA              1                     1   \n",
       "1           Harvard University     USA              1                     1   \n",
       "\n",
       "            alumni_employment  quality_of_faculty  publications  influence  \\\n",
       "world_rank                                                                   \n",
       "1                           9                   1             1          1   \n",
       "1                           1                   1             1          1   \n",
       "1                           1                   1             1          1   \n",
       "1                           1                   1             1          1   \n",
       "\n",
       "            citations  broad_impact  patents  score  year  \n",
       "world_rank                                                 \n",
       "1                   1           NaN        5  100.0  2012  \n",
       "1                   1           NaN        7  100.0  2013  \n",
       "1                   1           1.0        2  100.0  2014  \n",
       "1                   1           1.0        3  100.0  2015  "
      ]
     },
     "execution_count": 46,
     "metadata": {},
     "output_type": "execute_result"
    }
   ],
   "source": [
    "df_uni[df_uni['publications'] == df_uni['publications'].min()]"
   ]
  },
  {
   "attachments": {},
   "cell_type": "markdown",
   "metadata": {},
   "source": [
    "Hemos buscado también las universidades con menos publicaciones, pero no nos parecen datos concluyentes, puesto que se repite la institución."
   ]
  },
  {
   "attachments": {},
   "cell_type": "markdown",
   "metadata": {},
   "source": [
    "2.2. Qué universidad por país tiene el ránking nacional (score) más alto"
   ]
  },
  {
   "cell_type": "code",
   "execution_count": 55,
   "metadata": {},
   "outputs": [
    {
     "data": {
      "text/html": [
       "<div>\n",
       "<style scoped>\n",
       "    .dataframe tbody tr th:only-of-type {\n",
       "        vertical-align: middle;\n",
       "    }\n",
       "\n",
       "    .dataframe tbody tr th {\n",
       "        vertical-align: top;\n",
       "    }\n",
       "\n",
       "    .dataframe thead th {\n",
       "        text-align: right;\n",
       "    }\n",
       "</style>\n",
       "<table border=\"1\" class=\"dataframe\">\n",
       "  <thead>\n",
       "    <tr style=\"text-align: right;\">\n",
       "      <th></th>\n",
       "      <th>country</th>\n",
       "      <th>institution</th>\n",
       "      <th>national_rank</th>\n",
       "      <th>quality_of_education</th>\n",
       "      <th>alumni_employment</th>\n",
       "      <th>quality_of_faculty</th>\n",
       "      <th>publications</th>\n",
       "      <th>influence</th>\n",
       "      <th>citations</th>\n",
       "      <th>broad_impact</th>\n",
       "      <th>patents</th>\n",
       "      <th>score</th>\n",
       "      <th>year</th>\n",
       "    </tr>\n",
       "  </thead>\n",
       "  <tbody>\n",
       "    <tr>\n",
       "      <th>54</th>\n",
       "      <td>USA</td>\n",
       "      <td>Yeshiva University</td>\n",
       "      <td>229</td>\n",
       "      <td>367</td>\n",
       "      <td>567</td>\n",
       "      <td>218</td>\n",
       "      <td>993</td>\n",
       "      <td>974</td>\n",
       "      <td>812</td>\n",
       "      <td>946.0</td>\n",
       "      <td>871</td>\n",
       "      <td>100.00</td>\n",
       "      <td>2015</td>\n",
       "    </tr>\n",
       "    <tr>\n",
       "      <th>57</th>\n",
       "      <td>United Kingdom</td>\n",
       "      <td>University of York</td>\n",
       "      <td>65</td>\n",
       "      <td>367</td>\n",
       "      <td>567</td>\n",
       "      <td>218</td>\n",
       "      <td>1000</td>\n",
       "      <td>927</td>\n",
       "      <td>812</td>\n",
       "      <td>906.0</td>\n",
       "      <td>871</td>\n",
       "      <td>97.64</td>\n",
       "      <td>2015</td>\n",
       "    </tr>\n",
       "    <tr>\n",
       "      <th>28</th>\n",
       "      <td>Japan</td>\n",
       "      <td>Yokohama National University</td>\n",
       "      <td>74</td>\n",
       "      <td>367</td>\n",
       "      <td>567</td>\n",
       "      <td>218</td>\n",
       "      <td>999</td>\n",
       "      <td>958</td>\n",
       "      <td>812</td>\n",
       "      <td>984.0</td>\n",
       "      <td>871</td>\n",
       "      <td>80.64</td>\n",
       "      <td>2015</td>\n",
       "    </tr>\n",
       "    <tr>\n",
       "      <th>50</th>\n",
       "      <td>Switzerland</td>\n",
       "      <td>University of Zurich</td>\n",
       "      <td>9</td>\n",
       "      <td>367</td>\n",
       "      <td>567</td>\n",
       "      <td>218</td>\n",
       "      <td>863</td>\n",
       "      <td>635</td>\n",
       "      <td>812</td>\n",
       "      <td>671.0</td>\n",
       "      <td>787</td>\n",
       "      <td>72.18</td>\n",
       "      <td>2015</td>\n",
       "    </tr>\n",
       "    <tr>\n",
       "      <th>26</th>\n",
       "      <td>Israel</td>\n",
       "      <td>Weizmann Institute of Science</td>\n",
       "      <td>7</td>\n",
       "      <td>367</td>\n",
       "      <td>567</td>\n",
       "      <td>218</td>\n",
       "      <td>587</td>\n",
       "      <td>479</td>\n",
       "      <td>812</td>\n",
       "      <td>690.0</td>\n",
       "      <td>552</td>\n",
       "      <td>66.76</td>\n",
       "      <td>2015</td>\n",
       "    </tr>\n",
       "  </tbody>\n",
       "</table>\n",
       "</div>"
      ],
      "text/plain": [
       "           country                    institution  national_rank  \\\n",
       "54             USA             Yeshiva University            229   \n",
       "57  United Kingdom             University of York             65   \n",
       "28           Japan   Yokohama National University             74   \n",
       "50     Switzerland           University of Zurich              9   \n",
       "26          Israel  Weizmann Institute of Science              7   \n",
       "\n",
       "    quality_of_education  alumni_employment  quality_of_faculty  publications  \\\n",
       "54                   367                567                 218           993   \n",
       "57                   367                567                 218          1000   \n",
       "28                   367                567                 218           999   \n",
       "50                   367                567                 218           863   \n",
       "26                   367                567                 218           587   \n",
       "\n",
       "    influence  citations  broad_impact  patents   score  year  \n",
       "54        974        812         946.0      871  100.00  2015  \n",
       "57        927        812         906.0      871   97.64  2015  \n",
       "28        958        812         984.0      871   80.64  2015  \n",
       "50        635        812         671.0      787   72.18  2015  \n",
       "26        479        812         690.0      552   66.76  2015  "
      ]
     },
     "execution_count": 55,
     "metadata": {},
     "output_type": "execute_result"
    }
   ],
   "source": [
    "df_uni_pais = df_uni.groupby(['country']).max().reset_index().sort_values('score', ascending= False)\n",
    "df_uni_pais.head()"
   ]
  },
  {
   "cell_type": "markdown",
   "metadata": {},
   "source": [
    "2.3. Qué país tiene de media el mejor ránking (score)"
   ]
  },
  {
   "cell_type": "code",
   "execution_count": 53,
   "metadata": {},
   "outputs": [
    {
     "data": {
      "text/html": [
       "<div>\n",
       "<style scoped>\n",
       "    .dataframe tbody tr th:only-of-type {\n",
       "        vertical-align: middle;\n",
       "    }\n",
       "\n",
       "    .dataframe tbody tr th {\n",
       "        vertical-align: top;\n",
       "    }\n",
       "\n",
       "    .dataframe thead th {\n",
       "        text-align: right;\n",
       "    }\n",
       "</style>\n",
       "<table border=\"1\" class=\"dataframe\">\n",
       "  <thead>\n",
       "    <tr style=\"text-align: right;\">\n",
       "      <th></th>\n",
       "      <th>country</th>\n",
       "      <th>score</th>\n",
       "    </tr>\n",
       "  </thead>\n",
       "  <tbody>\n",
       "    <tr>\n",
       "      <th>26</th>\n",
       "      <td>Israel</td>\n",
       "      <td>52.654091</td>\n",
       "    </tr>\n",
       "    <tr>\n",
       "      <th>54</th>\n",
       "      <td>USA</td>\n",
       "      <td>51.839860</td>\n",
       "    </tr>\n",
       "    <tr>\n",
       "      <th>50</th>\n",
       "      <td>Switzerland</td>\n",
       "      <td>51.208846</td>\n",
       "    </tr>\n",
       "    <tr>\n",
       "      <th>43</th>\n",
       "      <td>Singapore</td>\n",
       "      <td>50.160000</td>\n",
       "    </tr>\n",
       "    <tr>\n",
       "      <th>57</th>\n",
       "      <td>United Kingdom</td>\n",
       "      <td>49.474653</td>\n",
       "    </tr>\n",
       "  </tbody>\n",
       "</table>\n",
       "</div>"
      ],
      "text/plain": [
       "           country      score\n",
       "26          Israel  52.654091\n",
       "54             USA  51.839860\n",
       "50     Switzerland  51.208846\n",
       "43       Singapore  50.160000\n",
       "57  United Kingdom  49.474653"
      ]
     },
     "execution_count": 53,
     "metadata": {},
     "output_type": "execute_result"
    }
   ],
   "source": [
    "df_paises = df_uni.groupby(['country'])['score'].mean().reset_index().sort_values('score', ascending= False)\n",
    "df_paises.head()"
   ]
  }
 ],
 "metadata": {
  "kernelspec": {
   "display_name": "base",
   "language": "python",
   "name": "python3"
  },
  "language_info": {
   "codemirror_mode": {
    "name": "ipython",
    "version": 3
   },
   "file_extension": ".py",
   "mimetype": "text/x-python",
   "name": "python",
   "nbconvert_exporter": "python",
   "pygments_lexer": "ipython3",
   "version": "3.9.12 (main, Apr  5 2022, 06:56:58) \n[GCC 7.5.0]"
  },
  "orig_nbformat": 4,
  "vscode": {
   "interpreter": {
    "hash": "9429f26ec4099974d746a4ebde46a1e9e674ac91dbe378d9f92f91a367d774ad"
   }
  }
 },
 "nbformat": 4,
 "nbformat_minor": 2
}

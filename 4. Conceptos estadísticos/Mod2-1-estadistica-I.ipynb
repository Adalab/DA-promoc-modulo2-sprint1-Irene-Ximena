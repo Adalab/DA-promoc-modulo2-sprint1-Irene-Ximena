{
 "cells": [
  {
   "attachments": {},
   "cell_type": "markdown",
   "metadata": {},
   "source": [
    "# Pair Programming Estadística I\n",
    "Empezamos una nueva lección, y este es el momento de poner en práctica los conocimientos adquiridos del Estadística Descriptiva básica. En este caso vamos a darle un giro de tuerca a la forma en la que se ha resuelto los ejercicios de la Pair de hasta ahora! Para ello os vamos a pedir que por vuestra cuenta busqueis un dataset que os guste, por ejemplo de Kaggle o de donde queráis extraerlo. De esta forma vamos a estudiar los diferentes estadísiticos que contiene en dataset seleccionado Para todas los ejercicios de pair programming de Estadística I, II y III usaremos el dataframe que se tome para el desarrollo de este ejercicio de pair programming."
   ]
  },
  {
   "cell_type": "code",
   "execution_count": 1,
   "metadata": {},
   "outputs": [],
   "source": [
    "import numpy as np\n",
    "from scipy import stats # importando scipy.stats\n",
    "import seaborn as sns\n",
    "import pandas as pd\n",
    "import matplotlib.pyplot as plt\n",
    "from pydataset import data"
   ]
  },
  {
   "cell_type": "markdown",
   "metadata": {},
   "source": [
    "## 1. Buscar un conjunto de datos a analizar:\n",
    "Se recomienda que el conjunto de datos a analizar tenga variables numéricas y categóricas. Ya que también se analizarán."
   ]
  },
  {
   "attachments": {},
   "cell_type": "markdown",
   "metadata": {},
   "source": [
    "## World Disaster Risk Dataset\n",
    "\n",
    "The WorldRiskReport is an annual technical report on global disaster risks. The yearly issues of the WorldRiskReport focus on varying critical topics related to disaster risk management and are published in German and English. The report includes the WorldRiskIndex, which identifies the risk of an extreme natural event becoming a disaster for numerous countries worldwide.\n",
    "\n",
    "\n",
    "The WorldRiskIndex uses 27 aggregated, publicly available indicators to determine disaster risk for 181 countries worldwide. Conceptually, the index is composed of exposure to extreme natural hazards and the societal vulnerability of individual countries. Earthquakes, cyclones, floods, droughts, and climate-induced sea-level rise are considered in the exposure analysis. Societal vulnerability is divided into susceptibility to extreme natural events, lack of coping capacities, and lack of adaptive capacities. All index components are scaled to the value range from 0 to 100. The higher a country's index score on the WorldRiskIndex, the higher its national disaster risk.\n",
    "\n",
    "The dataset consists of 11 years data of multiple countries with features including:\n",
    "\n",
    "- Region: Name of the region.\n",
    "- WRI : World Risk Score of the region.\n",
    "- Exposure: Risk/exposure to natural hazards such as earthquakes, hurricanes, floods, droughts, and sea ​​level rise.\n",
    "- Vulnerability: Vulnerability depending on infrastructure, nutrition, housing situation, and economic framework conditions.\n",
    "- Susceptibility\n",
    "- Lack of Coping Capabilities\n",
    "- Lack of Adaptive Capabilities\n",
    "- Year\n",
    "- WRI Category\n",
    "- Exposure Category\n",
    "- Vulnerability Category\n",
    "- Susceptibility Category\n",
    "\n",
    "https://www.kaggle.com/datasets/tr1gg3rtrash/global-disaster-risk-index-time-series-dataset?resource=download"
   ]
  },
  {
   "cell_type": "code",
   "execution_count": 69,
   "metadata": {},
   "outputs": [
    {
     "data": {
      "text/html": [
       "<div>\n",
       "<style scoped>\n",
       "    .dataframe tbody tr th:only-of-type {\n",
       "        vertical-align: middle;\n",
       "    }\n",
       "\n",
       "    .dataframe tbody tr th {\n",
       "        vertical-align: top;\n",
       "    }\n",
       "\n",
       "    .dataframe thead th {\n",
       "        text-align: right;\n",
       "    }\n",
       "</style>\n",
       "<table border=\"1\" class=\"dataframe\">\n",
       "  <thead>\n",
       "    <tr style=\"text-align: right;\">\n",
       "      <th></th>\n",
       "      <th>WRI</th>\n",
       "      <th>Exposure</th>\n",
       "      <th>Vulnerability</th>\n",
       "      <th>Susceptibility</th>\n",
       "      <th>Lack of Coping Capabilities</th>\n",
       "      <th>Lack of Adaptive Capacities</th>\n",
       "      <th>Year</th>\n",
       "      <th>Exposure Category</th>\n",
       "      <th>WRI Category</th>\n",
       "      <th>Vulnerability Category</th>\n",
       "      <th>Susceptibility Category</th>\n",
       "    </tr>\n",
       "    <tr>\n",
       "      <th>Region</th>\n",
       "      <th></th>\n",
       "      <th></th>\n",
       "      <th></th>\n",
       "      <th></th>\n",
       "      <th></th>\n",
       "      <th></th>\n",
       "      <th></th>\n",
       "      <th></th>\n",
       "      <th></th>\n",
       "      <th></th>\n",
       "      <th></th>\n",
       "    </tr>\n",
       "  </thead>\n",
       "  <tbody>\n",
       "    <tr>\n",
       "      <th>Vanuatu</th>\n",
       "      <td>32.00</td>\n",
       "      <td>56.33</td>\n",
       "      <td>56.81</td>\n",
       "      <td>37.14</td>\n",
       "      <td>79.34</td>\n",
       "      <td>53.96</td>\n",
       "      <td>2011</td>\n",
       "      <td>Very High</td>\n",
       "      <td>Very High</td>\n",
       "      <td>High</td>\n",
       "      <td>High</td>\n",
       "    </tr>\n",
       "    <tr>\n",
       "      <th>Tonga</th>\n",
       "      <td>29.08</td>\n",
       "      <td>56.04</td>\n",
       "      <td>51.90</td>\n",
       "      <td>28.94</td>\n",
       "      <td>81.80</td>\n",
       "      <td>44.97</td>\n",
       "      <td>2011</td>\n",
       "      <td>Very High</td>\n",
       "      <td>Very High</td>\n",
       "      <td>Medium</td>\n",
       "      <td>Medium</td>\n",
       "    </tr>\n",
       "  </tbody>\n",
       "</table>\n",
       "</div>"
      ],
      "text/plain": [
       "           WRI  Exposure  Vulnerability  Susceptibility  \\\n",
       "Region                                                    \n",
       "Vanuatu  32.00     56.33          56.81           37.14   \n",
       "Tonga    29.08     56.04          51.90           28.94   \n",
       "\n",
       "         Lack of Coping Capabilities   Lack of Adaptive Capacities  Year  \\\n",
       "Region                                                                     \n",
       "Vanuatu                        79.34                         53.96  2011   \n",
       "Tonga                          81.80                         44.97  2011   \n",
       "\n",
       "        Exposure Category WRI Category Vulnerability Category  \\\n",
       "Region                                                          \n",
       "Vanuatu         Very High    Very High                   High   \n",
       "Tonga           Very High    Very High                 Medium   \n",
       "\n",
       "        Susceptibility Category  \n",
       "Region                           \n",
       "Vanuatu                    High  \n",
       "Tonga                    Medium  "
      ]
     },
     "execution_count": 69,
     "metadata": {},
     "output_type": "execute_result"
    }
   ],
   "source": [
    "# Leemos el arhivo\n",
    "df_risk = pd.read_csv(\"files/world_risk_index.csv\", index_col=0)\n",
    "df_risk.head(2)"
   ]
  },
  {
   "attachments": {},
   "cell_type": "markdown",
   "metadata": {},
   "source": [
    "- Exploramos el df"
   ]
  },
  {
   "cell_type": "code",
   "execution_count": 70,
   "metadata": {},
   "outputs": [
    {
     "data": {
      "text/plain": [
       "(1917, 11)"
      ]
     },
     "execution_count": 70,
     "metadata": {},
     "output_type": "execute_result"
    }
   ],
   "source": [
    "df_risk.shape"
   ]
  },
  {
   "cell_type": "code",
   "execution_count": 71,
   "metadata": {},
   "outputs": [
    {
     "name": "stdout",
     "output_type": "stream",
     "text": [
      "<class 'pandas.core.frame.DataFrame'>\n",
      "Index: 1917 entries, Vanuatu to Qatar\n",
      "Data columns (total 11 columns):\n",
      " #   Column                        Non-Null Count  Dtype  \n",
      "---  ------                        --------------  -----  \n",
      " 0   WRI                           1917 non-null   float64\n",
      " 1   Exposure                      1917 non-null   float64\n",
      " 2   Vulnerability                 1917 non-null   float64\n",
      " 3   Susceptibility                1917 non-null   float64\n",
      " 4   Lack of Coping Capabilities   1917 non-null   float64\n",
      " 5    Lack of Adaptive Capacities  1916 non-null   float64\n",
      " 6   Year                          1917 non-null   int64  \n",
      " 7   Exposure Category             1917 non-null   object \n",
      " 8   WRI Category                  1916 non-null   object \n",
      " 9   Vulnerability Category        1913 non-null   object \n",
      " 10  Susceptibility Category       1917 non-null   object \n",
      "dtypes: float64(6), int64(1), object(4)\n",
      "memory usage: 179.7+ KB\n"
     ]
    }
   ],
   "source": [
    "df_risk.info()"
   ]
  },
  {
   "cell_type": "code",
   "execution_count": 72,
   "metadata": {},
   "outputs": [
    {
     "data": {
      "text/html": [
       "<div>\n",
       "<style scoped>\n",
       "    .dataframe tbody tr th:only-of-type {\n",
       "        vertical-align: middle;\n",
       "    }\n",
       "\n",
       "    .dataframe tbody tr th {\n",
       "        vertical-align: top;\n",
       "    }\n",
       "\n",
       "    .dataframe thead th {\n",
       "        text-align: right;\n",
       "    }\n",
       "</style>\n",
       "<table border=\"1\" class=\"dataframe\">\n",
       "  <thead>\n",
       "    <tr style=\"text-align: right;\">\n",
       "      <th></th>\n",
       "      <th>count</th>\n",
       "      <th>mean</th>\n",
       "      <th>std</th>\n",
       "      <th>min</th>\n",
       "      <th>25%</th>\n",
       "      <th>50%</th>\n",
       "      <th>75%</th>\n",
       "      <th>max</th>\n",
       "    </tr>\n",
       "  </thead>\n",
       "  <tbody>\n",
       "    <tr>\n",
       "      <th>WRI</th>\n",
       "      <td>1917.0</td>\n",
       "      <td>7.551763</td>\n",
       "      <td>5.553257</td>\n",
       "      <td>0.02</td>\n",
       "      <td>3.7400</td>\n",
       "      <td>6.52</td>\n",
       "      <td>9.400</td>\n",
       "      <td>56.71</td>\n",
       "    </tr>\n",
       "    <tr>\n",
       "      <th>Exposure</th>\n",
       "      <td>1917.0</td>\n",
       "      <td>15.388336</td>\n",
       "      <td>10.240135</td>\n",
       "      <td>0.05</td>\n",
       "      <td>10.1600</td>\n",
       "      <td>12.76</td>\n",
       "      <td>16.450</td>\n",
       "      <td>99.88</td>\n",
       "    </tr>\n",
       "    <tr>\n",
       "      <th>Vulnerability</th>\n",
       "      <td>1917.0</td>\n",
       "      <td>48.075759</td>\n",
       "      <td>13.835666</td>\n",
       "      <td>14.31</td>\n",
       "      <td>37.0400</td>\n",
       "      <td>47.10</td>\n",
       "      <td>60.060</td>\n",
       "      <td>76.47</td>\n",
       "    </tr>\n",
       "    <tr>\n",
       "      <th>Susceptibility</th>\n",
       "      <td>1917.0</td>\n",
       "      <td>30.739431</td>\n",
       "      <td>15.667030</td>\n",
       "      <td>8.26</td>\n",
       "      <td>17.7900</td>\n",
       "      <td>25.40</td>\n",
       "      <td>42.640</td>\n",
       "      <td>70.83</td>\n",
       "    </tr>\n",
       "    <tr>\n",
       "      <th>Lack of Coping Capabilities</th>\n",
       "      <td>1917.0</td>\n",
       "      <td>70.438289</td>\n",
       "      <td>15.038854</td>\n",
       "      <td>31.59</td>\n",
       "      <td>59.3300</td>\n",
       "      <td>74.23</td>\n",
       "      <td>83.000</td>\n",
       "      <td>94.36</td>\n",
       "    </tr>\n",
       "    <tr>\n",
       "      <th>Lack of Adaptive Capacities</th>\n",
       "      <td>1916.0</td>\n",
       "      <td>43.090511</td>\n",
       "      <td>13.551156</td>\n",
       "      <td>11.16</td>\n",
       "      <td>33.1925</td>\n",
       "      <td>43.08</td>\n",
       "      <td>53.065</td>\n",
       "      <td>76.11</td>\n",
       "    </tr>\n",
       "    <tr>\n",
       "      <th>Year</th>\n",
       "      <td>1917.0</td>\n",
       "      <td>2016.049557</td>\n",
       "      <td>3.182045</td>\n",
       "      <td>2011.00</td>\n",
       "      <td>2013.0000</td>\n",
       "      <td>2016.00</td>\n",
       "      <td>2019.000</td>\n",
       "      <td>2021.00</td>\n",
       "    </tr>\n",
       "  </tbody>\n",
       "</table>\n",
       "</div>"
      ],
      "text/plain": [
       "                               count         mean        std      min  \\\n",
       "WRI                           1917.0     7.551763   5.553257     0.02   \n",
       "Exposure                      1917.0    15.388336  10.240135     0.05   \n",
       "Vulnerability                 1917.0    48.075759  13.835666    14.31   \n",
       "Susceptibility                1917.0    30.739431  15.667030     8.26   \n",
       "Lack of Coping Capabilities   1917.0    70.438289  15.038854    31.59   \n",
       " Lack of Adaptive Capacities  1916.0    43.090511  13.551156    11.16   \n",
       "Year                          1917.0  2016.049557   3.182045  2011.00   \n",
       "\n",
       "                                    25%      50%       75%      max  \n",
       "WRI                              3.7400     6.52     9.400    56.71  \n",
       "Exposure                        10.1600    12.76    16.450    99.88  \n",
       "Vulnerability                   37.0400    47.10    60.060    76.47  \n",
       "Susceptibility                  17.7900    25.40    42.640    70.83  \n",
       "Lack of Coping Capabilities     59.3300    74.23    83.000    94.36  \n",
       " Lack of Adaptive Capacities    33.1925    43.08    53.065    76.11  \n",
       "Year                          2013.0000  2016.00  2019.000  2021.00  "
      ]
     },
     "execution_count": 72,
     "metadata": {},
     "output_type": "execute_result"
    }
   ],
   "source": [
    "df_risk.describe().T"
   ]
  },
  {
   "cell_type": "code",
   "execution_count": 73,
   "metadata": {},
   "outputs": [
    {
     "data": {
      "text/plain": [
       "7"
      ]
     },
     "execution_count": 73,
     "metadata": {},
     "output_type": "execute_result"
    }
   ],
   "source": [
    "len(df_risk.describe().T)"
   ]
  },
  {
   "cell_type": "code",
   "execution_count": 74,
   "metadata": {},
   "outputs": [
    {
     "data": {
      "text/html": [
       "<div>\n",
       "<style scoped>\n",
       "    .dataframe tbody tr th:only-of-type {\n",
       "        vertical-align: middle;\n",
       "    }\n",
       "\n",
       "    .dataframe tbody tr th {\n",
       "        vertical-align: top;\n",
       "    }\n",
       "\n",
       "    .dataframe thead th {\n",
       "        text-align: right;\n",
       "    }\n",
       "</style>\n",
       "<table border=\"1\" class=\"dataframe\">\n",
       "  <thead>\n",
       "    <tr style=\"text-align: right;\">\n",
       "      <th></th>\n",
       "      <th>count</th>\n",
       "      <th>unique</th>\n",
       "      <th>top</th>\n",
       "      <th>freq</th>\n",
       "    </tr>\n",
       "  </thead>\n",
       "  <tbody>\n",
       "    <tr>\n",
       "      <th>Exposure Category</th>\n",
       "      <td>1917</td>\n",
       "      <td>5</td>\n",
       "      <td>Very Low</td>\n",
       "      <td>393</td>\n",
       "    </tr>\n",
       "    <tr>\n",
       "      <th>WRI Category</th>\n",
       "      <td>1916</td>\n",
       "      <td>5</td>\n",
       "      <td>Very Low</td>\n",
       "      <td>393</td>\n",
       "    </tr>\n",
       "    <tr>\n",
       "      <th>Vulnerability Category</th>\n",
       "      <td>1913</td>\n",
       "      <td>5</td>\n",
       "      <td>Very Low</td>\n",
       "      <td>386</td>\n",
       "    </tr>\n",
       "    <tr>\n",
       "      <th>Susceptibility Category</th>\n",
       "      <td>1917</td>\n",
       "      <td>5</td>\n",
       "      <td>Very Low</td>\n",
       "      <td>390</td>\n",
       "    </tr>\n",
       "  </tbody>\n",
       "</table>\n",
       "</div>"
      ],
      "text/plain": [
       "                        count unique       top freq\n",
       "Exposure Category        1917      5  Very Low  393\n",
       "WRI Category             1916      5  Very Low  393\n",
       "Vulnerability Category   1913      5  Very Low  386\n",
       "Susceptibility Category  1917      5  Very Low  390"
      ]
     },
     "execution_count": 74,
     "metadata": {},
     "output_type": "execute_result"
    }
   ],
   "source": [
    "df_risk.describe(include=\"object\").T"
   ]
  },
  {
   "cell_type": "code",
   "execution_count": 75,
   "metadata": {},
   "outputs": [
    {
     "data": {
      "text/plain": [
       "4"
      ]
     },
     "execution_count": 75,
     "metadata": {},
     "output_type": "execute_result"
    }
   ],
   "source": [
    "len(df_risk.describe(include=\"object\").T)"
   ]
  },
  {
   "cell_type": "code",
   "execution_count": 76,
   "metadata": {},
   "outputs": [
    {
     "data": {
      "text/plain": [
       "WRI                             0\n",
       "Exposure                        0\n",
       "Vulnerability                   0\n",
       "Susceptibility                  0\n",
       "Lack of Coping Capabilities     0\n",
       " Lack of Adaptive Capacities    1\n",
       "Year                            0\n",
       "Exposure Category               0\n",
       "WRI Category                    1\n",
       "Vulnerability Category          4\n",
       "Susceptibility Category         0\n",
       "dtype: int64"
      ]
     },
     "execution_count": 76,
     "metadata": {},
     "output_type": "execute_result"
    }
   ],
   "source": [
    "df_risk.isna().sum()"
   ]
  },
  {
   "cell_type": "code",
   "execution_count": 77,
   "metadata": {},
   "outputs": [
    {
     "data": {
      "text/plain": [
       "0"
      ]
     },
     "execution_count": 77,
     "metadata": {},
     "output_type": "execute_result"
    }
   ],
   "source": [
    "df_risk.duplicated().sum()"
   ]
  },
  {
   "attachments": {},
   "cell_type": "markdown",
   "metadata": {},
   "source": [
    "Homogenizamos los nombres de las columnas:"
   ]
  },
  {
   "cell_type": "code",
   "execution_count": 78,
   "metadata": {},
   "outputs": [
    {
     "data": {
      "text/plain": [
       "Index(['wri', 'exposure', 'vulnerability', 'susceptibility',\n",
       "       'lack_of_coping_capabilities', 'lack_of_adaptive_capacities', 'year',\n",
       "       'exposure_category', 'wri_category', 'vulnerability_category',\n",
       "       'susceptibility_category'],\n",
       "      dtype='object')"
      ]
     },
     "execution_count": 78,
     "metadata": {},
     "output_type": "execute_result"
    }
   ],
   "source": [
    "columnas_min = {col:col.lower().strip().replace(\" \",\"_\") for col in df_risk.columns}\n",
    "df_risk.rename(columns = columnas_min, inplace=True)\n",
    "df_risk.columns"
   ]
  },
  {
   "attachments": {},
   "cell_type": "markdown",
   "metadata": {},
   "source": [
    "## 2. Extraer los siguentes estadísiticos del conjunto de datos para varias de las variables disponibles:\n",
    "- Media\n",
    "- Desviación con respecto de la media\n",
    "- Varianza\n",
    "- Desviación típica\n",
    "- Moda\n",
    "- Mediana\n",
    "- Media ponderada\n",
    "- Robustez\n",
    "- Coeficiente de variación"
   ]
  },
  {
   "attachments": {},
   "cell_type": "markdown",
   "metadata": {},
   "source": [
    "## Medidas de tendencia central\n",
    "- Media\n",
    "- Mediana\n",
    "- Moda"
   ]
  },
  {
   "cell_type": "code",
   "execution_count": 79,
   "metadata": {},
   "outputs": [
    {
     "data": {
      "text/plain": [
       "Index(['wri', 'exposure', 'vulnerability', 'susceptibility',\n",
       "       'lack_of_coping_capabilities', 'lack_of_adaptive_capacities', 'year',\n",
       "       'exposure_category', 'wri_category', 'vulnerability_category',\n",
       "       'susceptibility_category'],\n",
       "      dtype='object')"
      ]
     },
     "execution_count": 79,
     "metadata": {},
     "output_type": "execute_result"
    }
   ],
   "source": [
    "df_risk.columns"
   ]
  },
  {
   "cell_type": "code",
   "execution_count": 80,
   "metadata": {},
   "outputs": [],
   "source": [
    "# Función para sacar la media\n",
    "def media (df,col):\n",
    "    media = df[col].mean()\n",
    "    return media"
   ]
  },
  {
   "cell_type": "code",
   "execution_count": 106,
   "metadata": {},
   "outputs": [
    {
     "data": {
      "text/plain": [
       "48.07575899843497"
      ]
     },
     "execution_count": 106,
     "metadata": {},
     "output_type": "execute_result"
    }
   ],
   "source": [
    "media_vul= media(df_risk,\"vulnerability\")\n",
    "media_vul"
   ]
  },
  {
   "cell_type": "code",
   "execution_count": 105,
   "metadata": {},
   "outputs": [
    {
     "data": {
      "text/plain": [
       "7.551763171622318"
      ]
     },
     "execution_count": 105,
     "metadata": {},
     "output_type": "execute_result"
    }
   ],
   "source": [
    "media_wri = media(df_risk,\"wri\")\n",
    "media_wri"
   ]
  },
  {
   "cell_type": "code",
   "execution_count": 82,
   "metadata": {},
   "outputs": [],
   "source": [
    "# Función para sacar la mediana\n",
    "def mediana (df,col):\n",
    "    mediana = df[col].median()\n",
    "    return mediana"
   ]
  },
  {
   "cell_type": "code",
   "execution_count": 107,
   "metadata": {},
   "outputs": [
    {
     "data": {
      "text/plain": [
       "48.07575899843497"
      ]
     },
     "execution_count": 107,
     "metadata": {},
     "output_type": "execute_result"
    }
   ],
   "source": [
    "mediana_vul= media(df_risk,\"vulnerability\")\n",
    "mediana_vul"
   ]
  },
  {
   "cell_type": "code",
   "execution_count": 83,
   "metadata": {},
   "outputs": [],
   "source": [
    "# Función para sacar la moda\n",
    "def moda (df,col):\n",
    "    moda = df[col].mode()\n",
    "    return moda"
   ]
  },
  {
   "cell_type": "code",
   "execution_count": 108,
   "metadata": {},
   "outputs": [
    {
     "data": {
      "text/plain": [
       "48.07575899843497"
      ]
     },
     "execution_count": 108,
     "metadata": {},
     "output_type": "execute_result"
    }
   ],
   "source": [
    "moda_vul= media(df_risk,\"vulnerability\")\n",
    "moda_vul"
   ]
  },
  {
   "cell_type": "code",
   "execution_count": 109,
   "metadata": {},
   "outputs": [],
   "source": [
    "# Se crea una función para imprimir los principales estadísticos:\n",
    "def sacar_estadisticos_central (df,col):\n",
    "    media = df[col].mean()\n",
    "    print(f\"La media de {col} es {media}\")\n",
    "    print (\"------------------------------------------\")\n",
    "\n",
    "    mediana = df[col].median()\n",
    "    print(f\"La mediana de {col} es {mediana}\")\n",
    "    print (\"------------------------------------------\")\n",
    "\n",
    "    moda = df[col].mode()\n",
    "    if len(moda) > 1:\n",
    "        print(f\"\"\"Moda: {col} tiene {len(moda)} modas, las modas son \n",
    "{moda}\"\"\")\n",
    "        print (\"------------------------------------------\")  \n",
    "    else:\n",
    "        print(f\"La moda de {col} es {moda[0]}\")\n",
    "        print (\"------------------------------------------\")\n"
   ]
  },
  {
   "cell_type": "code",
   "execution_count": 85,
   "metadata": {},
   "outputs": [
    {
     "name": "stdout",
     "output_type": "stream",
     "text": [
      "La media de wri es 7.551763171622318\n",
      "------------------------------------------\n",
      "La mediana de wri es 6.52\n",
      "------------------------------------------\n",
      "Moda: wri tiene 2 modas, las modas son \n",
      "0    3.46\n",
      "1    3.56\n",
      "Name: wri, dtype: float64\n",
      "------------------------------------------\n"
     ]
    }
   ],
   "source": [
    "sacar_estadisticos_central (df_risk,\"wri\")"
   ]
  },
  {
   "cell_type": "code",
   "execution_count": 86,
   "metadata": {},
   "outputs": [
    {
     "name": "stdout",
     "output_type": "stream",
     "text": [
      "La media de exposure es 15.388335941575347\n",
      "------------------------------------------\n",
      "La mediana de exposure es 12.76\n",
      "------------------------------------------\n",
      "La moda de exposure es 12.25\n",
      "------------------------------------------\n"
     ]
    }
   ],
   "source": [
    "sacar_estadisticos_central (df_risk,\"exposure\")"
   ]
  },
  {
   "attachments": {},
   "cell_type": "markdown",
   "metadata": {},
   "source": [
    "- Desviación media"
   ]
  },
  {
   "cell_type": "code",
   "execution_count": 87,
   "metadata": {},
   "outputs": [],
   "source": [
    "def desviacion_media (df, col):\n",
    "    media = df[col].mean()\n",
    "    diferencias = df[col]-media\n",
    "    desviacion_media = np.abs(diferencias)\n",
    "    return desviacion_media"
   ]
  },
  {
   "cell_type": "code",
   "execution_count": 88,
   "metadata": {},
   "outputs": [
    {
     "data": {
      "text/plain": [
       "Region\n",
       "Vanuatu         24.448237\n",
       "Tonga           21.528237\n",
       "Philippinen     16.768237\n",
       "Salomonen       15.958237\n",
       "Guatemala       13.328237\n",
       "                  ...    \n",
       "Grenada          6.131763\n",
       "Barbados         6.231763\n",
       "Saudi Arabia     6.411763\n",
       "Malta            6.951763\n",
       "Qatar            7.471763\n",
       "Name: wri, Length: 1917, dtype: float64"
      ]
     },
     "execution_count": 88,
     "metadata": {},
     "output_type": "execute_result"
    }
   ],
   "source": [
    "desviacion_media (df_risk, \"wri\")"
   ]
  },
  {
   "cell_type": "code",
   "execution_count": 89,
   "metadata": {},
   "outputs": [
    {
     "data": {
      "text/plain": [
       "Region\n",
       "Vanuatu         40.941664\n",
       "Tonga           40.651664\n",
       "Philippinen     29.701664\n",
       "Salomonen       21.011664\n",
       "Guatemala       23.031664\n",
       "                  ...    \n",
       "Grenada         12.258336\n",
       "Barbados        11.928336\n",
       "Saudi Arabia    12.458336\n",
       "Malta           13.738336\n",
       "Qatar           15.108336\n",
       "Name: exposure, Length: 1917, dtype: float64"
      ]
     },
     "execution_count": 89,
     "metadata": {},
     "output_type": "execute_result"
    }
   ],
   "source": [
    "desviacion_media (df_risk, \"exposure\")"
   ]
  },
  {
   "attachments": {},
   "cell_type": "markdown",
   "metadata": {},
   "source": [
    "- Media ponderada"
   ]
  },
  {
   "attachments": {},
   "cell_type": "markdown",
   "metadata": {},
   "source": [
    "Al no existir una ponderación de los datos generamos un valor ficticio"
   ]
  },
  {
   "cell_type": "code",
   "execution_count": 90,
   "metadata": {},
   "outputs": [],
   "source": [
    "def media_ponderada(df,col):\n",
    "    w = np.random.randint(0,100, df.shape[0])\n",
    "\n",
    "    avg = np.average(df[col], weights=w)\n",
    "    \n",
    "    return avg"
   ]
  },
  {
   "cell_type": "code",
   "execution_count": 91,
   "metadata": {},
   "outputs": [
    {
     "data": {
      "text/plain": [
       "7.4824351860659295"
      ]
     },
     "execution_count": 91,
     "metadata": {},
     "output_type": "execute_result"
    }
   ],
   "source": [
    "media_ponderada(df_risk,\"wri\")"
   ]
  },
  {
   "attachments": {},
   "cell_type": "markdown",
   "metadata": {},
   "source": [
    "## Estadísticos generales\n",
    "\n",
    "- Mínimo\n",
    "- Máximo"
   ]
  },
  {
   "cell_type": "code",
   "execution_count": 92,
   "metadata": {},
   "outputs": [],
   "source": [
    "def minimo_maximo (df,col):\n",
    "    \n",
    "    minimo = df[col].min()\n",
    "    print(f\"El valor mínimo de {col} es {minimo}\")\n",
    "    print (\"------------------------------------------\")\n",
    "\n",
    "    maximo = df[col].max()\n",
    "    print(f\"El valor máximo de {col} es {maximo}\")\n",
    "    print (\"------------------------------------------\")"
   ]
  },
  {
   "cell_type": "code",
   "execution_count": 93,
   "metadata": {},
   "outputs": [
    {
     "name": "stdout",
     "output_type": "stream",
     "text": [
      "El valor mínimo de wri es 0.02\n",
      "------------------------------------------\n",
      "El valor máximo de wri es 56.71\n",
      "------------------------------------------\n"
     ]
    }
   ],
   "source": [
    "minimo_maximo (df_risk,\"wri\")"
   ]
  },
  {
   "cell_type": "code",
   "execution_count": 94,
   "metadata": {},
   "outputs": [
    {
     "data": {
      "text/html": [
       "<div>\n",
       "<style scoped>\n",
       "    .dataframe tbody tr th:only-of-type {\n",
       "        vertical-align: middle;\n",
       "    }\n",
       "\n",
       "    .dataframe tbody tr th {\n",
       "        vertical-align: top;\n",
       "    }\n",
       "\n",
       "    .dataframe thead th {\n",
       "        text-align: right;\n",
       "    }\n",
       "</style>\n",
       "<table border=\"1\" class=\"dataframe\">\n",
       "  <thead>\n",
       "    <tr style=\"text-align: right;\">\n",
       "      <th></th>\n",
       "      <th>wri</th>\n",
       "      <th>exposure</th>\n",
       "      <th>vulnerability</th>\n",
       "      <th>susceptibility</th>\n",
       "      <th>lack_of_coping_capabilities</th>\n",
       "      <th>lack_of_adaptive_capacities</th>\n",
       "      <th>year</th>\n",
       "      <th>exposure_category</th>\n",
       "      <th>wri_category</th>\n",
       "      <th>vulnerability_category</th>\n",
       "      <th>susceptibility_category</th>\n",
       "    </tr>\n",
       "    <tr>\n",
       "      <th>Region</th>\n",
       "      <th></th>\n",
       "      <th></th>\n",
       "      <th></th>\n",
       "      <th></th>\n",
       "      <th></th>\n",
       "      <th></th>\n",
       "      <th></th>\n",
       "      <th></th>\n",
       "      <th></th>\n",
       "      <th></th>\n",
       "      <th></th>\n",
       "    </tr>\n",
       "  </thead>\n",
       "  <tbody>\n",
       "    <tr>\n",
       "      <th>Vanuatu</th>\n",
       "      <td>56.71</td>\n",
       "      <td>99.88</td>\n",
       "      <td>56.78</td>\n",
       "      <td>35.32</td>\n",
       "      <td>84.36</td>\n",
       "      <td>50.66</td>\n",
       "      <td>2019</td>\n",
       "      <td>Very High</td>\n",
       "      <td>Very High</td>\n",
       "      <td>High</td>\n",
       "      <td>High</td>\n",
       "    </tr>\n",
       "  </tbody>\n",
       "</table>\n",
       "</div>"
      ],
      "text/plain": [
       "           wri  exposure  vulnerability  susceptibility  \\\n",
       "Region                                                    \n",
       "Vanuatu  56.71     99.88          56.78           35.32   \n",
       "\n",
       "         lack_of_coping_capabilities  lack_of_adaptive_capacities  year  \\\n",
       "Region                                                                    \n",
       "Vanuatu                        84.36                        50.66  2019   \n",
       "\n",
       "        exposure_category wri_category vulnerability_category  \\\n",
       "Region                                                          \n",
       "Vanuatu         Very High    Very High                   High   \n",
       "\n",
       "        susceptibility_category  \n",
       "Region                           \n",
       "Vanuatu                    High  "
      ]
     },
     "execution_count": 94,
     "metadata": {},
     "output_type": "execute_result"
    }
   ],
   "source": [
    "df_risk[df_risk['wri'] == df_risk['wri'].max()]"
   ]
  },
  {
   "cell_type": "code",
   "execution_count": 95,
   "metadata": {},
   "outputs": [
    {
     "data": {
      "text/html": [
       "<div>\n",
       "<style scoped>\n",
       "    .dataframe tbody tr th:only-of-type {\n",
       "        vertical-align: middle;\n",
       "    }\n",
       "\n",
       "    .dataframe tbody tr th {\n",
       "        vertical-align: top;\n",
       "    }\n",
       "\n",
       "    .dataframe thead th {\n",
       "        text-align: right;\n",
       "    }\n",
       "</style>\n",
       "<table border=\"1\" class=\"dataframe\">\n",
       "  <thead>\n",
       "    <tr style=\"text-align: right;\">\n",
       "      <th></th>\n",
       "      <th>wri</th>\n",
       "      <th>exposure</th>\n",
       "      <th>vulnerability</th>\n",
       "      <th>susceptibility</th>\n",
       "      <th>lack_of_coping_capabilities</th>\n",
       "      <th>lack_of_adaptive_capacities</th>\n",
       "      <th>year</th>\n",
       "      <th>exposure_category</th>\n",
       "      <th>wri_category</th>\n",
       "      <th>vulnerability_category</th>\n",
       "      <th>susceptibility_category</th>\n",
       "    </tr>\n",
       "    <tr>\n",
       "      <th>Region</th>\n",
       "      <th></th>\n",
       "      <th></th>\n",
       "      <th></th>\n",
       "      <th></th>\n",
       "      <th></th>\n",
       "      <th></th>\n",
       "      <th></th>\n",
       "      <th></th>\n",
       "      <th></th>\n",
       "      <th></th>\n",
       "      <th></th>\n",
       "    </tr>\n",
       "  </thead>\n",
       "  <tbody>\n",
       "    <tr>\n",
       "      <th>Katar</th>\n",
       "      <td>0.02</td>\n",
       "      <td>0.05</td>\n",
       "      <td>33.18</td>\n",
       "      <td>9.4</td>\n",
       "      <td>52.12</td>\n",
       "      <td>38.03</td>\n",
       "      <td>2011</td>\n",
       "      <td>Very Low</td>\n",
       "      <td>Very Low</td>\n",
       "      <td>Very Low</td>\n",
       "      <td>Very Low</td>\n",
       "    </tr>\n",
       "  </tbody>\n",
       "</table>\n",
       "</div>"
      ],
      "text/plain": [
       "         wri  exposure  vulnerability  susceptibility  \\\n",
       "Region                                                  \n",
       "Katar   0.02      0.05          33.18             9.4   \n",
       "\n",
       "        lack_of_coping_capabilities  lack_of_adaptive_capacities  year  \\\n",
       "Region                                                                   \n",
       "Katar                         52.12                        38.03  2011   \n",
       "\n",
       "       exposure_category wri_category vulnerability_category  \\\n",
       "Region                                                         \n",
       "Katar           Very Low     Very Low               Very Low   \n",
       "\n",
       "       susceptibility_category  \n",
       "Region                          \n",
       "Katar                 Very Low  "
      ]
     },
     "execution_count": 95,
     "metadata": {},
     "output_type": "execute_result"
    }
   ],
   "source": [
    "df_risk[df_risk['wri'] == df_risk['wri'].min()]"
   ]
  },
  {
   "attachments": {},
   "cell_type": "markdown",
   "metadata": {},
   "source": [
    "## Medidas de dispersión"
   ]
  },
  {
   "attachments": {},
   "cell_type": "markdown",
   "metadata": {},
   "source": [
    "- Varianza\n",
    "- Desviación típica\n",
    "- Coeficiente de variación"
   ]
  },
  {
   "cell_type": "code",
   "execution_count": 96,
   "metadata": {},
   "outputs": [],
   "source": [
    "# Se crea una función para obtener los principales estadísticos:\n",
    "def sacar_dispersion_cuanti (df,col):\n",
    "    print (\"Medidas de dispersión:\")\n",
    "    print (\"------------------------------------------\")\n",
    "    \n",
    "    varianza = df[col].var()\n",
    "    print(f\"La varianza de {col} es {varianza}\")\n",
    "    print (\"------------------------------------------\")\n",
    "    \n",
    "    desviacion = df[col].std()\n",
    "    print(f\"La desviación estándar o típica de {col} es {desviacion}\")\n",
    "    print (\"------------------------------------------\")\n",
    "    \n",
    "    coe_variacion = (df[col].mean() / df[col].std())\n",
    "    print(f\"El coeficiente de variación de {col} es {coe_variacion}\")\n",
    "   "
   ]
  },
  {
   "cell_type": "code",
   "execution_count": 97,
   "metadata": {},
   "outputs": [
    {
     "name": "stdout",
     "output_type": "stream",
     "text": [
      "Medidas de dispersión:\n",
      "------------------------------------------\n",
      "La varianza de wri es 30.838664112985438\n",
      "------------------------------------------\n",
      "La desviación estándar o típica de wri es 5.553257072474264\n",
      "------------------------------------------\n",
      "El coeficiente de variación de wri es 1.3598799898989038\n"
     ]
    }
   ],
   "source": [
    "sacar_dispersion_cuanti (df_risk,\"wri\")"
   ]
  },
  {
   "cell_type": "code",
   "execution_count": 98,
   "metadata": {},
   "outputs": [
    {
     "name": "stdout",
     "output_type": "stream",
     "text": [
      "Medidas de dispersión:\n",
      "------------------------------------------\n",
      "La varianza de exposure es 104.86037087247054\n",
      "------------------------------------------\n",
      "La desviación estándar o típica de exposure es 10.240135295613557\n",
      "------------------------------------------\n",
      "El coeficiente de variación de exposure es 1.5027473268021236\n"
     ]
    }
   ],
   "source": [
    "sacar_dispersion_cuanti (df_risk,\"exposure\")"
   ]
  },
  {
   "attachments": {},
   "cell_type": "markdown",
   "metadata": {},
   "source": [
    "## Robustez"
   ]
  },
  {
   "cell_type": "code",
   "execution_count": 99,
   "metadata": {},
   "outputs": [
    {
     "data": {
      "text/html": [
       "<div>\n",
       "<style scoped>\n",
       "    .dataframe tbody tr th:only-of-type {\n",
       "        vertical-align: middle;\n",
       "    }\n",
       "\n",
       "    .dataframe tbody tr th {\n",
       "        vertical-align: top;\n",
       "    }\n",
       "\n",
       "    .dataframe thead th {\n",
       "        text-align: right;\n",
       "    }\n",
       "</style>\n",
       "<table border=\"1\" class=\"dataframe\">\n",
       "  <thead>\n",
       "    <tr style=\"text-align: right;\">\n",
       "      <th></th>\n",
       "      <th>count</th>\n",
       "      <th>mean</th>\n",
       "      <th>std</th>\n",
       "      <th>min</th>\n",
       "      <th>25%</th>\n",
       "      <th>50%</th>\n",
       "      <th>75%</th>\n",
       "      <th>max</th>\n",
       "    </tr>\n",
       "  </thead>\n",
       "  <tbody>\n",
       "    <tr>\n",
       "      <th>wri</th>\n",
       "      <td>1917.0</td>\n",
       "      <td>7.551763</td>\n",
       "      <td>5.553257</td>\n",
       "      <td>0.02</td>\n",
       "      <td>3.7400</td>\n",
       "      <td>6.52</td>\n",
       "      <td>9.400</td>\n",
       "      <td>56.71</td>\n",
       "    </tr>\n",
       "    <tr>\n",
       "      <th>exposure</th>\n",
       "      <td>1917.0</td>\n",
       "      <td>15.388336</td>\n",
       "      <td>10.240135</td>\n",
       "      <td>0.05</td>\n",
       "      <td>10.1600</td>\n",
       "      <td>12.76</td>\n",
       "      <td>16.450</td>\n",
       "      <td>99.88</td>\n",
       "    </tr>\n",
       "    <tr>\n",
       "      <th>vulnerability</th>\n",
       "      <td>1917.0</td>\n",
       "      <td>48.075759</td>\n",
       "      <td>13.835666</td>\n",
       "      <td>14.31</td>\n",
       "      <td>37.0400</td>\n",
       "      <td>47.10</td>\n",
       "      <td>60.060</td>\n",
       "      <td>76.47</td>\n",
       "    </tr>\n",
       "    <tr>\n",
       "      <th>susceptibility</th>\n",
       "      <td>1917.0</td>\n",
       "      <td>30.739431</td>\n",
       "      <td>15.667030</td>\n",
       "      <td>8.26</td>\n",
       "      <td>17.7900</td>\n",
       "      <td>25.40</td>\n",
       "      <td>42.640</td>\n",
       "      <td>70.83</td>\n",
       "    </tr>\n",
       "    <tr>\n",
       "      <th>lack_of_coping_capabilities</th>\n",
       "      <td>1917.0</td>\n",
       "      <td>70.438289</td>\n",
       "      <td>15.038854</td>\n",
       "      <td>31.59</td>\n",
       "      <td>59.3300</td>\n",
       "      <td>74.23</td>\n",
       "      <td>83.000</td>\n",
       "      <td>94.36</td>\n",
       "    </tr>\n",
       "    <tr>\n",
       "      <th>lack_of_adaptive_capacities</th>\n",
       "      <td>1916.0</td>\n",
       "      <td>43.090511</td>\n",
       "      <td>13.551156</td>\n",
       "      <td>11.16</td>\n",
       "      <td>33.1925</td>\n",
       "      <td>43.08</td>\n",
       "      <td>53.065</td>\n",
       "      <td>76.11</td>\n",
       "    </tr>\n",
       "    <tr>\n",
       "      <th>year</th>\n",
       "      <td>1917.0</td>\n",
       "      <td>2016.049557</td>\n",
       "      <td>3.182045</td>\n",
       "      <td>2011.00</td>\n",
       "      <td>2013.0000</td>\n",
       "      <td>2016.00</td>\n",
       "      <td>2019.000</td>\n",
       "      <td>2021.00</td>\n",
       "    </tr>\n",
       "  </tbody>\n",
       "</table>\n",
       "</div>"
      ],
      "text/plain": [
       "                              count         mean        std      min  \\\n",
       "wri                          1917.0     7.551763   5.553257     0.02   \n",
       "exposure                     1917.0    15.388336  10.240135     0.05   \n",
       "vulnerability                1917.0    48.075759  13.835666    14.31   \n",
       "susceptibility               1917.0    30.739431  15.667030     8.26   \n",
       "lack_of_coping_capabilities  1917.0    70.438289  15.038854    31.59   \n",
       "lack_of_adaptive_capacities  1916.0    43.090511  13.551156    11.16   \n",
       "year                         1917.0  2016.049557   3.182045  2011.00   \n",
       "\n",
       "                                   25%      50%       75%      max  \n",
       "wri                             3.7400     6.52     9.400    56.71  \n",
       "exposure                       10.1600    12.76    16.450    99.88  \n",
       "vulnerability                  37.0400    47.10    60.060    76.47  \n",
       "susceptibility                 17.7900    25.40    42.640    70.83  \n",
       "lack_of_coping_capabilities    59.3300    74.23    83.000    94.36  \n",
       "lack_of_adaptive_capacities    33.1925    43.08    53.065    76.11  \n",
       "year                         2013.0000  2016.00  2019.000  2021.00  "
      ]
     },
     "execution_count": 99,
     "metadata": {},
     "output_type": "execute_result"
    }
   ],
   "source": [
    "# Identificamos las variables numéricas\n",
    "df_risk.describe().T"
   ]
  },
  {
   "attachments": {},
   "cell_type": "markdown",
   "metadata": {},
   "source": [
    "Robustez de la columna \"vulnerability\""
   ]
  },
  {
   "cell_type": "code",
   "execution_count": 110,
   "metadata": {},
   "outputs": [
    {
     "data": {
      "text/plain": [
       "48.07575899843497"
      ]
     },
     "execution_count": 110,
     "metadata": {},
     "output_type": "execute_result"
    }
   ],
   "source": [
    "media_vul= media(df_risk,\"vulnerability\")\n",
    "media_vul"
   ]
  },
  {
   "cell_type": "code",
   "execution_count": 111,
   "metadata": {},
   "outputs": [
    {
     "data": {
      "text/plain": [
       "47.1"
      ]
     },
     "execution_count": 111,
     "metadata": {},
     "output_type": "execute_result"
    }
   ],
   "source": [
    "mediana_vul = mediana(df_risk,\"vulnerability\")\n",
    "mediana_vul"
   ]
  },
  {
   "cell_type": "code",
   "execution_count": 113,
   "metadata": {},
   "outputs": [],
   "source": [
    "def graficar_boxplot (df,col):\n",
    "    \n",
    "    plt.figure()\n",
    "    fig = sns.boxplot( x =col, data = df)\n",
    "\n",
    "    return plt.show()"
   ]
  },
  {
   "cell_type": "code",
   "execution_count": 114,
   "metadata": {},
   "outputs": [
    {
     "data": {
      "image/png": "[encoded data removed]",
      "text/plain": [
       "<Figure size 640x480 with 1 Axes>"
      ]
     },
     "metadata": {},
     "output_type": "display_data"
    }
   ],
   "source": [
    "graficar_boxplot(df_risk,\"vulnerability\")"
   ]
  },
  {
   "cell_type": "code",
   "execution_count": 115,
   "metadata": {},
   "outputs": [
    {
     "data": {
      "text/plain": [
       "0.0005216484089723526"
      ]
     },
     "execution_count": 115,
     "metadata": {},
     "output_type": "execute_result"
    }
   ],
   "source": [
    "# Aplicamos la fórmula para calcular la robustez\n",
    "robus= 1/df_risk.shape[0]\n",
    "robus"
   ]
  },
  {
   "cell_type": "code",
   "execution_count": 119,
   "metadata": {},
   "outputs": [
    {
     "name": "stdout",
     "output_type": "stream",
     "text": [
      "El dato de la robustez es 0.0005 y muestra una robustez alta con un valor muy cercano a cero, \n",
      "lo cual se corresponde con los datos que arrojan la media, 48.08 , y la mediana, 47.1, las cuales varían poco.\n",
      "En el caso del boxplot se evidencia que no existen outliers o valores externos, los cuales debilitarían la robustez de los datos.\n"
     ]
    }
   ],
   "source": [
    "print(f\"\"\"El dato de la robustez es {round(robus,4)} y muestra una robustez alta con un valor muy cercano a cero, \n",
    "lo cual se corresponde con los datos que arrojan la media, {round(media_vul, 2)} , y la mediana, {round(mediana_vul,2)}, las cuales varían poco.\n",
    "En el caso del boxplot se evidencia que no existen outliers o valores externos, los cuales debilitarían la robustez de los datos.\"\"\")\n"
   ]
  },
  {
   "attachments": {},
   "cell_type": "markdown",
   "metadata": {},
   "source": [
    "Robustez de la columna 'lack_of_adaptive_capacities'"
   ]
  },
  {
   "cell_type": "code",
   "execution_count": 122,
   "metadata": {},
   "outputs": [
    {
     "data": {
      "text/plain": [
       "43.090511482254705"
      ]
     },
     "execution_count": 122,
     "metadata": {},
     "output_type": "execute_result"
    }
   ],
   "source": [
    "media_adap = media(df_risk,'lack_of_adaptive_capacities')\n",
    "media_adap"
   ]
  },
  {
   "cell_type": "code",
   "execution_count": 123,
   "metadata": {},
   "outputs": [],
   "source": [
    "mediana_adap = mediana(df_risk,'lack_of_adaptive_capacities')"
   ]
  },
  {
   "cell_type": "code",
   "execution_count": 124,
   "metadata": {},
   "outputs": [
    {
     "data": {
      "image/png": "[encoded data removed]",
      "text/plain": [
       "<Figure size 640x480 with 1 Axes>"
      ]
     },
     "metadata": {},
     "output_type": "display_data"
    }
   ],
   "source": [
    "graficar_boxplot(df_risk,'lack_of_adaptive_capacities')"
   ]
  },
  {
   "cell_type": "code",
   "execution_count": 126,
   "metadata": {},
   "outputs": [
    {
     "data": {
      "text/plain": [
       "0.0005"
      ]
     },
     "execution_count": 126,
     "metadata": {},
     "output_type": "execute_result"
    }
   ],
   "source": [
    "# Aplicamos la fórmula para calcular la robustez\n",
    "robus= round( 1/df_risk.shape[0], 4)\n",
    "robus"
   ]
  },
  {
   "cell_type": "code",
   "execution_count": 129,
   "metadata": {},
   "outputs": [
    {
     "name": "stdout",
     "output_type": "stream",
     "text": [
      "El dato de la robustez es 0.0005 y muestra una robustez alta con un valor muy cercano a cero, \n",
      "lo cual se corresponde con los datos que arrojan la media, 43.09 , y la mediana, 43.08, las cuales varían mínimamente.\n",
      "En el caso del boxplot se evidencia que no existen outliers o valores externos, los cuales pudiesen debilitar la robustez de los datos.\n"
     ]
    }
   ],
   "source": [
    "print(f\"\"\"El dato de la robustez es {round(robus,4)} y muestra una robustez alta con un valor muy cercano a cero, \n",
    "lo cual se corresponde con los datos que arrojan la media, {round(media_adap, 2)} , y la mediana, {round(mediana_adap,2)}, las cuales varían mínimamente.\n",
    "En el caso del boxplot se evidencia que no existen outliers o valores externos, los cuales pudiesen debilitar la robustez de los datos.\"\"\")"
   ]
  },
  {
   "attachments": {},
   "cell_type": "markdown",
   "metadata": {},
   "source": [
    "## Otras opciones\n",
    "\n",
    "El siguiente código nos permite sacar los eatadísticos de todas variables numéricas, sin embargo, este dificulta la lectura de los resultados."
   ]
  },
  {
   "cell_type": "code",
   "execution_count": 102,
   "metadata": {},
   "outputs": [],
   "source": [
    "#for i in df_risk.describe():\n",
    "    #print (i)\n",
    "\n",
    "    #media = df_risk[i].mean()\n",
    "    #print(f\"La media de {i} es {media}\")\n",
    "    \n",
    "    #mediana = df_risk[i].median()\n",
    "    #print(f\"La mediana de {i} es {mediana}\")\n",
    "    \n",
    "    #moda = df_risk[i].mode()\n",
    "    #print(f\"La moda de {i} es {moda}\")\n",
    "    \n",
    "    #minimo = df_risk[i].min()\n",
    "    #print(f\"El mínimo de {i} es {minimo}\")\n",
    "\n",
    "    #maximo = df_risk[i].max()\n",
    "    #print(f\"El máximo de {i} es {maximo}\")\n"
   ]
  },
  {
   "attachments": {},
   "cell_type": "markdown",
   "metadata": {},
   "source": [
    "## 3. Interpretación resultados"
   ]
  },
  {
   "cell_type": "markdown",
   "metadata": {},
   "source": [
    "En la columna WRI nos encontramos con unos datos "
   ]
  },
  {
   "cell_type": "code",
   "execution_count": null,
   "metadata": {},
   "outputs": [
    {
     "data": {
      "text/plain": [
       "1917"
      ]
     },
     "execution_count": 73,
     "metadata": {},
     "output_type": "execute_result"
    }
   ],
   "source": [
    "len((df_risk)['wri'])"
   ]
  },
  {
   "attachments": {},
   "cell_type": "markdown",
   "metadata": {},
   "source": [
    "#Tenemos 1917 valores en la columna WRI (World Risk Score de una región). El país que encabeza este ranking es Vanuatu, con 56.71 puntos, donde aproximadamente 90.000 personas se encuentran en riesgo debido a los ciclones, volcanes, terremotos y tsunamis derivados del cambio climático y su localización en el Pacífico Sur. Por otra parte, el país con menos riesgo es Qatar, con una puntuación de 0.02. Ambos países están muy alejados de la media, situada en 56.71.\n",
    "\n",
    "---------------\n",
    "\n",
    "En la columna de exposure nos encontramos con una varianaza elevada, con un dato de 104,86. Esto parece indicar que que nuestros datos son dispersos. \n",
    "\n",
    "La desviación estándar es una forma de medir la distancia típica entre los valores y la media. Nos dice cómo de dispersos están nuestros datos en un conjunto de datos. En el caso de exposure, la desvición estándar es 10,24, que está por debajo de la media.  Esto puede decirnos que la media no es tan representativa, puesto que igual tenemos países con datos de riesgo muy elevados.\n",
    "\n",
    "La media de esta columna se siúa en 15,38. Y la mediana en 12.76, existe cierta diferencia aunque no es tan elevada. \n",
    "\n"
   ]
  },
  {
   "cell_type": "code",
   "execution_count": null,
   "metadata": {},
   "outputs": [
    {
     "data": {
      "image/png": "[encoded data removed]",
      "text/plain": [
       "<Figure size 432x288 with 1 Axes>"
      ]
     },
     "metadata": {
      "needs_background": "light"
     },
     "output_type": "display_data"
    }
   ],
   "source": [
    "plt.figure()\n",
    "\n",
    "fig= sns.boxplot(x=\"exposure\", data=df_risk)"
   ]
  },
  {
   "cell_type": "code",
   "execution_count": null,
   "metadata": {},
   "outputs": [
    {
     "data": {
      "image/png": "[encoded data removed]",
      "text/plain": [
       "<Figure size 432x288 with 1 Axes>"
      ]
     },
     "metadata": {
      "needs_background": "light"
     },
     "output_type": "display_data"
    }
   ],
   "source": [
    "plt.figure()\n",
    "\n",
    "fig= sns.boxplot(x=\"wri\", data=df_risk)"
   ]
  }
 ],
 "metadata": {
  "kernelspec": {
   "display_name": "base",
   "language": "python",
   "name": "python3"
  },
  "language_info": {
   "codemirror_mode": {
    "name": "ipython",
    "version": 3
   },
   "file_extension": ".py",
   "mimetype": "text/x-python",
   "name": "python",
   "nbconvert_exporter": "python",
   "pygments_lexer": "ipython3",
   "version": "3.9.13"
  },
  "orig_nbformat": 4,
  "vscode": {
   "interpreter": {
    "hash": "f2104d434ce3092b7c07d5af98c90652611c7ad655b2a72b59e9e675e449bc7b"
   }
  }
 },
 "nbformat": 4,
 "nbformat_minor": 2
}

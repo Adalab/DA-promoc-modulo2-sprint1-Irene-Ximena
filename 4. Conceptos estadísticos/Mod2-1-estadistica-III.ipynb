{
 "cells": [
  {
   "cell_type": "markdown",
   "metadata": {},
   "source": [
    "# Pair Programming Estadística III"
   ]
  },
  {
   "cell_type": "markdown",
   "metadata": {},
   "source": [
    "Vamos ahora a tomar de nuevo el conjunto de datos con el que estuvimos trabajando en los últimos días y vamos a continuar con el análisis de las estadísitcas de los contenidos del conjunto de datos.\n",
    "Para todas los ejercicios de pair programming de Estadística I, II y III usaremos el dataframe que se tome para el desarrollo de este ejercicio de pair programming."
   ]
  },
  {
   "cell_type": "code",
   "execution_count": 45,
   "metadata": {},
   "outputs": [],
   "source": [
    "import numpy as np\n",
    "import pandas as pd\n",
    "import seaborn as sns\n",
    "from scipy.stats import skew\n",
    "from pydataset import data\n",
    "import matplotlib.pyplot as plt\n",
    "\n"
   ]
  },
  {
   "attachments": {},
   "cell_type": "markdown",
   "metadata": {},
   "source": [
    "1. Extraer los siguentes estadísiticos del conjunto de datos para varias de las varibles disponibles:\n",
    "- Tabla de contingencia\n",
    "- Coeficiente de correlación de las variables numéricas del dataset.\n",
    "- Sesgos de alguna de las variables numéricas del dataset.\n",
    "- Intervalo de confianza de algunas de las variables numéricas del dataset"
   ]
  },
  {
   "cell_type": "code",
   "execution_count": 3,
   "metadata": {},
   "outputs": [
    {
     "data": {
      "text/html": [
       "<div>\n",
       "<style scoped>\n",
       "    .dataframe tbody tr th:only-of-type {\n",
       "        vertical-align: middle;\n",
       "    }\n",
       "\n",
       "    .dataframe tbody tr th {\n",
       "        vertical-align: top;\n",
       "    }\n",
       "\n",
       "    .dataframe thead th {\n",
       "        text-align: right;\n",
       "    }\n",
       "</style>\n",
       "<table border=\"1\" class=\"dataframe\">\n",
       "  <thead>\n",
       "    <tr style=\"text-align: right;\">\n",
       "      <th></th>\n",
       "      <th>WRI</th>\n",
       "      <th>Exposure</th>\n",
       "      <th>Vulnerability</th>\n",
       "      <th>Susceptibility</th>\n",
       "      <th>Lack of Coping Capabilities</th>\n",
       "      <th>Lack of Adaptive Capacities</th>\n",
       "      <th>Year</th>\n",
       "      <th>Exposure Category</th>\n",
       "      <th>WRI Category</th>\n",
       "      <th>Vulnerability Category</th>\n",
       "      <th>Susceptibility Category</th>\n",
       "    </tr>\n",
       "    <tr>\n",
       "      <th>Region</th>\n",
       "      <th></th>\n",
       "      <th></th>\n",
       "      <th></th>\n",
       "      <th></th>\n",
       "      <th></th>\n",
       "      <th></th>\n",
       "      <th></th>\n",
       "      <th></th>\n",
       "      <th></th>\n",
       "      <th></th>\n",
       "      <th></th>\n",
       "    </tr>\n",
       "  </thead>\n",
       "  <tbody>\n",
       "    <tr>\n",
       "      <th>Vanuatu</th>\n",
       "      <td>32.00</td>\n",
       "      <td>56.33</td>\n",
       "      <td>56.81</td>\n",
       "      <td>37.14</td>\n",
       "      <td>79.34</td>\n",
       "      <td>53.96</td>\n",
       "      <td>2011</td>\n",
       "      <td>Very High</td>\n",
       "      <td>Very High</td>\n",
       "      <td>High</td>\n",
       "      <td>High</td>\n",
       "    </tr>\n",
       "    <tr>\n",
       "      <th>Tonga</th>\n",
       "      <td>29.08</td>\n",
       "      <td>56.04</td>\n",
       "      <td>51.90</td>\n",
       "      <td>28.94</td>\n",
       "      <td>81.80</td>\n",
       "      <td>44.97</td>\n",
       "      <td>2011</td>\n",
       "      <td>Very High</td>\n",
       "      <td>Very High</td>\n",
       "      <td>Medium</td>\n",
       "      <td>Medium</td>\n",
       "    </tr>\n",
       "  </tbody>\n",
       "</table>\n",
       "</div>"
      ],
      "text/plain": [
       "           WRI  Exposure  Vulnerability  Susceptibility  \\\n",
       "Region                                                    \n",
       "Vanuatu  32.00     56.33          56.81           37.14   \n",
       "Tonga    29.08     56.04          51.90           28.94   \n",
       "\n",
       "         Lack of Coping Capabilities   Lack of Adaptive Capacities  Year  \\\n",
       "Region                                                                     \n",
       "Vanuatu                        79.34                         53.96  2011   \n",
       "Tonga                          81.80                         44.97  2011   \n",
       "\n",
       "        Exposure Category WRI Category Vulnerability Category  \\\n",
       "Region                                                          \n",
       "Vanuatu         Very High    Very High                   High   \n",
       "Tonga           Very High    Very High                 Medium   \n",
       "\n",
       "        Susceptibility Category  \n",
       "Region                           \n",
       "Vanuatu                    High  \n",
       "Tonga                    Medium  "
      ]
     },
     "execution_count": 3,
     "metadata": {},
     "output_type": "execute_result"
    }
   ],
   "source": [
    "df_risk = pd.read_csv(\"4. Conceptos estadísticos/files/world_risk_index.csv\", index_col=0)\n",
    "df_risk.head(2)"
   ]
  },
  {
   "cell_type": "code",
   "execution_count": 5,
   "metadata": {},
   "outputs": [],
   "source": [
    "columnas_min = {col:col.lower().strip().replace(\" \",\"_\") for col in df_risk.columns}\n",
    "df_risk.rename(columns = columnas_min, inplace=True)\n"
   ]
  },
  {
   "cell_type": "code",
   "execution_count": 8,
   "metadata": {},
   "outputs": [
    {
     "data": {
      "text/html": [
       "<div>\n",
       "<style scoped>\n",
       "    .dataframe tbody tr th:only-of-type {\n",
       "        vertical-align: middle;\n",
       "    }\n",
       "\n",
       "    .dataframe tbody tr th {\n",
       "        vertical-align: top;\n",
       "    }\n",
       "\n",
       "    .dataframe thead th {\n",
       "        text-align: right;\n",
       "    }\n",
       "</style>\n",
       "<table border=\"1\" class=\"dataframe\">\n",
       "  <thead>\n",
       "    <tr style=\"text-align: right;\">\n",
       "      <th></th>\n",
       "      <th>exposure_category</th>\n",
       "      <th>wri_category</th>\n",
       "      <th>vulnerability_category</th>\n",
       "      <th>susceptibility_category</th>\n",
       "    </tr>\n",
       "  </thead>\n",
       "  <tbody>\n",
       "    <tr>\n",
       "      <th>count</th>\n",
       "      <td>1917</td>\n",
       "      <td>1916</td>\n",
       "      <td>1913</td>\n",
       "      <td>1917</td>\n",
       "    </tr>\n",
       "    <tr>\n",
       "      <th>unique</th>\n",
       "      <td>5</td>\n",
       "      <td>5</td>\n",
       "      <td>5</td>\n",
       "      <td>5</td>\n",
       "    </tr>\n",
       "    <tr>\n",
       "      <th>top</th>\n",
       "      <td>Very Low</td>\n",
       "      <td>Very Low</td>\n",
       "      <td>Very Low</td>\n",
       "      <td>Very Low</td>\n",
       "    </tr>\n",
       "    <tr>\n",
       "      <th>freq</th>\n",
       "      <td>393</td>\n",
       "      <td>393</td>\n",
       "      <td>386</td>\n",
       "      <td>390</td>\n",
       "    </tr>\n",
       "  </tbody>\n",
       "</table>\n",
       "</div>"
      ],
      "text/plain": [
       "       exposure_category wri_category vulnerability_category  \\\n",
       "count               1917         1916                   1913   \n",
       "unique                 5            5                      5   \n",
       "top             Very Low     Very Low               Very Low   \n",
       "freq                 393          393                    386   \n",
       "\n",
       "       susceptibility_category  \n",
       "count                     1917  \n",
       "unique                       5  \n",
       "top                   Very Low  \n",
       "freq                       390  "
      ]
     },
     "execution_count": 8,
     "metadata": {},
     "output_type": "execute_result"
    }
   ],
   "source": [
    "df_risk.describe(include = 'object')"
   ]
  },
  {
   "attachments": {},
   "cell_type": "markdown",
   "metadata": {},
   "source": [
    "## Tabla de contingencia"
   ]
  },
  {
   "cell_type": "code",
   "execution_count": 23,
   "metadata": {},
   "outputs": [
    {
     "data": {
      "text/html": [
       "<div>\n",
       "<style scoped>\n",
       "    .dataframe tbody tr th:only-of-type {\n",
       "        vertical-align: middle;\n",
       "    }\n",
       "\n",
       "    .dataframe tbody tr th {\n",
       "        vertical-align: top;\n",
       "    }\n",
       "\n",
       "    .dataframe thead th {\n",
       "        text-align: right;\n",
       "    }\n",
       "</style>\n",
       "<table border=\"1\" class=\"dataframe\">\n",
       "  <thead>\n",
       "    <tr style=\"text-align: right;\">\n",
       "      <th>vulnerability_category</th>\n",
       "      <th>High</th>\n",
       "      <th>Low</th>\n",
       "      <th>Medium</th>\n",
       "      <th>Very High</th>\n",
       "      <th>Very Low</th>\n",
       "      <th>All</th>\n",
       "    </tr>\n",
       "    <tr>\n",
       "      <th>exposure_category</th>\n",
       "      <th></th>\n",
       "      <th></th>\n",
       "      <th></th>\n",
       "      <th></th>\n",
       "      <th></th>\n",
       "      <th></th>\n",
       "    </tr>\n",
       "  </thead>\n",
       "  <tbody>\n",
       "    <tr>\n",
       "      <th>High</th>\n",
       "      <td>53</td>\n",
       "      <td>59</td>\n",
       "      <td>96</td>\n",
       "      <td>122</td>\n",
       "      <td>49</td>\n",
       "      <td>379</td>\n",
       "    </tr>\n",
       "    <tr>\n",
       "      <th>Low</th>\n",
       "      <td>60</td>\n",
       "      <td>76</td>\n",
       "      <td>49</td>\n",
       "      <td>76</td>\n",
       "      <td>118</td>\n",
       "      <td>379</td>\n",
       "    </tr>\n",
       "    <tr>\n",
       "      <th>Medium</th>\n",
       "      <td>65</td>\n",
       "      <td>54</td>\n",
       "      <td>86</td>\n",
       "      <td>122</td>\n",
       "      <td>53</td>\n",
       "      <td>380</td>\n",
       "    </tr>\n",
       "    <tr>\n",
       "      <th>Very High</th>\n",
       "      <td>143</td>\n",
       "      <td>71</td>\n",
       "      <td>90</td>\n",
       "      <td>43</td>\n",
       "      <td>35</td>\n",
       "      <td>382</td>\n",
       "    </tr>\n",
       "    <tr>\n",
       "      <th>Very Low</th>\n",
       "      <td>59</td>\n",
       "      <td>121</td>\n",
       "      <td>63</td>\n",
       "      <td>19</td>\n",
       "      <td>131</td>\n",
       "      <td>393</td>\n",
       "    </tr>\n",
       "    <tr>\n",
       "      <th>All</th>\n",
       "      <td>380</td>\n",
       "      <td>381</td>\n",
       "      <td>384</td>\n",
       "      <td>382</td>\n",
       "      <td>386</td>\n",
       "      <td>1913</td>\n",
       "    </tr>\n",
       "  </tbody>\n",
       "</table>\n",
       "</div>"
      ],
      "text/plain": [
       "vulnerability_category  High  Low  Medium  Very High  Very Low   All\n",
       "exposure_category                                                   \n",
       "High                      53   59      96        122        49   379\n",
       "Low                       60   76      49         76       118   379\n",
       "Medium                    65   54      86        122        53   380\n",
       "Very High                143   71      90         43        35   382\n",
       "Very Low                  59  121      63         19       131   393\n",
       "All                      380  381     384        382       386  1913"
      ]
     },
     "execution_count": 23,
     "metadata": {},
     "output_type": "execute_result"
    }
   ],
   "source": [
    "df_risk_crosstab = pd.crosstab(df_risk['exposure_category'], \n",
    "                            df_risk['vulnerability_category'], margins = True) \n",
    "df_risk_crosstab"
   ]
  },
  {
   "cell_type": "code",
   "execution_count": 15,
   "metadata": {},
   "outputs": [
    {
     "data": {
      "text/plain": [
       "<AxesSubplot:xlabel='exposure_category', ylabel='count'>"
      ]
     },
     "execution_count": 15,
     "metadata": {},
     "output_type": "execute_result"
    },
    {
     "data": {
      "image/png": "[encoded data removed]",
      "text/plain": [
       "<Figure size 432x288 with 1 Axes>"
      ]
     },
     "metadata": {
      "needs_background": "light"
     },
     "output_type": "display_data"
    }
   ],
   "source": [
    "sns.countplot(data = df_risk, x = 'exposure_category', hue = 'vulnerability_category')\n",
    "\n"
   ]
  },
  {
   "attachments": {},
   "cell_type": "markdown",
   "metadata": {},
   "source": [
    "Parece que a mayor exposición, mayor vulnerabilidad tiene un país en la mayoría d elos casos (143 regiones). Aunque 161 regiones tienen una exposición elevada y una vulnerabilidad media o baja. Pero ojo, hay valores que se repiten dentro de la categoría regiones."
   ]
  },
  {
   "cell_type": "code",
   "execution_count": 26,
   "metadata": {},
   "outputs": [
    {
     "data": {
      "text/plain": [
       "43"
      ]
     },
     "execution_count": 26,
     "metadata": {},
     "output_type": "execute_result"
    }
   ],
   "source": [
    "alta_exposicion = df_risk[(df_risk['exposure_category'] == 'Very High') & (df_risk['vulnerability_category'] == 'Very High') ].reset_index()\n",
    "alta_exposicion['Region'].size"
   ]
  },
  {
   "cell_type": "code",
   "execution_count": 29,
   "metadata": {},
   "outputs": [
    {
     "data": {
      "text/plain": [
       "Papua-Neuguinea     8\n",
       "Guinea-Bissau       8\n",
       "Timor-Leste         4\n",
       "Komoren             3\n",
       "Haiti               3\n",
       "Kamerun             3\n",
       "Salomonen           2\n",
       "Bangladesch         2\n",
       "Solomon Islands     2\n",
       "Papua New Guinea    2\n",
       "Madagaskar          1\n",
       "Afghanistan         1\n",
       "Niger               1\n",
       "Nigeria             1\n",
       "Gambia              1\n",
       "Dschibuti           1\n",
       "Name: Region, dtype: int64"
      ]
     },
     "execution_count": 29,
     "metadata": {},
     "output_type": "execute_result"
    }
   ],
   "source": [
    "alta_exposicion['Region'].value_counts()"
   ]
  },
  {
   "cell_type": "code",
   "execution_count": 33,
   "metadata": {},
   "outputs": [
    {
     "data": {
      "text/html": [
       "<div>\n",
       "<style scoped>\n",
       "    .dataframe tbody tr th:only-of-type {\n",
       "        vertical-align: middle;\n",
       "    }\n",
       "\n",
       "    .dataframe tbody tr th {\n",
       "        vertical-align: top;\n",
       "    }\n",
       "\n",
       "    .dataframe thead th {\n",
       "        text-align: right;\n",
       "    }\n",
       "</style>\n",
       "<table border=\"1\" class=\"dataframe\">\n",
       "  <thead>\n",
       "    <tr style=\"text-align: right;\">\n",
       "      <th></th>\n",
       "      <th>wri</th>\n",
       "      <th>exposure</th>\n",
       "      <th>vulnerability</th>\n",
       "      <th>susceptibility</th>\n",
       "      <th>lack_of_coping_capabilities</th>\n",
       "      <th>lack_of_adaptive_capacities</th>\n",
       "      <th>year</th>\n",
       "      <th>exposure_category</th>\n",
       "      <th>wri_category</th>\n",
       "      <th>vulnerability_category</th>\n",
       "      <th>susceptibility_category</th>\n",
       "    </tr>\n",
       "    <tr>\n",
       "      <th>Region</th>\n",
       "      <th></th>\n",
       "      <th></th>\n",
       "      <th></th>\n",
       "      <th></th>\n",
       "      <th></th>\n",
       "      <th></th>\n",
       "      <th></th>\n",
       "      <th></th>\n",
       "      <th></th>\n",
       "      <th></th>\n",
       "      <th></th>\n",
       "    </tr>\n",
       "  </thead>\n",
       "  <tbody>\n",
       "    <tr>\n",
       "      <th>Vanuatu</th>\n",
       "      <td>32.0</td>\n",
       "      <td>56.33</td>\n",
       "      <td>56.81</td>\n",
       "      <td>37.14</td>\n",
       "      <td>79.34</td>\n",
       "      <td>53.96</td>\n",
       "      <td>2011</td>\n",
       "      <td>Very High</td>\n",
       "      <td>Very High</td>\n",
       "      <td>High</td>\n",
       "      <td>High</td>\n",
       "    </tr>\n",
       "  </tbody>\n",
       "</table>\n",
       "</div>"
      ],
      "text/plain": [
       "          wri  exposure  vulnerability  susceptibility  \\\n",
       "Region                                                   \n",
       "Vanuatu  32.0     56.33          56.81           37.14   \n",
       "\n",
       "         lack_of_coping_capabilities  lack_of_adaptive_capacities  year  \\\n",
       "Region                                                                    \n",
       "Vanuatu                        79.34                        53.96  2011   \n",
       "\n",
       "        exposure_category wri_category vulnerability_category  \\\n",
       "Region                                                          \n",
       "Vanuatu         Very High    Very High                   High   \n",
       "\n",
       "        susceptibility_category  \n",
       "Region                           \n",
       "Vanuatu                    High  "
      ]
     },
     "execution_count": 33,
     "metadata": {},
     "output_type": "execute_result"
    }
   ],
   "source": [
    "df_risk.head(1)"
   ]
  },
  {
   "cell_type": "markdown",
   "metadata": {},
   "source": [
    "## Coeficiente de correlación"
   ]
  },
  {
   "cell_type": "code",
   "execution_count": 35,
   "metadata": {},
   "outputs": [
    {
     "data": {
      "text/html": [
       "<div>\n",
       "<style scoped>\n",
       "    .dataframe tbody tr th:only-of-type {\n",
       "        vertical-align: middle;\n",
       "    }\n",
       "\n",
       "    .dataframe tbody tr th {\n",
       "        vertical-align: top;\n",
       "    }\n",
       "\n",
       "    .dataframe thead th {\n",
       "        text-align: right;\n",
       "    }\n",
       "</style>\n",
       "<table border=\"1\" class=\"dataframe\">\n",
       "  <thead>\n",
       "    <tr style=\"text-align: right;\">\n",
       "      <th></th>\n",
       "      <th>wri</th>\n",
       "      <th>exposure</th>\n",
       "      <th>vulnerability</th>\n",
       "      <th>susceptibility</th>\n",
       "      <th>lack_of_coping_capabilities</th>\n",
       "      <th>lack_of_adaptive_capacities</th>\n",
       "      <th>year</th>\n",
       "    </tr>\n",
       "  </thead>\n",
       "  <tbody>\n",
       "    <tr>\n",
       "      <th>wri</th>\n",
       "      <td>1.000000</td>\n",
       "      <td>0.917621</td>\n",
       "      <td>0.442428</td>\n",
       "      <td>0.381190</td>\n",
       "      <td>0.455432</td>\n",
       "      <td>0.413275</td>\n",
       "      <td>0.026040</td>\n",
       "    </tr>\n",
       "    <tr>\n",
       "      <th>exposure</th>\n",
       "      <td>0.917621</td>\n",
       "      <td>1.000000</td>\n",
       "      <td>0.104787</td>\n",
       "      <td>0.066020</td>\n",
       "      <td>0.145526</td>\n",
       "      <td>0.087737</td>\n",
       "      <td>0.062133</td>\n",
       "    </tr>\n",
       "    <tr>\n",
       "      <th>vulnerability</th>\n",
       "      <td>0.442428</td>\n",
       "      <td>0.104787</td>\n",
       "      <td>1.000000</td>\n",
       "      <td>0.932919</td>\n",
       "      <td>0.931140</td>\n",
       "      <td>0.945389</td>\n",
       "      <td>-0.082364</td>\n",
       "    </tr>\n",
       "    <tr>\n",
       "      <th>susceptibility</th>\n",
       "      <td>0.381190</td>\n",
       "      <td>0.066020</td>\n",
       "      <td>0.932919</td>\n",
       "      <td>1.000000</td>\n",
       "      <td>0.781126</td>\n",
       "      <td>0.837977</td>\n",
       "      <td>-0.055962</td>\n",
       "    </tr>\n",
       "    <tr>\n",
       "      <th>lack_of_coping_capabilities</th>\n",
       "      <td>0.455432</td>\n",
       "      <td>0.145526</td>\n",
       "      <td>0.931140</td>\n",
       "      <td>0.781126</td>\n",
       "      <td>1.000000</td>\n",
       "      <td>0.833061</td>\n",
       "      <td>0.038186</td>\n",
       "    </tr>\n",
       "    <tr>\n",
       "      <th>lack_of_adaptive_capacities</th>\n",
       "      <td>0.413275</td>\n",
       "      <td>0.087737</td>\n",
       "      <td>0.945389</td>\n",
       "      <td>0.837977</td>\n",
       "      <td>0.833061</td>\n",
       "      <td>1.000000</td>\n",
       "      <td>-0.230083</td>\n",
       "    </tr>\n",
       "    <tr>\n",
       "      <th>year</th>\n",
       "      <td>0.026040</td>\n",
       "      <td>0.062133</td>\n",
       "      <td>-0.082364</td>\n",
       "      <td>-0.055962</td>\n",
       "      <td>0.038186</td>\n",
       "      <td>-0.230083</td>\n",
       "      <td>1.000000</td>\n",
       "    </tr>\n",
       "  </tbody>\n",
       "</table>\n",
       "</div>"
      ],
      "text/plain": [
       "                                  wri  exposure  vulnerability  \\\n",
       "wri                          1.000000  0.917621       0.442428   \n",
       "exposure                     0.917621  1.000000       0.104787   \n",
       "vulnerability                0.442428  0.104787       1.000000   \n",
       "susceptibility               0.381190  0.066020       0.932919   \n",
       "lack_of_coping_capabilities  0.455432  0.145526       0.931140   \n",
       "lack_of_adaptive_capacities  0.413275  0.087737       0.945389   \n",
       "year                         0.026040  0.062133      -0.082364   \n",
       "\n",
       "                             susceptibility  lack_of_coping_capabilities  \\\n",
       "wri                                0.381190                     0.455432   \n",
       "exposure                           0.066020                     0.145526   \n",
       "vulnerability                      0.932919                     0.931140   \n",
       "susceptibility                     1.000000                     0.781126   \n",
       "lack_of_coping_capabilities        0.781126                     1.000000   \n",
       "lack_of_adaptive_capacities        0.837977                     0.833061   \n",
       "year                              -0.055962                     0.038186   \n",
       "\n",
       "                             lack_of_adaptive_capacities      year  \n",
       "wri                                             0.413275  0.026040  \n",
       "exposure                                        0.087737  0.062133  \n",
       "vulnerability                                   0.945389 -0.082364  \n",
       "susceptibility                                  0.837977 -0.055962  \n",
       "lack_of_coping_capabilities                     0.833061  0.038186  \n",
       "lack_of_adaptive_capacities                     1.000000 -0.230083  \n",
       "year                                           -0.230083  1.000000  "
      ]
     },
     "execution_count": 35,
     "metadata": {},
     "output_type": "execute_result"
    }
   ],
   "source": [
    "matriz_correlacion =  df_risk.corr()\n",
    "matriz_correlacion"
   ]
  },
  {
   "attachments": {},
   "cell_type": "markdown",
   "metadata": {},
   "source": [
    "Todas las relaciones son directamente proporcionales. Los coeficientes de correlación más significativos son:\n",
    "- Aquel dado por 'exposure' y 'wri', 0,917: es decir, los países con más riesgo a peligros naturales tienen una puntuación de riesgo mundial más alto y viceversa. \n",
    "- Aquel dado por 'vulnerability' y 'susceptibility', 0,932: es decir, las regiones que corren risgo de tener unas condiciones económicas, de infrustratucturas, etc, más precarias son también aquellos con más riesgo de agravar estas condiciones.\n",
    "-  También se correlacionan 'vulnerability' con 'lack_of_coping_capabilities', con un coeficiente de 0,9311: por lo que las regiones más vulnerables son las que menos capacidad de gestión (gestion gubernamental, falta de hospitales, servicios emergencia, alerta temprana etc) tienen.\n",
    "- Por último, 'vulnerability' tiene correlación con 'lack_of_adaptive_capacities', 0,9: las regiones más vulnerabls tienen menos capacidades adaptativas, es decir, menor capacidad de adaptacion a los fenómenos naturales y de cambio climático.\n"
   ]
  },
  {
   "cell_type": "code",
   "execution_count": 42,
   "metadata": {},
   "outputs": [
    {
     "data": {
      "text/plain": [
       "<AxesSubplot:>"
      ]
     },
     "execution_count": 42,
     "metadata": {},
     "output_type": "execute_result"
    },
    {
     "data": {
      "image/png": "[encoded data removed]",
      "text/plain": [
       "<Figure size 432x288 with 2 Axes>"
      ]
     },
     "metadata": {
      "needs_background": "light"
     },
     "output_type": "display_data"
    }
   ],
   "source": [
    "sns.heatmap(df_risk.corr(), cmap= 'rocket_r', annot = True, vmin = -1, vmax = 1)"
   ]
  },
  {
   "attachments": {},
   "cell_type": "markdown",
   "metadata": {},
   "source": [
    "## Sesgos de alguna de las variables numéricas del dataset"
   ]
  },
  {
   "cell_type": "code",
   "execution_count": 54,
   "metadata": {},
   "outputs": [
    {
     "data": {
      "text/plain": [
       "<Figure size 1080x720 with 0 Axes>"
      ]
     },
     "metadata": {},
     "output_type": "display_data"
    },
    {
     "data": {
      "image/png": "[encoded data removed]",
      "text/plain": [
       "<Figure size 360x360 with 1 Axes>"
      ]
     },
     "metadata": {
      "needs_background": "light"
     },
     "output_type": "display_data"
    }
   ],
   "source": [
    "plt.figure(figsize = (15,10))\n",
    "sns.displot(df_risk['exposure'], color = 'tab:blue', kde = True)\n",
    "plt.show()"
   ]
  },
  {
   "cell_type": "code",
   "execution_count": 56,
   "metadata": {},
   "outputs": [
    {
     "name": "stdout",
     "output_type": "stream",
     "text": [
      "El valor del sesgo para la variable exposure es: 2.7550733318898852\n"
     ]
    }
   ],
   "source": [
    "skewness = skew(df_risk['exposure'])\n",
    "print(f\"El valor del sesgo para la variable exposure es: {skewness}\")"
   ]
  },
  {
   "attachments": {},
   "cell_type": "markdown",
   "metadata": {},
   "source": [
    "El valor del sesgo es positivo y nuestros datos para la columna exposure tienen un sesgo a la derecha."
   ]
  },
  {
   "cell_type": "code",
   "execution_count": 57,
   "metadata": {},
   "outputs": [
    {
     "data": {
      "text/plain": [
       "<Figure size 1080x720 with 0 Axes>"
      ]
     },
     "metadata": {},
     "output_type": "display_data"
    },
    {
     "data": {
      "image/png": "[encoded data removed]",
      "text/plain": [
       "<Figure size 360x360 with 1 Axes>"
      ]
     },
     "metadata": {
      "needs_background": "light"
     },
     "output_type": "display_data"
    }
   ],
   "source": [
    "plt.figure(figsize = (15,10))\n",
    "sns.displot(df_risk['lack_of_coping_capabilities'], color = 'tab:orange', kde = True)\n",
    "plt.show()"
   ]
  },
  {
   "cell_type": "code",
   "execution_count": 58,
   "metadata": {},
   "outputs": [
    {
     "name": "stdout",
     "output_type": "stream",
     "text": [
      "El valor del sesgo para la variable exposure es: -0.6140122516645456\n"
     ]
    }
   ],
   "source": [
    "skewness = skew(df_risk['lack_of_coping_capabilities'])\n",
    "print(f\"El valor del sesgo para la variable exposure es: {skewness}\")"
   ]
  },
  {
   "attachments": {},
   "cell_type": "markdown",
   "metadata": {},
   "source": [
    "## Intervalo confianza"
   ]
  },
  {
   "cell_type": "code",
   "execution_count": 59,
   "metadata": {},
   "outputs": [],
   "source": [
    "import scipy.stats as st\n"
   ]
  }
 ],
 "metadata": {
  "kernelspec": {
   "display_name": "base",
   "language": "python",
   "name": "python3"
  },
  "language_info": {
   "codemirror_mode": {
    "name": "ipython",
    "version": 3
   },
   "file_extension": ".py",
   "mimetype": "text/x-python",
   "name": "python",
   "nbconvert_exporter": "python",
   "pygments_lexer": "ipython3",
   "version": "3.9.12 (main, Apr  5 2022, 06:56:58) \n[GCC 7.5.0]"
  },
  "orig_nbformat": 4,
  "vscode": {
   "interpreter": {
    "hash": "9429f26ec4099974d746a4ebde46a1e9e674ac91dbe378d9f92f91a367d774ad"
   }
  }
 },
 "nbformat": 4,
 "nbformat_minor": 2
}

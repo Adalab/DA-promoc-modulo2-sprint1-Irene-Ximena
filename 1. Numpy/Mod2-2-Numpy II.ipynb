{
 "cells": [
  {
   "cell_type": "markdown",
   "metadata": {},
   "source": [
    "## Pair Programming NumPy II - 02/12/2022"
   ]
  },
  {
   "cell_type": "markdown",
   "metadata": {},
   "source": [
    "**1** Cread un array de dos dimensiones de 5 filas y 3 columnas. Sobre el array creado anteriormente, extraed:\n",
    "\n",
    "El valor de la primera fila y la segunda columna.\n",
    "\n",
    "Los valores de la segunda fila y las dos primeras columnas.\n",
    "\n",
    "Extraed las filas pares (incluyendo la 0) y todas las columnas.\n",
    "\n",
    "Extraed los valores que sean mayores que 0.5.\n",
    "\n",
    "Extraed los valores menores que 0.2 o mayores que 0.5"
   ]
  },
  {
   "cell_type": "code",
   "execution_count": 3,
   "metadata": {},
   "outputs": [],
   "source": [
    "import numpy as np"
   ]
  },
  {
   "cell_type": "code",
   "execution_count": 20,
   "metadata": {},
   "outputs": [
    {
     "data": {
      "text/plain": [
       "array([[[0.47979149, 0.07836667, 0.49087277],\n",
       "        [0.90721825, 0.46798993, 0.37635895],\n",
       "        [0.04885464, 0.75341042, 0.79214726],\n",
       "        [0.32383914, 0.60618219, 0.71777825],\n",
       "        [0.46957085, 0.40951567, 0.89767393]],\n",
       "\n",
       "       [[0.63221893, 0.62379752, 0.36070879],\n",
       "        [0.61338174, 0.81844339, 0.16321409],\n",
       "        [0.13030226, 0.52976425, 0.37474364],\n",
       "        [0.97092172, 0.68150507, 0.73762853],\n",
       "        [0.06011625, 0.80572778, 0.57569055]]])"
      ]
     },
     "execution_count": 20,
     "metadata": {},
     "output_type": "execute_result"
    }
   ],
   "source": [
    "array1 = np.random.rand(2,5,3)\n",
    "array1"
   ]
  },
  {
   "cell_type": "code",
   "execution_count": 21,
   "metadata": {},
   "outputs": [
    {
     "data": {
      "text/plain": [
       "0.3763589454593538"
      ]
     },
     "execution_count": 21,
     "metadata": {},
     "output_type": "execute_result"
    }
   ],
   "source": [
    "# El valor de la primera fila y la segunda columna.\n",
    "\n",
    "array1[0,1,2]"
   ]
  },
  {
   "cell_type": "code",
   "execution_count": 22,
   "metadata": {},
   "outputs": [
    {
     "data": {
      "text/plain": [
       "array([0.04885464, 0.75341042])"
      ]
     },
     "execution_count": 22,
     "metadata": {},
     "output_type": "execute_result"
    }
   ],
   "source": [
    "# Los valores de la segunda fila y las dos primeras columnas.\n",
    "\n",
    "array1[0,2,:2]"
   ]
  },
  {
   "cell_type": "code",
   "execution_count": 23,
   "metadata": {},
   "outputs": [
    {
     "data": {
      "text/plain": [
       "array([[0.47979149, 0.07836667, 0.49087277],\n",
       "       [0.04885464, 0.75341042, 0.79214726],\n",
       "       [0.46957085, 0.40951567, 0.89767393]])"
      ]
     },
     "execution_count": 23,
     "metadata": {},
     "output_type": "execute_result"
    }
   ],
   "source": [
    "# Extraed las filas pares (incluyendo la 0) y todas las columnas\n",
    "\n",
    "array1[0,::2,:]"
   ]
  },
  {
   "cell_type": "code",
   "execution_count": 24,
   "metadata": {},
   "outputs": [
    {
     "data": {
      "text/plain": [
       "array([0.90721825, 0.75341042, 0.79214726, 0.60618219, 0.71777825,\n",
       "       0.89767393, 0.63221893, 0.62379752, 0.61338174, 0.81844339,\n",
       "       0.52976425, 0.97092172, 0.68150507, 0.73762853, 0.80572778,\n",
       "       0.57569055])"
      ]
     },
     "execution_count": 24,
     "metadata": {},
     "output_type": "execute_result"
    }
   ],
   "source": [
    "# Extraed los valores que sean mayores que 0.5.\n",
    "\n",
    "array1[(array1>0.5)]"
   ]
  },
  {
   "cell_type": "code",
   "execution_count": 25,
   "metadata": {},
   "outputs": [
    {
     "data": {
      "text/plain": [
       "array([0.07836667, 0.90721825, 0.04885464, 0.75341042, 0.79214726,\n",
       "       0.60618219, 0.71777825, 0.89767393, 0.63221893, 0.62379752,\n",
       "       0.61338174, 0.81844339, 0.16321409, 0.13030226, 0.52976425,\n",
       "       0.97092172, 0.68150507, 0.73762853, 0.06011625, 0.80572778,\n",
       "       0.57569055])"
      ]
     },
     "execution_count": 25,
     "metadata": {},
     "output_type": "execute_result"
    }
   ],
   "source": [
    "# Extraed los valores menores que 0.2 o mayores que 0.5\n",
    "\n",
    "array1[(array1<0.2)|(array1>0.5)]"
   ]
  },
  {
   "cell_type": "markdown",
   "metadata": {},
   "source": [
    "**2** Cread dos array de tres dimensiones:\n",
    "\n",
    "El primero de 2 matrices, 5 filas y 3 columnas.\n",
    "\n",
    "El segundo de 3 matrices, 2 filas y 5 columnas\n",
    "\n",
    "Haced un análisis exploratorio de los array creados. Recordad que en el ejercicio de ayer nos creamos una función para esto.\n",
    "\n",
    "Sumad los dos arrays. ¿Podéis? ¿Por qué?\n",
    "\n",
    "Para cambiar la forma de un array y poder hacer operaciones entre arrays que tienen distintas formas hemos aprendido dos métodos:\n",
    "\n",
    ".reshape()\n",
    ".transpose()\n",
    "\n",
    "Utiliza estas dos funciones para cambiar la forma de los array y hacer operaciones entre ellos."
   ]
  },
  {
   "cell_type": "code",
   "execution_count": null,
   "metadata": {},
   "outputs": [],
   "source": [
    "# El primero de 2 matrices, 5 filas y 3 columnas."
   ]
  },
  {
   "cell_type": "code",
   "execution_count": 30,
   "metadata": {},
   "outputs": [
    {
     "data": {
      "text/plain": [
       "array([[[0.92903828, 0.54920033, 0.03073088],\n",
       "        [0.78236883, 0.6362629 , 0.60278227],\n",
       "        [0.88658118, 0.95910101, 0.06569103],\n",
       "        [0.17526402, 0.3427832 , 0.35405564],\n",
       "        [0.84272505, 0.82466892, 0.64871215]],\n",
       "\n",
       "       [[0.50692908, 0.26294194, 0.5688257 ],\n",
       "        [0.8782637 , 0.46608385, 0.0731295 ],\n",
       "        [0.34031978, 0.97650163, 0.28725828],\n",
       "        [0.11079632, 0.77486062, 0.13814283],\n",
       "        [0.04226722, 0.48528127, 0.42308211]]])"
      ]
     },
     "execution_count": 30,
     "metadata": {},
     "output_type": "execute_result"
    }
   ],
   "source": [
    "array2 = np.random.rand(2,5,3)\n",
    "array2"
   ]
  },
  {
   "cell_type": "code",
   "execution_count": 31,
   "metadata": {},
   "outputs": [
    {
     "data": {
      "text/plain": [
       "array([[[0.7494636 , 0.97932067, 0.47925986, 0.74292059, 0.25822112],\n",
       "        [0.68238529, 0.84080158, 0.62142955, 0.40818188, 0.98113482]],\n",
       "\n",
       "       [[0.78056058, 0.08360383, 0.65101434, 0.43882347, 0.12107296],\n",
       "        [0.79674062, 0.99355063, 0.43043133, 0.59897636, 0.06536484]],\n",
       "\n",
       "       [[0.54811572, 0.07646286, 0.42141578, 0.62566273, 0.75564784],\n",
       "        [0.90604451, 0.12688183, 0.58320266, 0.9825613 , 0.87372228]]])"
      ]
     },
     "execution_count": 31,
     "metadata": {},
     "output_type": "execute_result"
    }
   ],
   "source": [
    "# El segundo de 3 matrices, 2 filas y 5 columnas\n",
    "array3 = np.random.rand(3,2,5)\n",
    "array3"
   ]
  },
  {
   "cell_type": "code",
   "execution_count": 32,
   "metadata": {},
   "outputs": [],
   "source": [
    "# Haced un análisis exploratorio de los array creados. \n",
    "# Recordad que en el ejercicio de ayer nos creamos una función para esto."
   ]
  },
  {
   "cell_type": "code",
   "execution_count": 33,
   "metadata": {},
   "outputs": [],
   "source": [
    "listaar = [array2, array3]"
   ]
  },
  {
   "cell_type": "code",
   "execution_count": 80,
   "metadata": {},
   "outputs": [],
   "source": [
    "def exploracion_propiedades_array(lista_array):\n",
    "\n",
    "    for i in lista_array:\n",
    "\n",
    "        print( f\"\"\"Shape: {i.shape}\n",
    "                Número de dimensiones: {i.ndim}\n",
    "                Size: {i.size}\n",
    "                Tipo: {i.dtype}\"\"\" )"
   ]
  },
  {
   "cell_type": "code",
   "execution_count": 81,
   "metadata": {},
   "outputs": [
    {
     "name": "stdout",
     "output_type": "stream",
     "text": [
      "Shape: (2, 5, 3)\n",
      "                Número de dimensiones: 3\n",
      "                Size: 30\n",
      "                Tipo: float64\n",
      "Shape: (3, 2, 5)\n",
      "                Número de dimensiones: 3\n",
      "                Size: 30\n",
      "                Tipo: float64\n"
     ]
    }
   ],
   "source": [
    "exploracion_propiedades_array(listaar)"
   ]
  },
  {
   "cell_type": "code",
   "execution_count": 43,
   "metadata": {},
   "outputs": [
    {
     "ename": "ValueError",
     "evalue": "operands could not be broadcast together with shapes (2,5,3) (3,2,5) ",
     "output_type": "error",
     "traceback": [
      "\u001b[0;31m---------------------------------------------------------------------------\u001b[0m",
      "\u001b[0;31mValueError\u001b[0m                                Traceback (most recent call last)",
      "\u001b[0;32m/tmp/ipykernel_465/1826904473.py\u001b[0m in \u001b[0;36m<module>\u001b[0;34m\u001b[0m\n\u001b[1;32m      1\u001b[0m \u001b[0;31m# Sumad los dos arrays. ¿Podéis? ¿Por qué?\u001b[0m\u001b[0;34m\u001b[0m\u001b[0;34m\u001b[0m\u001b[0m\n\u001b[1;32m      2\u001b[0m \u001b[0;34m\u001b[0m\u001b[0m\n\u001b[0;32m----> 3\u001b[0;31m \u001b[0marray2\u001b[0m\u001b[0;34m+\u001b[0m\u001b[0marray3\u001b[0m\u001b[0;34m\u001b[0m\u001b[0;34m\u001b[0m\u001b[0m\n\u001b[0m",
      "\u001b[0;31mValueError\u001b[0m: operands could not be broadcast together with shapes (2,5,3) (3,2,5) "
     ]
    }
   ],
   "source": [
    "# Sumad los dos arrays. ¿Podéis? ¿Por qué?\n",
    "\n",
    "# No se puede sumar porque tienen diferente shape. Se procede a cambiar la forma.\n",
    "\n",
    "array2+array3"
   ]
  },
  {
   "cell_type": "code",
   "execution_count": 45,
   "metadata": {},
   "outputs": [
    {
     "data": {
      "text/plain": [
       "array([[[0.92903828, 0.54920033, 0.03073088],\n",
       "        [0.78236883, 0.6362629 , 0.60278227],\n",
       "        [0.88658118, 0.95910101, 0.06569103],\n",
       "        [0.17526402, 0.3427832 , 0.35405564],\n",
       "        [0.84272505, 0.82466892, 0.64871215]],\n",
       "\n",
       "       [[0.50692908, 0.26294194, 0.5688257 ],\n",
       "        [0.8782637 , 0.46608385, 0.0731295 ],\n",
       "        [0.34031978, 0.97650163, 0.28725828],\n",
       "        [0.11079632, 0.77486062, 0.13814283],\n",
       "        [0.04226722, 0.48528127, 0.42308211]]])"
      ]
     },
     "execution_count": 45,
     "metadata": {},
     "output_type": "execute_result"
    }
   ],
   "source": [
    "# Para cambiar la forma de un array y poder hacer operaciones entre arrays que tienen distintas \n",
    "# formas hemos aprendido dos métodos:\n",
    "#.reshape()\n",
    "\n",
    "array4 = array2.copy()\n",
    "array4"
   ]
  },
  {
   "cell_type": "code",
   "execution_count": 53,
   "metadata": {},
   "outputs": [
    {
     "data": {
      "text/plain": [
       "array([[[0.92903828, 0.54920033, 0.03073088],\n",
       "        [0.78236883, 0.6362629 , 0.60278227],\n",
       "        [0.88658118, 0.95910101, 0.06569103],\n",
       "        [0.17526402, 0.3427832 , 0.35405564],\n",
       "        [0.84272505, 0.82466892, 0.64871215]],\n",
       "\n",
       "       [[0.50692908, 0.26294194, 0.5688257 ],\n",
       "        [0.8782637 , 0.46608385, 0.0731295 ],\n",
       "        [0.34031978, 0.97650163, 0.28725828],\n",
       "        [0.11079632, 0.77486062, 0.13814283],\n",
       "        [0.04226722, 0.48528127, 0.42308211]]])"
      ]
     },
     "execution_count": 53,
     "metadata": {},
     "output_type": "execute_result"
    }
   ],
   "source": [
    "array2"
   ]
  },
  {
   "cell_type": "code",
   "execution_count": 51,
   "metadata": {},
   "outputs": [
    {
     "data": {
      "text/plain": [
       "array([[[0.92903828, 0.54920033, 0.03073088, 0.78236883, 0.6362629 ],\n",
       "        [0.60278227, 0.88658118, 0.95910101, 0.06569103, 0.17526402]],\n",
       "\n",
       "       [[0.3427832 , 0.35405564, 0.84272505, 0.82466892, 0.64871215],\n",
       "        [0.50692908, 0.26294194, 0.5688257 , 0.8782637 , 0.46608385]],\n",
       "\n",
       "       [[0.0731295 , 0.34031978, 0.97650163, 0.28725828, 0.11079632],\n",
       "        [0.77486062, 0.13814283, 0.04226722, 0.48528127, 0.42308211]]])"
      ]
     },
     "execution_count": 51,
     "metadata": {},
     "output_type": "execute_result"
    }
   ],
   "source": [
    "array4 = array4.reshape(3,2,5)\n",
    "array4"
   ]
  },
  {
   "cell_type": "code",
   "execution_count": 55,
   "metadata": {},
   "outputs": [
    {
     "data": {
      "text/plain": [
       "array([[[1.67850189, 1.52852099, 0.50999073, 1.52528942, 0.89448403],\n",
       "        [1.28516756, 1.72738276, 1.58053056, 0.47387292, 1.15639883]],\n",
       "\n",
       "       [[1.12334378, 0.43765947, 1.49373939, 1.26349239, 0.76978511],\n",
       "        [1.3036697 , 1.25649257, 0.99925703, 1.47724006, 0.53144869]],\n",
       "\n",
       "       [[0.62124522, 0.41678264, 1.39791741, 0.912921  , 0.86644416],\n",
       "        [1.68090514, 0.26502467, 0.62546987, 1.46784257, 1.29680439]]])"
      ]
     },
     "execution_count": 55,
     "metadata": {},
     "output_type": "execute_result"
    }
   ],
   "source": [
    "# array4 + array3\n",
    "np.add(array4,array3)"
   ]
  },
  {
   "cell_type": "code",
   "execution_count": 72,
   "metadata": {},
   "outputs": [
    {
     "data": {
      "text/plain": [
       "array([[[0.92903828, 0.54920033, 0.03073088],\n",
       "        [0.78236883, 0.6362629 , 0.60278227],\n",
       "        [0.88658118, 0.95910101, 0.06569103],\n",
       "        [0.17526402, 0.3427832 , 0.35405564],\n",
       "        [0.84272505, 0.82466892, 0.64871215]],\n",
       "\n",
       "       [[0.50692908, 0.26294194, 0.5688257 ],\n",
       "        [0.8782637 , 0.46608385, 0.0731295 ],\n",
       "        [0.34031978, 0.97650163, 0.28725828],\n",
       "        [0.11079632, 0.77486062, 0.13814283],\n",
       "        [0.04226722, 0.48528127, 0.42308211]]])"
      ]
     },
     "execution_count": 72,
     "metadata": {},
     "output_type": "execute_result"
    }
   ],
   "source": [
    "array2"
   ]
  },
  {
   "cell_type": "code",
   "execution_count": 60,
   "metadata": {},
   "outputs": [
    {
     "data": {
      "text/plain": [
       "(2, 5, 3)"
      ]
     },
     "execution_count": 60,
     "metadata": {},
     "output_type": "execute_result"
    }
   ],
   "source": [
    "array2.shape"
   ]
  },
  {
   "cell_type": "code",
   "execution_count": 61,
   "metadata": {},
   "outputs": [
    {
     "data": {
      "text/plain": [
       "(3, 2, 5)"
      ]
     },
     "execution_count": 61,
     "metadata": {},
     "output_type": "execute_result"
    }
   ],
   "source": [
    "array3.shape"
   ]
  },
  {
   "cell_type": "code",
   "execution_count": 73,
   "metadata": {},
   "outputs": [
    {
     "data": {
      "text/plain": [
       "array([[[0.92903828, 0.78236883, 0.88658118, 0.17526402, 0.84272505],\n",
       "        [0.50692908, 0.8782637 , 0.34031978, 0.11079632, 0.04226722]],\n",
       "\n",
       "       [[0.54920033, 0.6362629 , 0.95910101, 0.3427832 , 0.82466892],\n",
       "        [0.26294194, 0.46608385, 0.97650163, 0.77486062, 0.48528127]],\n",
       "\n",
       "       [[0.03073088, 0.60278227, 0.06569103, 0.35405564, 0.64871215],\n",
       "        [0.5688257 , 0.0731295 , 0.28725828, 0.13814283, 0.42308211]]])"
      ]
     },
     "execution_count": 73,
     "metadata": {},
     "output_type": "execute_result"
    }
   ],
   "source": [
    "#.transpose()\n",
    "\n",
    "array5 = np.transpose(array2,(2,0,1))\n",
    "array5"
   ]
  },
  {
   "cell_type": "code",
   "execution_count": 56,
   "metadata": {},
   "outputs": [
    {
     "data": {
      "text/plain": [
       "array([[[1.67850189, 1.52852099, 0.50999073, 1.52528942, 0.89448403],\n",
       "        [1.28516756, 1.72738276, 1.58053056, 0.47387292, 1.15639883]],\n",
       "\n",
       "       [[1.12334378, 0.43765947, 1.49373939, 1.26349239, 0.76978511],\n",
       "        [1.3036697 , 1.25649257, 0.99925703, 1.47724006, 0.53144869]],\n",
       "\n",
       "       [[0.62124522, 0.41678264, 1.39791741, 0.912921  , 0.86644416],\n",
       "        [1.68090514, 0.26502467, 0.62546987, 1.46784257, 1.29680439]]])"
      ]
     },
     "execution_count": 56,
     "metadata": {},
     "output_type": "execute_result"
    }
   ],
   "source": [
    "# array5+array3\n",
    "np.add(array5,array3)"
   ]
  }
 ],
 "metadata": {
  "kernelspec": {
   "display_name": "Python 3.9.13 ('base')",
   "language": "python",
   "name": "python3"
  },
  "language_info": {
   "codemirror_mode": {
    "name": "ipython",
    "version": 3
   },
   "file_extension": ".py",
   "mimetype": "text/x-python",
   "name": "python",
   "nbconvert_exporter": "python",
   "pygments_lexer": "ipython3",
   "version": "3.9.13"
  },
  "orig_nbformat": 4,
  "vscode": {
   "interpreter": {
    "hash": "f2104d434ce3092b7c07d5af98c90652611c7ad655b2a72b59e9e675e449bc7b"
   }
  }
 },
 "nbformat": 4,
 "nbformat_minor": 2
}

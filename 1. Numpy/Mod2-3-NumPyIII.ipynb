{
 "cells": [
  {
   "cell_type": "markdown",
   "metadata": {},
   "source": [
    "### Pair Programming NumPy III\n",
    "\n",
    "En esta lección hemps aprendido algunas de las operaciones matemáticas más importantes que podemos aplicar a un array. Hoy pondremos en práctica algunas de estas operaciones, además de recordar algunas de los métodos aprendidos en otras lecciones y recordar como podemos iterar por un array.\n"
   ]
  },
  {
   "cell_type": "markdown",
   "metadata": {},
   "source": [
    "**1.** Cread un array de tres dimensiones de 2 matrices, 3 filas y 5 columnas cuyos valores solo tengan 1 decimales. Sobre el array creado anteriormente, extraed:"
   ]
  },
  {
   "cell_type": "code",
   "execution_count": 2,
   "metadata": {},
   "outputs": [],
   "source": [
    "import numpy as np \n"
   ]
  },
  {
   "cell_type": "code",
   "execution_count": 3,
   "metadata": {},
   "outputs": [
    {
     "data": {
      "text/plain": [
       "array([[[0.8, 0.4, 0.1, 0.5, 0.9],\n",
       "        [0.3, 0.2, 0. , 0.9, 0.8],\n",
       "        [0.1, 0.6, 0.1, 0.9, 0.4]],\n",
       "\n",
       "       [[0.8, 0.8, 0.7, 0.2, 0.8],\n",
       "        [0.3, 0.9, 0.2, 0.8, 0.3],\n",
       "        [0.8, 0.1, 0.4, 0.9, 0.1]]])"
      ]
     },
     "execution_count": 3,
     "metadata": {},
     "output_type": "execute_result"
    }
   ],
   "source": [
    "array1 = np.round(np.random.rand(2,3,5),decimals = 1)\n",
    "array1"
   ]
  },
  {
   "cell_type": "markdown",
   "metadata": {},
   "source": [
    "**2.** Calculad la media del array y almacenarlos en una variable. Redondead a un decimal."
   ]
  },
  {
   "cell_type": "code",
   "execution_count": 4,
   "metadata": {},
   "outputs": [
    {
     "data": {
      "text/plain": [
       "0.5"
      ]
     },
     "execution_count": 4,
     "metadata": {},
     "output_type": "execute_result"
    }
   ],
   "source": [
    "media = np.round(np.mean(array1), decimals = 1)\n",
    "media"
   ]
  },
  {
   "cell_type": "markdown",
   "metadata": {},
   "source": [
    "**3.** Calculad el valor máximo del array y almacenarlos en una variable. Redondead a un decimal."
   ]
  },
  {
   "cell_type": "code",
   "execution_count": 5,
   "metadata": {},
   "outputs": [
    {
     "data": {
      "text/plain": [
       "0.9"
      ]
     },
     "execution_count": 5,
     "metadata": {},
     "output_type": "execute_result"
    }
   ],
   "source": [
    "maximo = np.round(np.max(array1), decimals = 1)\n",
    "maximo"
   ]
  },
  {
   "cell_type": "markdown",
   "metadata": {},
   "source": [
    "**4.** Calculad el valor mínimo del array y almacenarlos en una variable. Redondead a un decimal."
   ]
  },
  {
   "cell_type": "code",
   "execution_count": 6,
   "metadata": {},
   "outputs": [
    {
     "data": {
      "text/plain": [
       "0.0"
      ]
     },
     "execution_count": 6,
     "metadata": {},
     "output_type": "execute_result"
    }
   ],
   "source": [
    "minimo = np.round(np.min(array1), decimals = 1)\n",
    "minimo"
   ]
  },
  {
   "cell_type": "markdown",
   "metadata": {},
   "source": [
    "**5.** Cread un array vacío con la misma forma y dimensiones que el array creado anteriormente.\n",
    "Vamos a reemplazar los valores de la matriz vacía que nos acabamos de crear pero basándonos en los valores del primer array bajo las siguientes condiciones:\n",
    "- Si el valor del array es igual que la media, se reemplaza por \"A\".\n",
    "- Si el valor del array es mayor que la media, se reemplaza por \"B\".\n",
    "- Si el valor del array es menor que la media, se reemplaza por \"C\".\n",
    "- Si el valor es igual que el máximo, se reemplaza por \"D\".\n",
    "- Si el valor es igual que el mínimo, se reemplaza por \"E\"."
   ]
  },
  {
   "cell_type": "code",
   "execution_count": 7,
   "metadata": {},
   "outputs": [
    {
     "data": {
      "text/plain": [
       "array([[['', '', '', '', ''],\n",
       "        ['', '', '', '', ''],\n",
       "        ['', '', '', '', '']],\n",
       "\n",
       "       [['', '', '', '', ''],\n",
       "        ['', '', '', '', ''],\n",
       "        ['', '', '', '', '']]], dtype='<U1')"
      ]
     },
     "execution_count": 7,
     "metadata": {},
     "output_type": "execute_result"
    }
   ],
   "source": [
    "# Cread un array vacío con la misma forma y dimensiones que el array creado anteriormente.\n",
    "array2 = np.empty((2,3,5), dtype = str)\n",
    "array2"
   ]
  },
  {
   "cell_type": "code",
   "execution_count": 8,
   "metadata": {},
   "outputs": [],
   "source": [
    "# for i in np.where(array1 == media):\n",
    "    # print(i)\n",
    "      "
   ]
  },
  {
   "cell_type": "markdown",
   "metadata": {},
   "source": [
    "**5.1** Condiciones"
   ]
  },
  {
   "cell_type": "code",
   "execution_count": 9,
   "metadata": {},
   "outputs": [
    {
     "data": {
      "text/plain": [
       "array([[['', '', '', '', ''],\n",
       "        ['', '', '', '', ''],\n",
       "        ['', '', '', '', '']],\n",
       "\n",
       "       [['', '', '', '', ''],\n",
       "        ['', '', '', '', ''],\n",
       "        ['', '', '', '', '']]], dtype='<U1')"
      ]
     },
     "execution_count": 9,
     "metadata": {},
     "output_type": "execute_result"
    }
   ],
   "source": [
    "array2"
   ]
  },
  {
   "cell_type": "code",
   "execution_count": 10,
   "metadata": {},
   "outputs": [
    {
     "name": "stdout",
     "output_type": "stream",
     "text": [
      "[[['B' 'C' 'C' 'A' 'D']\n",
      "  ['C' 'C' 'E' 'D' 'B']\n",
      "  ['C' 'B' 'C' 'D' 'C']]\n",
      "\n",
      " [['B' 'B' 'B' 'C' 'B']\n",
      "  ['C' 'D' 'C' 'B' 'C']\n",
      "  ['B' 'C' 'C' 'D' 'C']]]\n"
     ]
    }
   ],
   "source": [
    "# - Si el valor del array es igual que la media, se reemplaza por \"A\".\n",
    "if np.where(array1 == media):\n",
    "    array2[np.where(array1 == media)] = 'A'\n",
    "# - Si el valor del array es mayor que la media, se reemplaza por \"B\".\n",
    "    if np.where(array1 > media):\n",
    "        array2[np.where(array1 > media)] = 'B'\n",
    "# - Si el valor del array es menor que la media, se reemplaza por \"C\".\n",
    "        if np.where(array1 < media):\n",
    "            array2[np.where(array1 < media)] = 'C'\n",
    "# - Si el valor es igual que el máximo, se reemplaza por \"D\".\n",
    "            if np.where(array1 == maximo):\n",
    "                array2[np.where(array1 == maximo)] = 'D'\n",
    "# - Si el valor es igual que el mínimo, se reemplaza por \"E\".\n",
    "                if np.where(array1 == minimo):\n",
    "                    array2[np.where(array1 == minimo)] = 'E'\n",
    "\n",
    "print (array2)"
   ]
  },
  {
   "cell_type": "markdown",
   "metadata": {},
   "source": [
    "**6** Estupendo, tenemos un array con strings. Ahora realizaremos un ejercicio similar al anterior, pero en este caso nos crearemos un array vacío unidimensional de 30 elementos. Al final de este ejercicio acabaremos teniendo un array de tres dimensiones con la misma forma que el primero que nos creamos.\n",
    "\n",
    "En este caso:\n",
    "- Si el valor del array creado en el ejercicio anterior es \"A\" o \"B\" lo reemplazaremos por 1\n",
    "- Si el valor del array creado en el ejercicio anterior es \"C\" o \"D\" lo reemplazaremos por 2\n",
    "- Si el valor del array creado en el ejercicio anterior es \"E\" lo reemplazaremos por 3.\n",
    "- Una vez que hayas reemplazado todos los valores cambiad la forma del array para que sea de tres dimensiones, con 2 matrices, 3 filas y 5 columnas."
   ]
  },
  {
   "cell_type": "code",
   "execution_count": 11,
   "metadata": {},
   "outputs": [
    {
     "data": {
      "text/plain": [
       "array([4605380978949069210, 4600877379321698714, 4591870180066957722,\n",
       "       4602678819172646912, 4606281698874543309, 4599075939470750515,\n",
       "       4596373779694328218,                   0, 4606281698874543309,\n",
       "       4605380978949069210, 4591870180066957722, 4603579539098121011,\n",
       "       4591870180066957722, 4606281698874543309, 4600877379321698714,\n",
       "       4605380978949069210, 4605380978949069210, 4604480259023595110,\n",
       "       4596373779694328218, 4605380978949069210, 4599075939470750515,\n",
       "       4606281698874543309, 4596373779694328218, 4605380978949069210,\n",
       "       4599075939470750515, 4605380978949069210, 4591870180066957722,\n",
       "       4600877379321698714, 4606281698874543309, 4591870180066957722])"
      ]
     },
     "execution_count": 11,
     "metadata": {},
     "output_type": "execute_result"
    }
   ],
   "source": [
    "array3 = np.empty((30,), dtype = int)\n",
    "array3"
   ]
  },
  {
   "cell_type": "code",
   "execution_count": 27,
   "metadata": {},
   "outputs": [
    {
     "data": {
      "text/plain": [
       "array([[[1, 2, 2, 1, 2],\n",
       "        [2, 2, 3, 2, 1],\n",
       "        [2, 1, 2, 2, 2]],\n",
       "\n",
       "       [[1, 1, 1, 2, 1],\n",
       "        [2, 2, 2, 1, 2],\n",
       "        [1, 2, 2, 2, 2]]])"
      ]
     },
     "execution_count": 27,
     "metadata": {},
     "output_type": "execute_result"
    }
   ],
   "source": [
    "array3 = np.reshape(array3, (2,3,5))\n",
    "array3"
   ]
  },
  {
   "cell_type": "code",
   "execution_count": 28,
   "metadata": {},
   "outputs": [
    {
     "name": "stdout",
     "output_type": "stream",
     "text": [
      "[[[1 2 2 1 2]\n",
      "  [2 2 3 2 1]\n",
      "  [2 1 2 2 2]]\n",
      "\n",
      " [[1 1 1 2 1]\n",
      "  [2 2 2 1 2]\n",
      "  [1 2 2 2 2]]]\n"
     ]
    }
   ],
   "source": [
    "if np.where(array2 == \"A\"):\n",
    "    array3[np.where(array2 == \"A\")] = 1\n",
    "    if np.where(array2 == \"B\"):\n",
    "        array3[np.where(array2 == \"B\")] = 1\n",
    "        if np.where(array2 == \"C\"):\n",
    "            array3[np.where(array2 == \"C\")] = 2\n",
    "            if np.where(array2 == \"D\"):\n",
    "                array3[np.where(array2 == \"D\")] = 2\n",
    "                if np.where(array2 == \"E\"):\n",
    "                    array3[np.where(array2 == \"E\")] = 3\n",
    "\n",
    "print(array3)"
   ]
  },
  {
   "cell_type": "code",
   "execution_count": 29,
   "metadata": {},
   "outputs": [
    {
     "data": {
      "text/plain": [
       "True"
      ]
     },
     "execution_count": 29,
     "metadata": {},
     "output_type": "execute_result"
    }
   ],
   "source": [
    "array2.shape == array3.shape"
   ]
  }
 ],
 "metadata": {
  "kernelspec": {
   "display_name": "Python 3.9.13 ('base')",
   "language": "python",
   "name": "python3"
  },
  "language_info": {
   "codemirror_mode": {
    "name": "ipython",
    "version": 3
   },
   "file_extension": ".py",
   "mimetype": "text/x-python",
   "name": "python",
   "nbconvert_exporter": "python",
   "pygments_lexer": "ipython3",
   "version": "3.9.13"
  },
  "orig_nbformat": 4,
  "vscode": {
   "interpreter": {
    "hash": "f2104d434ce3092b7c07d5af98c90652611c7ad655b2a72b59e9e675e449bc7b"
   }
  }
 },
 "nbformat": 4,
 "nbformat_minor": 2
}

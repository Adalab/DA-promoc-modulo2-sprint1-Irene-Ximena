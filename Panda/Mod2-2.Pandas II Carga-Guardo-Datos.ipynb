{
 "cells": [
  {
   "cell_type": "markdown",
   "metadata": {},
   "source": [
    "## Pair Programming Panda II - 02/12/2022"
   ]
  },
  {
   "cell_type": "markdown",
   "metadata": {},
   "source": [
    "Los objetivos de este pair programming:"
   ]
  },
  {
   "cell_type": "markdown",
   "metadata": {},
   "source": [
    "- Id cargando todos los ficheros en vuestro jupyter.\n",
    "\n",
    "- Si os da error leer el pickle será por la versión de pandas. Podéis guardar el csv como pickle y cargarlo de ahí."
   ]
  },
  {
   "cell_type": "code",
   "execution_count": 1,
   "metadata": {},
   "outputs": [],
   "source": [
    "import pandas as pd\n",
    "import numpy as np\n",
    "import pickle"
   ]
  },
  {
   "cell_type": "code",
   "execution_count": 2,
   "metadata": {},
   "outputs": [],
   "source": [
    "import os"
   ]
  },
  {
   "cell_type": "code",
   "execution_count": 3,
   "metadata": {},
   "outputs": [
    {
     "data": {
      "text/plain": [
       "'/mnt/d/Ximena/Adalab/Módulo 2/DA-promoc-modulo2-sprint1-Irene-Ximena/Panda'"
      ]
     },
     "execution_count": 3,
     "metadata": {},
     "output_type": "execute_result"
    }
   ],
   "source": [
    "ubi= os.getcwd()\n",
    "ubi"
   ]
  },
  {
   "cell_type": "code",
   "execution_count": 4,
   "metadata": {},
   "outputs": [],
   "source": [
    "from locale import getpreferredencoding"
   ]
  },
  {
   "cell_type": "code",
   "execution_count": 5,
   "metadata": {},
   "outputs": [
    {
     "data": {
      "text/plain": [
       "'UTF-8'"
      ]
     },
     "execution_count": 5,
     "metadata": {},
     "output_type": "execute_result"
    }
   ],
   "source": [
    "getpreferredencoding(\"Pandas-II/quejas.csv\")"
   ]
  },
  {
   "cell_type": "code",
   "execution_count": 7,
   "metadata": {},
   "outputs": [
    {
     "data": {
      "text/html": [
       "<div>\n",
       "<style scoped>\n",
       "    .dataframe tbody tr th:only-of-type {\n",
       "        vertical-align: middle;\n",
       "    }\n",
       "\n",
       "    .dataframe tbody tr th {\n",
       "        vertical-align: top;\n",
       "    }\n",
       "\n",
       "    .dataframe thead th {\n",
       "        text-align: right;\n",
       "    }\n",
       "</style>\n",
       "<table border=\"1\" class=\"dataframe\">\n",
       "  <thead>\n",
       "    <tr style=\"text-align: right;\">\n",
       "      <th></th>\n",
       "      <th>tipo</th>\n",
       "      <th>estado</th>\n",
       "      <th>canal_entrada</th>\n",
       "      <th>fecha_entrada</th>\n",
       "      <th>fecha_contestacion</th>\n",
       "      <th>consejeria</th>\n",
       "      <th>unidad_descripcion</th>\n",
       "      <th>tema</th>\n",
       "      <th>subtema</th>\n",
       "    </tr>\n",
       "  </thead>\n",
       "  <tbody>\n",
       "    <tr>\n",
       "      <th>0</th>\n",
       "      <td>Queja</td>\n",
       "      <td>Recepcionada por Unidad</td>\n",
       "      <td>INTERNET</td>\n",
       "      <td>2022-01-28 00:00:00</td>\n",
       "      <td>NaN</td>\n",
       "      <td>Consejería de Medio Ambiente, Vivienda y Agric...</td>\n",
       "      <td>D.G. de Descarbonización y Transición Energética</td>\n",
       "      <td>ENERGÍA</td>\n",
       "      <td>NaN</td>\n",
       "    </tr>\n",
       "    <tr>\n",
       "      <th>1</th>\n",
       "      <td>Queja</td>\n",
       "      <td>Recepcionada por Unidad</td>\n",
       "      <td>INTERNET</td>\n",
       "      <td>2022-03-28 00:00:00</td>\n",
       "      <td>NaN</td>\n",
       "      <td>Consejería de Medio Ambiente, Vivienda y Agric...</td>\n",
       "      <td>D.G. de Descarbonización y Transición Energética</td>\n",
       "      <td>ENERGÍA</td>\n",
       "      <td>NaN</td>\n",
       "    </tr>\n",
       "    <tr>\n",
       "      <th>2</th>\n",
       "      <td>Queja</td>\n",
       "      <td>Recepcionada por Unidad</td>\n",
       "      <td>INTERNET</td>\n",
       "      <td>2022-03-23 00:00:00</td>\n",
       "      <td>NaN</td>\n",
       "      <td>Consejería de Medio Ambiente, Vivienda y Agric...</td>\n",
       "      <td>D.G. de Descarbonización y Transición Energética</td>\n",
       "      <td>ENERGÍA</td>\n",
       "      <td>NaN</td>\n",
       "    </tr>\n",
       "    <tr>\n",
       "      <th>3</th>\n",
       "      <td>Queja</td>\n",
       "      <td>Recepcionada por Unidad</td>\n",
       "      <td>INTERNET</td>\n",
       "      <td>2022-01-24 00:00:00</td>\n",
       "      <td>NaN</td>\n",
       "      <td>Consejería de Medio Ambiente, Vivienda y Agric...</td>\n",
       "      <td>D.G. de Descarbonización y Transición Energética</td>\n",
       "      <td>ENERGÍA</td>\n",
       "      <td>NaN</td>\n",
       "    </tr>\n",
       "    <tr>\n",
       "      <th>4</th>\n",
       "      <td>Queja</td>\n",
       "      <td>Recepcionada por Unidad</td>\n",
       "      <td>INTERNET</td>\n",
       "      <td>2022-03-29 00:00:00</td>\n",
       "      <td>NaN</td>\n",
       "      <td>Consejería de Medio Ambiente, Vivienda y Agric...</td>\n",
       "      <td>D.G. de Descarbonización y Transición Energética</td>\n",
       "      <td>ENERGÍA</td>\n",
       "      <td>NaN</td>\n",
       "    </tr>\n",
       "  </tbody>\n",
       "</table>\n",
       "</div>"
      ],
      "text/plain": [
       "    tipo                   estado canal_entrada        fecha_entrada  \\\n",
       "0  Queja  Recepcionada por Unidad      INTERNET  2022-01-28 00:00:00   \n",
       "1  Queja  Recepcionada por Unidad      INTERNET  2022-03-28 00:00:00   \n",
       "2  Queja  Recepcionada por Unidad      INTERNET  2022-03-23 00:00:00   \n",
       "3  Queja  Recepcionada por Unidad      INTERNET  2022-01-24 00:00:00   \n",
       "4  Queja  Recepcionada por Unidad      INTERNET  2022-03-29 00:00:00   \n",
       "\n",
       "  fecha_contestacion                                         consejeria  \\\n",
       "0                NaN  Consejería de Medio Ambiente, Vivienda y Agric...   \n",
       "1                NaN  Consejería de Medio Ambiente, Vivienda y Agric...   \n",
       "2                NaN  Consejería de Medio Ambiente, Vivienda y Agric...   \n",
       "3                NaN  Consejería de Medio Ambiente, Vivienda y Agric...   \n",
       "4                NaN  Consejería de Medio Ambiente, Vivienda y Agric...   \n",
       "\n",
       "                                 unidad_descripcion     tema subtema  \n",
       "0  D.G. de Descarbonización y Transición Energética  ENERGÍA     NaN  \n",
       "1  D.G. de Descarbonización y Transición Energética  ENERGÍA     NaN  \n",
       "2  D.G. de Descarbonización y Transición Energética  ENERGÍA     NaN  \n",
       "3  D.G. de Descarbonización y Transición Energética  ENERGÍA     NaN  \n",
       "4  D.G. de Descarbonización y Transición Energética  ENERGÍA     NaN  "
      ]
     },
     "execution_count": 7,
     "metadata": {},
     "output_type": "execute_result"
    }
   ],
   "source": [
    "# uso de on_bad_lines por Error tokenizing data. C error: Expected 2 fields in line 17, saw 3\n",
    "df_csv = pd.read_csv(\"Pandas-II/quejas.csv\" , sep=\";\" , on_bad_lines='skip', encoding= 'iso-8859-1')\n",
    "df_csv.head()"
   ]
  },
  {
   "cell_type": "code",
   "execution_count": 9,
   "metadata": {},
   "outputs": [
    {
     "data": {
      "text/html": [
       "<div>\n",
       "<style scoped>\n",
       "    .dataframe tbody tr th:only-of-type {\n",
       "        vertical-align: middle;\n",
       "    }\n",
       "\n",
       "    .dataframe tbody tr th {\n",
       "        vertical-align: top;\n",
       "    }\n",
       "\n",
       "    .dataframe thead th {\n",
       "        text-align: right;\n",
       "    }\n",
       "</style>\n",
       "<table border=\"1\" class=\"dataframe\">\n",
       "  <thead>\n",
       "    <tr style=\"text-align: right;\">\n",
       "      <th></th>\n",
       "      <th>DESCRIPCION_TEMA</th>\n",
       "      <th>DESCRIPCION_SUBTEMA</th>\n",
       "    </tr>\n",
       "  </thead>\n",
       "  <tbody>\n",
       "    <tr>\n",
       "      <th>0</th>\n",
       "      <td>ATENCIÓN AL CIUDADANO</td>\n",
       "      <td>ADMINISTRACIÓN ELECTRÓNICA</td>\n",
       "    </tr>\n",
       "    <tr>\n",
       "      <th>1</th>\n",
       "      <td>ATENCIÓN AL CIUDADANO</td>\n",
       "      <td>FUNCIÓN PÚBLICA</td>\n",
       "    </tr>\n",
       "    <tr>\n",
       "      <th>2</th>\n",
       "      <td>ATENCIÓN AL CIUDADANO</td>\n",
       "      <td>OFICINAS DE ATENCIÓN AL CIUDADANO DE LA COMUNI...</td>\n",
       "    </tr>\n",
       "    <tr>\n",
       "      <th>3</th>\n",
       "      <td>ATENCIÓN AL CIUDADANO</td>\n",
       "      <td>OFICINAS DE REGISTRO DE LA COMUNIDAD DE MADRID</td>\n",
       "    </tr>\n",
       "    <tr>\n",
       "      <th>4</th>\n",
       "      <td>ATENCIÓN AL CIUDADANO</td>\n",
       "      <td>OTROS</td>\n",
       "    </tr>\n",
       "  </tbody>\n",
       "</table>\n",
       "</div>"
      ],
      "text/plain": [
       "        DESCRIPCION_TEMA                                DESCRIPCION_SUBTEMA\n",
       "0  ATENCIÓN AL CIUDADANO                         ADMINISTRACIÓN ELECTRÓNICA\n",
       "1  ATENCIÓN AL CIUDADANO                                    FUNCIÓN PÚBLICA\n",
       "2  ATENCIÓN AL CIUDADANO  OFICINAS DE ATENCIÓN AL CIUDADANO DE LA COMUNI...\n",
       "3  ATENCIÓN AL CIUDADANO     OFICINAS DE REGISTRO DE LA COMUNIDAD DE MADRID\n",
       "4  ATENCIÓN AL CIUDADANO                                              OTROS"
      ]
     },
     "execution_count": 9,
     "metadata": {},
     "output_type": "execute_result"
    }
   ],
   "source": [
    "# Lectura archivo excel\n",
    "df_xlsx = pd.read_excel(\"Pandas-II/quejas2.xlsx\")\n",
    "df_xlsx.head()"
   ]
  },
  {
   "cell_type": "code",
   "execution_count": 10,
   "metadata": {},
   "outputs": [
    {
     "data": {
      "text/html": [
       "<div>\n",
       "<style scoped>\n",
       "    .dataframe tbody tr th:only-of-type {\n",
       "        vertical-align: middle;\n",
       "    }\n",
       "\n",
       "    .dataframe tbody tr th {\n",
       "        vertical-align: top;\n",
       "    }\n",
       "\n",
       "    .dataframe thead th {\n",
       "        text-align: right;\n",
       "    }\n",
       "</style>\n",
       "<table border=\"1\" class=\"dataframe\">\n",
       "  <thead>\n",
       "    <tr style=\"text-align: right;\">\n",
       "      <th></th>\n",
       "      <th>data</th>\n",
       "    </tr>\n",
       "  </thead>\n",
       "  <tbody>\n",
       "    <tr>\n",
       "      <th>0</th>\n",
       "      <td>{'unidad_descripcion': 'D.G. de Descarbonizaci...</td>\n",
       "    </tr>\n",
       "    <tr>\n",
       "      <th>1</th>\n",
       "      <td>{'unidad_descripcion': 'D.G. de Descarbonizaci...</td>\n",
       "    </tr>\n",
       "    <tr>\n",
       "      <th>2</th>\n",
       "      <td>{'unidad_descripcion': 'D.G. de Descarbonizaci...</td>\n",
       "    </tr>\n",
       "    <tr>\n",
       "      <th>3</th>\n",
       "      <td>{'unidad_descripcion': 'D.G. de Descarbonizaci...</td>\n",
       "    </tr>\n",
       "    <tr>\n",
       "      <th>4</th>\n",
       "      <td>{'unidad_descripcion': 'D.G. de Descarbonizaci...</td>\n",
       "    </tr>\n",
       "  </tbody>\n",
       "</table>\n",
       "</div>"
      ],
      "text/plain": [
       "                                                data\n",
       "0  {'unidad_descripcion': 'D.G. de Descarbonizaci...\n",
       "1  {'unidad_descripcion': 'D.G. de Descarbonizaci...\n",
       "2  {'unidad_descripcion': 'D.G. de Descarbonizaci...\n",
       "3  {'unidad_descripcion': 'D.G. de Descarbonizaci...\n",
       "4  {'unidad_descripcion': 'D.G. de Descarbonizaci..."
      ]
     },
     "execution_count": 10,
     "metadata": {},
     "output_type": "execute_result"
    }
   ],
   "source": [
    "# Lectura archivo json\n",
    "df_json = pd.read_json(\"Pandas-II/quejas.json\")\n",
    "df_json.head()"
   ]
  },
  {
   "cell_type": "code",
   "execution_count": 11,
   "metadata": {},
   "outputs": [
    {
     "data": {
      "text/html": [
       "<div>\n",
       "<style scoped>\n",
       "    .dataframe tbody tr th:only-of-type {\n",
       "        vertical-align: middle;\n",
       "    }\n",
       "\n",
       "    .dataframe tbody tr th {\n",
       "        vertical-align: top;\n",
       "    }\n",
       "\n",
       "    .dataframe thead th {\n",
       "        text-align: right;\n",
       "    }\n",
       "</style>\n",
       "<table border=\"1\" class=\"dataframe\">\n",
       "  <thead>\n",
       "    <tr style=\"text-align: right;\">\n",
       "      <th></th>\n",
       "      <th>unidad_descripcion</th>\n",
       "      <th>tipo</th>\n",
       "      <th>estado</th>\n",
       "      <th>tema</th>\n",
       "      <th>consejeria</th>\n",
       "      <th>fecha_contestacion</th>\n",
       "      <th>canal_entrada</th>\n",
       "      <th>fecha_entrada</th>\n",
       "      <th>subtema</th>\n",
       "    </tr>\n",
       "  </thead>\n",
       "  <tbody>\n",
       "    <tr>\n",
       "      <th>0</th>\n",
       "      <td>D.G. de Descarbonización y Transición Energética</td>\n",
       "      <td>Queja</td>\n",
       "      <td>Recepcionada por Unidad</td>\n",
       "      <td>ENERGÍA</td>\n",
       "      <td>Consejería de Medio Ambiente, Vivienda y Agric...</td>\n",
       "      <td></td>\n",
       "      <td>INTERNET</td>\n",
       "      <td>2022-01-28 00:00:00</td>\n",
       "      <td>N/A</td>\n",
       "    </tr>\n",
       "    <tr>\n",
       "      <th>1</th>\n",
       "      <td>D.G. de Descarbonización y Transición Energética</td>\n",
       "      <td>Queja</td>\n",
       "      <td>Recepcionada por Unidad</td>\n",
       "      <td>ENERGÍA</td>\n",
       "      <td>Consejería de Medio Ambiente, Vivienda y Agric...</td>\n",
       "      <td></td>\n",
       "      <td>INTERNET</td>\n",
       "      <td>2022-03-28 00:00:00</td>\n",
       "      <td>N/A</td>\n",
       "    </tr>\n",
       "    <tr>\n",
       "      <th>2</th>\n",
       "      <td>D.G. de Descarbonización y Transición Energética</td>\n",
       "      <td>Queja</td>\n",
       "      <td>Recepcionada por Unidad</td>\n",
       "      <td>ENERGÍA</td>\n",
       "      <td>Consejería de Medio Ambiente, Vivienda y Agric...</td>\n",
       "      <td></td>\n",
       "      <td>INTERNET</td>\n",
       "      <td>2022-03-23 00:00:00</td>\n",
       "      <td>N/A</td>\n",
       "    </tr>\n",
       "    <tr>\n",
       "      <th>3</th>\n",
       "      <td>D.G. de Descarbonización y Transición Energética</td>\n",
       "      <td>Queja</td>\n",
       "      <td>Recepcionada por Unidad</td>\n",
       "      <td>ENERGÍA</td>\n",
       "      <td>Consejería de Medio Ambiente, Vivienda y Agric...</td>\n",
       "      <td></td>\n",
       "      <td>INTERNET</td>\n",
       "      <td>2022-01-24 00:00:00</td>\n",
       "      <td>N/A</td>\n",
       "    </tr>\n",
       "    <tr>\n",
       "      <th>4</th>\n",
       "      <td>D.G. de Descarbonización y Transición Energética</td>\n",
       "      <td>Queja</td>\n",
       "      <td>Recepcionada por Unidad</td>\n",
       "      <td>ENERGÍA</td>\n",
       "      <td>Consejería de Medio Ambiente, Vivienda y Agric...</td>\n",
       "      <td></td>\n",
       "      <td>INTERNET</td>\n",
       "      <td>2022-03-29 00:00:00</td>\n",
       "      <td>N/A</td>\n",
       "    </tr>\n",
       "  </tbody>\n",
       "</table>\n",
       "</div>"
      ],
      "text/plain": [
       "                                 unidad_descripcion   tipo  \\\n",
       "0  D.G. de Descarbonización y Transición Energética  Queja   \n",
       "1  D.G. de Descarbonización y Transición Energética  Queja   \n",
       "2  D.G. de Descarbonización y Transición Energética  Queja   \n",
       "3  D.G. de Descarbonización y Transición Energética  Queja   \n",
       "4  D.G. de Descarbonización y Transición Energética  Queja   \n",
       "\n",
       "                    estado     tema  \\\n",
       "0  Recepcionada por Unidad  ENERGÍA   \n",
       "1  Recepcionada por Unidad  ENERGÍA   \n",
       "2  Recepcionada por Unidad  ENERGÍA   \n",
       "3  Recepcionada por Unidad  ENERGÍA   \n",
       "4  Recepcionada por Unidad  ENERGÍA   \n",
       "\n",
       "                                          consejeria fecha_contestacion  \\\n",
       "0  Consejería de Medio Ambiente, Vivienda y Agric...                      \n",
       "1  Consejería de Medio Ambiente, Vivienda y Agric...                      \n",
       "2  Consejería de Medio Ambiente, Vivienda y Agric...                      \n",
       "3  Consejería de Medio Ambiente, Vivienda y Agric...                      \n",
       "4  Consejería de Medio Ambiente, Vivienda y Agric...                      \n",
       "\n",
       "  canal_entrada        fecha_entrada subtema  \n",
       "0      INTERNET  2022-01-28 00:00:00     N/A  \n",
       "1      INTERNET  2022-03-28 00:00:00     N/A  \n",
       "2      INTERNET  2022-03-23 00:00:00     N/A  \n",
       "3      INTERNET  2022-01-24 00:00:00     N/A  \n",
       "4      INTERNET  2022-03-29 00:00:00     N/A  "
      ]
     },
     "execution_count": 11,
     "metadata": {},
     "output_type": "execute_result"
    }
   ],
   "source": [
    "# este código no es necesario que lo entendamos ahora, más adelante según avancen las lecciones lo iremos entendiendo mejor!\n",
    "df_json2 = df_json[\"data\"].apply(pd.Series)\n",
    "df_json2.head()"
   ]
  },
  {
   "cell_type": "code",
   "execution_count": 13,
   "metadata": {},
   "outputs": [
    {
     "name": "stdout",
     "output_type": "stream",
     "text": [
      "CPU times: user 0 ns, sys: 0 ns, total: 0 ns\n",
      "Wall time: 7.63 µs\n"
     ]
    },
    {
     "data": {
      "text/html": [
       "<div>\n",
       "<style scoped>\n",
       "    .dataframe tbody tr th:only-of-type {\n",
       "        vertical-align: middle;\n",
       "    }\n",
       "\n",
       "    .dataframe tbody tr th {\n",
       "        vertical-align: top;\n",
       "    }\n",
       "\n",
       "    .dataframe thead th {\n",
       "        text-align: right;\n",
       "    }\n",
       "</style>\n",
       "<table border=\"1\" class=\"dataframe\">\n",
       "  <thead>\n",
       "    <tr style=\"text-align: right;\">\n",
       "      <th></th>\n",
       "      <th>Unnamed: 0</th>\n",
       "      <th>lon</th>\n",
       "      <th>lat</th>\n",
       "      <th>locality</th>\n",
       "      <th>year</th>\n",
       "      <th>month</th>\n",
       "      <th>kingdom</th>\n",
       "      <th>class</th>\n",
       "      <th>family</th>\n",
       "      <th>genus</th>\n",
       "      <th>species</th>\n",
       "      <th>new</th>\n",
       "      <th>state</th>\n",
       "      <th>country</th>\n",
       "      <th>fecha</th>\n",
       "      <th>day</th>\n",
       "      <th>number_ind</th>\n",
       "    </tr>\n",
       "  </thead>\n",
       "  <tbody>\n",
       "    <tr>\n",
       "      <th>0</th>\n",
       "      <td>22</td>\n",
       "      <td>-70.7167</td>\n",
       "      <td>43.075</td>\n",
       "      <td>New Castle</td>\n",
       "      <td>1900</td>\n",
       "      <td>5.0</td>\n",
       "      <td>Chromista</td>\n",
       "      <td>Phaeophyceae</td>\n",
       "      <td>Fucaceae</td>\n",
       "      <td>Fucus</td>\n",
       "      <td>Fucus vesiculosus</td>\n",
       "      <td>43.075,-70.7167</td>\n",
       "      <td>New Hampshire</td>\n",
       "      <td>United States</td>\n",
       "      <td>1900-05-01</td>\n",
       "      <td>1</td>\n",
       "      <td>4</td>\n",
       "    </tr>\n",
       "    <tr>\n",
       "      <th>1</th>\n",
       "      <td>23</td>\n",
       "      <td>-70.7167</td>\n",
       "      <td>43.075</td>\n",
       "      <td>New Castle</td>\n",
       "      <td>1900</td>\n",
       "      <td>5.0</td>\n",
       "      <td>Chromista</td>\n",
       "      <td>Phaeophyceae</td>\n",
       "      <td>Fucaceae</td>\n",
       "      <td>Fucus</td>\n",
       "      <td>Fucus vesiculosus</td>\n",
       "      <td>43.075,-70.7167</td>\n",
       "      <td>New Hampshire</td>\n",
       "      <td>United States</td>\n",
       "      <td>1900-05-01</td>\n",
       "      <td>1</td>\n",
       "      <td>3</td>\n",
       "    </tr>\n",
       "  </tbody>\n",
       "</table>\n",
       "</div>"
      ],
      "text/plain": [
       "   Unnamed: 0      lon     lat    locality  year  month    kingdom  \\\n",
       "0          22 -70.7167  43.075  New Castle  1900    5.0  Chromista   \n",
       "1          23 -70.7167  43.075  New Castle  1900    5.0  Chromista   \n",
       "\n",
       "          class    family  genus            species              new  \\\n",
       "0  Phaeophyceae  Fucaceae  Fucus  Fucus vesiculosus  43.075,-70.7167   \n",
       "1  Phaeophyceae  Fucaceae  Fucus  Fucus vesiculosus  43.075,-70.7167   \n",
       "\n",
       "           state        country       fecha  day  number_ind  \n",
       "0  New Hampshire  United States  1900-05-01    1           4  \n",
       "1  New Hampshire  United States  1900-05-01    1           3  "
      ]
     },
     "execution_count": 13,
     "metadata": {},
     "output_type": "execute_result"
    }
   ],
   "source": [
    "# lectura pickle\n",
    "\n",
    "%time\n",
    "pd.read_pickle(\"Pandas-II/algas.pickle\").head(2)"
   ]
  },
  {
   "cell_type": "markdown",
   "metadata": {},
   "source": [
    "Para poner el práctica el read_clipboard elegir alguna tabla que os podaís encontrar en google y usad dicho método para traer los datos al jupyter notebook. Una vez que los hayáis cargado, guardad esos datos en los siguientes formatos:\n",
    "\n",
    "- csv\n",
    "- excel\n",
    "- json\n",
    "- pickle"
   ]
  },
  {
   "cell_type": "code",
   "execution_count": 15,
   "metadata": {},
   "outputs": [
    {
     "data": {
      "text/html": [
       "<div>\n",
       "<style scoped>\n",
       "    .dataframe tbody tr th:only-of-type {\n",
       "        vertical-align: middle;\n",
       "    }\n",
       "\n",
       "    .dataframe tbody tr th {\n",
       "        vertical-align: top;\n",
       "    }\n",
       "\n",
       "    .dataframe thead th {\n",
       "        text-align: right;\n",
       "    }\n",
       "</style>\n",
       "<table border=\"1\" class=\"dataframe\">\n",
       "  <thead>\n",
       "    <tr style=\"text-align: right;\">\n",
       "      <th></th>\n",
       "      <th>Pandas-II/</th>\n",
       "    </tr>\n",
       "  </thead>\n",
       "  <tbody>\n",
       "  </tbody>\n",
       "</table>\n",
       "</div>"
      ],
      "text/plain": [
       "Empty DataFrame\n",
       "Columns: [Pandas-II/]\n",
       "Index: []"
      ]
     },
     "execution_count": 15,
     "metadata": {},
     "output_type": "execute_result"
    }
   ],
   "source": [
    "df_clipboard = pd.read_clipboard(sep=\",\")\n",
    "df_clipboard.head()"
   ]
  },
  {
   "cell_type": "code",
   "execution_count": 20,
   "metadata": {},
   "outputs": [],
   "source": [
    "# guardar csv\n",
    "df_clipboard.to_csv(\"Pandas-II/ocupación_2.csv\")"
   ]
  },
  {
   "cell_type": "code",
   "execution_count": 21,
   "metadata": {},
   "outputs": [],
   "source": [
    "# guardar en excel\n",
    "df_clipboard.to_excel(\"Pandas-II/ocupación_2.xlsx\")"
   ]
  },
  {
   "cell_type": "code",
   "execution_count": 22,
   "metadata": {},
   "outputs": [],
   "source": [
    "# guardar en formato json\n",
    "\n",
    "df_clipboard.to_json(\"Pandas-II/ocupación_2.json\")"
   ]
  },
  {
   "cell_type": "code",
   "execution_count": 23,
   "metadata": {},
   "outputs": [],
   "source": [
    "# guardar en formato pickle\n",
    "\n",
    "df_clipboard.to_pickle(\"Pandas-II/ocupación_2.pickle\")"
   ]
  }
 ],
 "metadata": {
  "kernelspec": {
   "display_name": "Python 3.9.13 ('base')",
   "language": "python",
   "name": "python3"
  },
  "language_info": {
   "codemirror_mode": {
    "name": "ipython",
    "version": 3
   },
   "file_extension": ".py",
   "mimetype": "text/x-python",
   "name": "python",
   "nbconvert_exporter": "python",
   "pygments_lexer": "ipython3",
   "version": "3.9.13"
  },
  "orig_nbformat": 4,
  "vscode": {
   "interpreter": {
    "hash": "f2104d434ce3092b7c07d5af98c90652611c7ad655b2a72b59e9e675e449bc7b"
   }
  }
 },
 "nbformat": 4,
 "nbformat_minor": 2
}

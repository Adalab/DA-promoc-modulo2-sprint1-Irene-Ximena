{
 "cells": [
  {
   "attachments": {},
   "cell_type": "markdown",
   "metadata": {},
   "source": [
    "## Pair Programming Pandas VI\n",
    "\n",
    "Es el momento de poner en práctica los groupby de pandas. Para esto vamos a trabajar con el csv creado en el ejercicio de pair programming anterior.\n",
    "El objetivo de este ejercicio es agrupar los datos para contestar las siguientes preguntas:"
   ]
  },
  {
   "cell_type": "code",
   "execution_count": 1,
   "metadata": {},
   "outputs": [],
   "source": [
    "import pandas as pd\n",
    "import os"
   ]
  },
  {
   "cell_type": "code",
   "execution_count": 25,
   "metadata": {},
   "outputs": [],
   "source": [
    "import datetime"
   ]
  },
  {
   "cell_type": "code",
   "execution_count": 3,
   "metadata": {},
   "outputs": [
    {
     "data": {
      "text/html": [
       "<div>\n",
       "<style scoped>\n",
       "    .dataframe tbody tr th:only-of-type {\n",
       "        vertical-align: middle;\n",
       "    }\n",
       "\n",
       "    .dataframe tbody tr th {\n",
       "        vertical-align: top;\n",
       "    }\n",
       "\n",
       "    .dataframe thead th {\n",
       "        text-align: right;\n",
       "    }\n",
       "</style>\n",
       "<table border=\"1\" class=\"dataframe\">\n",
       "  <thead>\n",
       "    <tr style=\"text-align: right;\">\n",
       "      <th></th>\n",
       "      <th>case_number</th>\n",
       "      <th>year</th>\n",
       "      <th>type</th>\n",
       "      <th>country</th>\n",
       "      <th>area</th>\n",
       "      <th>location</th>\n",
       "      <th>activity</th>\n",
       "      <th>name</th>\n",
       "      <th>sex_</th>\n",
       "      <th>age</th>\n",
       "      <th>time</th>\n",
       "      <th>species_</th>\n",
       "      <th>href</th>\n",
       "      <th>fatal_(y/n)</th>\n",
       "      <th>injury</th>\n",
       "      <th>date</th>\n",
       "    </tr>\n",
       "  </thead>\n",
       "  <tbody>\n",
       "    <tr>\n",
       "      <th>0</th>\n",
       "      <td>2018.06.25</td>\n",
       "      <td>2018.0</td>\n",
       "      <td>Boating</td>\n",
       "      <td>USA</td>\n",
       "      <td>California</td>\n",
       "      <td>Oceanside, San Diego County</td>\n",
       "      <td>Paddling</td>\n",
       "      <td>Julie Wolfe</td>\n",
       "      <td>F</td>\n",
       "      <td>57</td>\n",
       "      <td>18h00</td>\n",
       "      <td>White shark</td>\n",
       "      <td>http://sharkattackfile.net/spreadsheets/pdf_di...</td>\n",
       "      <td>N</td>\n",
       "      <td>No injury to occupant, outrigger canoe and pad...</td>\n",
       "      <td>25-Jun-2018</td>\n",
       "    </tr>\n",
       "    <tr>\n",
       "      <th>1</th>\n",
       "      <td>2018.06.03.a</td>\n",
       "      <td>2018.0</td>\n",
       "      <td>Unprovoked</td>\n",
       "      <td>BRAZIL</td>\n",
       "      <td>Pernambuco</td>\n",
       "      <td>Piedade Beach, Recife</td>\n",
       "      <td>Swimming</td>\n",
       "      <td>Jose Ernesto da Silva</td>\n",
       "      <td>M</td>\n",
       "      <td>18</td>\n",
       "      <td>Late afternoon</td>\n",
       "      <td>Tiger shark</td>\n",
       "      <td>http://sharkattackfile.net/spreadsheets/pdf_di...</td>\n",
       "      <td>Y</td>\n",
       "      <td>FATAL</td>\n",
       "      <td>03-Jun-2018</td>\n",
       "    </tr>\n",
       "  </tbody>\n",
       "</table>\n",
       "</div>"
      ],
      "text/plain": [
       "    case_number    year        type country        area  \\\n",
       "0    2018.06.25  2018.0     Boating     USA  California   \n",
       "1  2018.06.03.a  2018.0  Unprovoked  BRAZIL  Pernambuco   \n",
       "\n",
       "                      location  activity                    name sex_ age  \\\n",
       "0  Oceanside, San Diego County  Paddling             Julie Wolfe    F  57   \n",
       "1        Piedade Beach, Recife  Swimming  Jose Ernesto da Silva     M  18   \n",
       "\n",
       "             time     species_  \\\n",
       "0           18h00  White shark   \n",
       "1  Late afternoon  Tiger shark   \n",
       "\n",
       "                                                href fatal_(y/n)  \\\n",
       "0  http://sharkattackfile.net/spreadsheets/pdf_di...           N   \n",
       "1  http://sharkattackfile.net/spreadsheets/pdf_di...           Y   \n",
       "\n",
       "                                              injury         date  \n",
       "0  No injury to occupant, outrigger canoe and pad...  25-Jun-2018  \n",
       "1                                              FATAL  03-Jun-2018  "
      ]
     },
     "execution_count": 3,
     "metadata": {},
     "output_type": "execute_result"
    }
   ],
   "source": [
    "df= pd.read_csv(\"5.pandas_mergeado.csv\", index_col=0)\n",
    "df.head(2)"
   ]
  },
  {
   "attachments": {},
   "cell_type": "markdown",
   "metadata": {},
   "source": [
    "1. ¿Cuántos ataques hubo por país? Devuelve un DataFrame.\n",
    "\n",
    "📌 NOTA Ordena los resultados de mayor a menor. Esto todavía no lo hemos visto, pero un DataFrame lo podemos ordenar con .sort_values(). Aquí tenéis una explicación de cómo hacerlo."
   ]
  },
  {
   "cell_type": "code",
   "execution_count": 5,
   "metadata": {},
   "outputs": [
    {
     "data": {
      "text/plain": [
       "Index(['case_number', 'year', 'type', 'country', 'area', 'location',\n",
       "       'activity', 'name', 'sex_', 'age', 'time', 'species_', 'href',\n",
       "       'fatal_(y/n)', 'injury', 'date'],\n",
       "      dtype='object')"
      ]
     },
     "execution_count": 5,
     "metadata": {},
     "output_type": "execute_result"
    }
   ],
   "source": [
    "df.columns"
   ]
  },
  {
   "cell_type": "code",
   "execution_count": 13,
   "metadata": {},
   "outputs": [
    {
     "data": {
      "text/plain": [
       "country\n",
       "USA             741\n",
       "AUSTRALIA       343\n",
       "SOUTH AFRICA    234\n",
       "BAHAMAS          29\n",
       "NEW ZEALAND      21\n",
       "               ... \n",
       "PHILIPPINES       1\n",
       "RED SEA?          1\n",
       "EL SALVADOR       1\n",
       "ROATAN            1\n",
       "LIBYA             1\n",
       "Name: case_number, Length: 95, dtype: int64"
      ]
     },
     "execution_count": 13,
     "metadata": {},
     "output_type": "execute_result"
    }
   ],
   "source": [
    "df.groupby(\"country\")[\"case_number\"].count().sort_values(ascending=False)"
   ]
  },
  {
   "attachments": {},
   "cell_type": "markdown",
   "metadata": {},
   "source": [
    "2. ¿Cuántos ataques ha habido por año? Devuelve un DataFrame. De nuevo ordena los resultados de mayor a menor."
   ]
  },
  {
   "cell_type": "code",
   "execution_count": 14,
   "metadata": {},
   "outputs": [],
   "source": [
    "df2= df.groupby(\"year\")[\"case_number\"].count().sort_values(ascending=False)"
   ]
  },
  {
   "cell_type": "code",
   "execution_count": 16,
   "metadata": {},
   "outputs": [
    {
     "data": {
      "text/plain": [
       "pandas.core.series.Series"
      ]
     },
     "execution_count": 16,
     "metadata": {},
     "output_type": "execute_result"
    }
   ],
   "source": [
    "type(df2)"
   ]
  },
  {
   "cell_type": "code",
   "execution_count": 17,
   "metadata": {},
   "outputs": [
    {
     "data": {
      "text/html": [
       "<div>\n",
       "<style scoped>\n",
       "    .dataframe tbody tr th:only-of-type {\n",
       "        vertical-align: middle;\n",
       "    }\n",
       "\n",
       "    .dataframe tbody tr th {\n",
       "        vertical-align: top;\n",
       "    }\n",
       "\n",
       "    .dataframe thead th {\n",
       "        text-align: right;\n",
       "    }\n",
       "</style>\n",
       "<table border=\"1\" class=\"dataframe\">\n",
       "  <thead>\n",
       "    <tr style=\"text-align: right;\">\n",
       "      <th></th>\n",
       "      <th>year</th>\n",
       "      <th>case_number</th>\n",
       "    </tr>\n",
       "  </thead>\n",
       "  <tbody>\n",
       "    <tr>\n",
       "      <th>0</th>\n",
       "      <td>0.0</td>\n",
       "      <td>125</td>\n",
       "    </tr>\n",
       "    <tr>\n",
       "      <th>1</th>\n",
       "      <td>2015.0</td>\n",
       "      <td>68</td>\n",
       "    </tr>\n",
       "    <tr>\n",
       "      <th>2</th>\n",
       "      <td>2007.0</td>\n",
       "      <td>57</td>\n",
       "    </tr>\n",
       "    <tr>\n",
       "      <th>3</th>\n",
       "      <td>2012.0</td>\n",
       "      <td>54</td>\n",
       "    </tr>\n",
       "    <tr>\n",
       "      <th>4</th>\n",
       "      <td>2002.0</td>\n",
       "      <td>53</td>\n",
       "    </tr>\n",
       "    <tr>\n",
       "      <th>...</th>\n",
       "      <td>...</td>\n",
       "      <td>...</td>\n",
       "    </tr>\n",
       "    <tr>\n",
       "      <th>142</th>\n",
       "      <td>1784.0</td>\n",
       "      <td>1</td>\n",
       "    </tr>\n",
       "    <tr>\n",
       "      <th>143</th>\n",
       "      <td>1783.0</td>\n",
       "      <td>1</td>\n",
       "    </tr>\n",
       "    <tr>\n",
       "      <th>144</th>\n",
       "      <td>1787.0</td>\n",
       "      <td>1</td>\n",
       "    </tr>\n",
       "    <tr>\n",
       "      <th>145</th>\n",
       "      <td>1779.0</td>\n",
       "      <td>1</td>\n",
       "    </tr>\n",
       "    <tr>\n",
       "      <th>146</th>\n",
       "      <td>1780.0</td>\n",
       "      <td>1</td>\n",
       "    </tr>\n",
       "  </tbody>\n",
       "</table>\n",
       "<p>147 rows × 2 columns</p>\n",
       "</div>"
      ],
      "text/plain": [
       "       year  case_number\n",
       "0       0.0          125\n",
       "1    2015.0           68\n",
       "2    2007.0           57\n",
       "3    2012.0           54\n",
       "4    2002.0           53\n",
       "..      ...          ...\n",
       "142  1784.0            1\n",
       "143  1783.0            1\n",
       "144  1787.0            1\n",
       "145  1779.0            1\n",
       "146  1780.0            1\n",
       "\n",
       "[147 rows x 2 columns]"
      ]
     },
     "execution_count": 17,
     "metadata": {},
     "output_type": "execute_result"
    }
   ],
   "source": [
    "df2.reset_index()"
   ]
  },
  {
   "attachments": {},
   "cell_type": "markdown",
   "metadata": {},
   "source": [
    "3. ¿Cuántos ataques hubo por año y sexo? Devolved un DataFrame solo del año 2000 en adelante."
   ]
  },
  {
   "cell_type": "code",
   "execution_count": 23,
   "metadata": {},
   "outputs": [],
   "source": [
    "df3= df[df[\"year\"] > 2000]"
   ]
  },
  {
   "cell_type": "code",
   "execution_count": 24,
   "metadata": {},
   "outputs": [
    {
     "data": {
      "text/html": [
       "<div>\n",
       "<style scoped>\n",
       "    .dataframe tbody tr th:only-of-type {\n",
       "        vertical-align: middle;\n",
       "    }\n",
       "\n",
       "    .dataframe tbody tr th {\n",
       "        vertical-align: top;\n",
       "    }\n",
       "\n",
       "    .dataframe thead th {\n",
       "        text-align: right;\n",
       "    }\n",
       "</style>\n",
       "<table border=\"1\" class=\"dataframe\">\n",
       "  <thead>\n",
       "    <tr style=\"text-align: right;\">\n",
       "      <th></th>\n",
       "      <th>case_number</th>\n",
       "      <th>year</th>\n",
       "      <th>type</th>\n",
       "      <th>country</th>\n",
       "      <th>area</th>\n",
       "      <th>location</th>\n",
       "      <th>activity</th>\n",
       "      <th>name</th>\n",
       "      <th>sex_</th>\n",
       "      <th>age</th>\n",
       "      <th>time</th>\n",
       "      <th>species_</th>\n",
       "      <th>href</th>\n",
       "      <th>fatal_(y/n)</th>\n",
       "      <th>injury</th>\n",
       "      <th>date</th>\n",
       "    </tr>\n",
       "  </thead>\n",
       "  <tbody>\n",
       "    <tr>\n",
       "      <th>0</th>\n",
       "      <td>2018.06.25</td>\n",
       "      <td>2018.0</td>\n",
       "      <td>Boating</td>\n",
       "      <td>USA</td>\n",
       "      <td>California</td>\n",
       "      <td>Oceanside, San Diego County</td>\n",
       "      <td>Paddling</td>\n",
       "      <td>Julie Wolfe</td>\n",
       "      <td>F</td>\n",
       "      <td>57</td>\n",
       "      <td>18h00</td>\n",
       "      <td>White shark</td>\n",
       "      <td>http://sharkattackfile.net/spreadsheets/pdf_di...</td>\n",
       "      <td>N</td>\n",
       "      <td>No injury to occupant, outrigger canoe and pad...</td>\n",
       "      <td>25-Jun-2018</td>\n",
       "    </tr>\n",
       "    <tr>\n",
       "      <th>1</th>\n",
       "      <td>2018.06.03.a</td>\n",
       "      <td>2018.0</td>\n",
       "      <td>Unprovoked</td>\n",
       "      <td>BRAZIL</td>\n",
       "      <td>Pernambuco</td>\n",
       "      <td>Piedade Beach, Recife</td>\n",
       "      <td>Swimming</td>\n",
       "      <td>Jose Ernesto da Silva</td>\n",
       "      <td>M</td>\n",
       "      <td>18</td>\n",
       "      <td>Late afternoon</td>\n",
       "      <td>Tiger shark</td>\n",
       "      <td>http://sharkattackfile.net/spreadsheets/pdf_di...</td>\n",
       "      <td>Y</td>\n",
       "      <td>FATAL</td>\n",
       "      <td>03-Jun-2018</td>\n",
       "    </tr>\n",
       "  </tbody>\n",
       "</table>\n",
       "</div>"
      ],
      "text/plain": [
       "    case_number    year        type country        area  \\\n",
       "0    2018.06.25  2018.0     Boating     USA  California   \n",
       "1  2018.06.03.a  2018.0  Unprovoked  BRAZIL  Pernambuco   \n",
       "\n",
       "                      location  activity                    name sex_ age  \\\n",
       "0  Oceanside, San Diego County  Paddling             Julie Wolfe    F  57   \n",
       "1        Piedade Beach, Recife  Swimming  Jose Ernesto da Silva     M  18   \n",
       "\n",
       "             time     species_  \\\n",
       "0           18h00  White shark   \n",
       "1  Late afternoon  Tiger shark   \n",
       "\n",
       "                                                href fatal_(y/n)  \\\n",
       "0  http://sharkattackfile.net/spreadsheets/pdf_di...           N   \n",
       "1  http://sharkattackfile.net/spreadsheets/pdf_di...           Y   \n",
       "\n",
       "                                              injury         date  \n",
       "0  No injury to occupant, outrigger canoe and pad...  25-Jun-2018  \n",
       "1                                              FATAL  03-Jun-2018  "
      ]
     },
     "execution_count": 24,
     "metadata": {},
     "output_type": "execute_result"
    }
   ],
   "source": [
    "df3.head(2)"
   ]
  },
  {
   "cell_type": "code",
   "execution_count": 27,
   "metadata": {},
   "outputs": [
    {
     "data": {
      "text/plain": [
       "Index(['case_number', 'year', 'type', 'country', 'area', 'location',\n",
       "       'activity', 'name', 'sex_', 'age', 'time', 'species_', 'href',\n",
       "       'fatal_(y/n)', 'injury', 'date'],\n",
       "      dtype='object')"
      ]
     },
     "execution_count": 27,
     "metadata": {},
     "output_type": "execute_result"
    }
   ],
   "source": [
    "df3.columns"
   ]
  },
  {
   "cell_type": "code",
   "execution_count": 33,
   "metadata": {},
   "outputs": [],
   "source": [
    "df4= df3.groupby([\"sex_\",\"year\"])[\"case_number\"].count().sort_values(ascending=False)"
   ]
  },
  {
   "cell_type": "code",
   "execution_count": 39,
   "metadata": {},
   "outputs": [
    {
     "data": {
      "text/html": [
       "<div>\n",
       "<style scoped>\n",
       "    .dataframe tbody tr th:only-of-type {\n",
       "        vertical-align: middle;\n",
       "    }\n",
       "\n",
       "    .dataframe tbody tr th {\n",
       "        vertical-align: top;\n",
       "    }\n",
       "\n",
       "    .dataframe thead th {\n",
       "        text-align: right;\n",
       "    }\n",
       "</style>\n",
       "<table border=\"1\" class=\"dataframe\">\n",
       "  <thead>\n",
       "    <tr style=\"text-align: right;\">\n",
       "      <th></th>\n",
       "      <th>sex_</th>\n",
       "      <th>year</th>\n",
       "      <th>case_number</th>\n",
       "    </tr>\n",
       "  </thead>\n",
       "  <tbody>\n",
       "    <tr>\n",
       "      <th>0</th>\n",
       "      <td>M</td>\n",
       "      <td>2015.0</td>\n",
       "      <td>56</td>\n",
       "    </tr>\n",
       "    <tr>\n",
       "      <th>1</th>\n",
       "      <td>M</td>\n",
       "      <td>2002.0</td>\n",
       "      <td>47</td>\n",
       "    </tr>\n",
       "  </tbody>\n",
       "</table>\n",
       "</div>"
      ],
      "text/plain": [
       "  sex_    year  case_number\n",
       "0    M  2015.0           56\n",
       "1    M  2002.0           47"
      ]
     },
     "execution_count": 39,
     "metadata": {},
     "output_type": "execute_result"
    }
   ],
   "source": [
    "df5= df4.reset_index()\n",
    "df5.head(2)"
   ]
  },
  {
   "attachments": {},
   "cell_type": "markdown",
   "metadata": {},
   "source": [
    "4. Primero extraed solo las filas que correspondan a USA, AUSTRALIA y SOUTH AFRICA. ¿Cuántos de los ataques fueron letales por sexo? Devuelve un DataFrame."
   ]
  },
  {
   "cell_type": "code",
   "execution_count": 46,
   "metadata": {},
   "outputs": [
    {
     "data": {
      "text/html": [
       "<div>\n",
       "<style scoped>\n",
       "    .dataframe tbody tr th:only-of-type {\n",
       "        vertical-align: middle;\n",
       "    }\n",
       "\n",
       "    .dataframe tbody tr th {\n",
       "        vertical-align: top;\n",
       "    }\n",
       "\n",
       "    .dataframe thead th {\n",
       "        text-align: right;\n",
       "    }\n",
       "</style>\n",
       "<table border=\"1\" class=\"dataframe\">\n",
       "  <thead>\n",
       "    <tr style=\"text-align: right;\">\n",
       "      <th></th>\n",
       "      <th>case_number</th>\n",
       "      <th>year</th>\n",
       "      <th>type</th>\n",
       "      <th>country</th>\n",
       "      <th>area</th>\n",
       "      <th>location</th>\n",
       "      <th>activity</th>\n",
       "      <th>name</th>\n",
       "      <th>sex_</th>\n",
       "      <th>age</th>\n",
       "      <th>time</th>\n",
       "      <th>species_</th>\n",
       "      <th>href</th>\n",
       "      <th>fatal_(y/n)</th>\n",
       "      <th>injury</th>\n",
       "      <th>date</th>\n",
       "    </tr>\n",
       "  </thead>\n",
       "  <tbody>\n",
       "    <tr>\n",
       "      <th>41</th>\n",
       "      <td>2017.04.17.a</td>\n",
       "      <td>2017.0</td>\n",
       "      <td>Unprovoked</td>\n",
       "      <td>AUSTRALIA</td>\n",
       "      <td>Western Australia</td>\n",
       "      <td>Kelpies near Wylie Bay</td>\n",
       "      <td>Surfing</td>\n",
       "      <td>Laeticia Brouwer</td>\n",
       "      <td>F</td>\n",
       "      <td>17</td>\n",
       "      <td>16h00</td>\n",
       "      <td>White shark</td>\n",
       "      <td>http://sharkattackfile.net/spreadsheets/pdf_di...</td>\n",
       "      <td>Y</td>\n",
       "      <td>FATAL</td>\n",
       "      <td>17-Apr-2017</td>\n",
       "    </tr>\n",
       "    <tr>\n",
       "      <th>68</th>\n",
       "      <td>2016.06.05.a</td>\n",
       "      <td>2016.0</td>\n",
       "      <td>Unprovoked</td>\n",
       "      <td>AUSTRALIA</td>\n",
       "      <td>Western Australia</td>\n",
       "      <td>Mindarie</td>\n",
       "      <td>Diving</td>\n",
       "      <td>Doreen Collyer</td>\n",
       "      <td>F</td>\n",
       "      <td>60</td>\n",
       "      <td>11h30</td>\n",
       "      <td>3+ m shark</td>\n",
       "      <td>http://sharkattackfile.net/spreadsheets/pdf_di...</td>\n",
       "      <td>Y</td>\n",
       "      <td>FATAL</td>\n",
       "      <td>05-Jun-2016</td>\n",
       "    </tr>\n",
       "  </tbody>\n",
       "</table>\n",
       "</div>"
      ],
      "text/plain": [
       "     case_number    year        type    country               area  \\\n",
       "41  2017.04.17.a  2017.0  Unprovoked  AUSTRALIA  Western Australia   \n",
       "68  2016.06.05.a  2016.0  Unprovoked  AUSTRALIA  Western Australia   \n",
       "\n",
       "                  location activity              name sex_ age   time  \\\n",
       "41  Kelpies near Wylie Bay  Surfing  Laeticia Brouwer    F  17  16h00   \n",
       "68                Mindarie   Diving    Doreen Collyer    F  60  11h30   \n",
       "\n",
       "       species_                                               href  \\\n",
       "41  White shark  http://sharkattackfile.net/spreadsheets/pdf_di...   \n",
       "68   3+ m shark  http://sharkattackfile.net/spreadsheets/pdf_di...   \n",
       "\n",
       "   fatal_(y/n) injury         date  \n",
       "41           Y  FATAL  17-Apr-2017  \n",
       "68           Y  FATAL  05-Jun-2016  "
      ]
     },
     "execution_count": 46,
     "metadata": {},
     "output_type": "execute_result"
    }
   ],
   "source": [
    "df_paises = df[(((df['country'] == 'AUSTRALIA') | (df['country'] == 'USA') | (df['country'] == 'SOUTH AFRICA')) & (df['fatal_(y/n)'] == 'Y'))]\n",
    "df_paises.head(2)"
   ]
  },
  {
   "cell_type": "code",
   "execution_count": 47,
   "metadata": {},
   "outputs": [
    {
     "data": {
      "text/plain": [
       "Y    192\n",
       "Name: fatal_(y/n), dtype: int64"
      ]
     },
     "execution_count": 47,
     "metadata": {},
     "output_type": "execute_result"
    }
   ],
   "source": [
    "df_paises['fatal_(y/n)'].value_counts()"
   ]
  },
  {
   "cell_type": "code",
   "execution_count": 48,
   "metadata": {},
   "outputs": [
    {
     "data": {
      "text/plain": [
       "sex_\n",
       "F     20\n",
       "M    172\n",
       "Name: fatal_(y/n), dtype: int64"
      ]
     },
     "execution_count": 48,
     "metadata": {},
     "output_type": "execute_result"
    }
   ],
   "source": [
    "df_paises.groupby(\"sex_\")['fatal_(y/n)'].count()"
   ]
  },
  {
   "attachments": {},
   "cell_type": "markdown",
   "metadata": {},
   "source": [
    "5. Usando el DataFrame creado en el ejercicio anterior. ¿En qué país hubo más ataques?"
   ]
  },
  {
   "cell_type": "code",
   "execution_count": 55,
   "metadata": {},
   "outputs": [
    {
     "data": {
      "text/plain": [
       "741"
      ]
     },
     "execution_count": 55,
     "metadata": {},
     "output_type": "execute_result"
    }
   ],
   "source": [
    "df.groupby(\"country\")['case_number'].count().max()"
   ]
  },
  {
   "cell_type": "code",
   "execution_count": 57,
   "metadata": {},
   "outputs": [
    {
     "data": {
      "text/plain": [
       "USA                    True\n",
       "AUSTRALIA             False\n",
       "SOUTH AFRICA          False\n",
       "BAHAMAS               False\n",
       "NEW ZEALAND           False\n",
       "                      ...  \n",
       "GREENLAND             False\n",
       "ST. MAARTIN           False\n",
       "UNITED KINGDOM        False\n",
       "SWEDEN                False\n",
       "CEYLON (SRI LANKA)    False\n",
       "Name: country, Length: 95, dtype: bool"
      ]
     },
     "execution_count": 57,
     "metadata": {},
     "output_type": "execute_result"
    }
   ],
   "source": [
    "df[\"country\"].value_counts() == df.groupby(\"country\")['case_number'].count().max()"
   ]
  },
  {
   "attachments": {},
   "cell_type": "markdown",
   "metadata": {},
   "source": [
    "¿Qué y cuántos tipos de ataques hubo por país?"
   ]
  }
 ],
 "metadata": {
  "kernelspec": {
   "display_name": "base",
   "language": "python",
   "name": "python3"
  },
  "language_info": {
   "codemirror_mode": {
    "name": "ipython",
    "version": 3
   },
   "file_extension": ".py",
   "mimetype": "text/x-python",
   "name": "python",
   "nbconvert_exporter": "python",
   "pygments_lexer": "ipython3",
   "version": "3.9.13"
  },
  "orig_nbformat": 4,
  "vscode": {
   "interpreter": {
    "hash": "f2104d434ce3092b7c07d5af98c90652611c7ad655b2a72b59e9e675e449bc7b"
   }
  }
 },
 "nbformat": 4,
 "nbformat_minor": 2
}
